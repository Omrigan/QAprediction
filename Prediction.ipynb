{
 "cells": [
  {
   "cell_type": "code",
   "execution_count": 49,
   "metadata": {},
   "outputs": [
    {
     "name": "stdout",
     "output_type": "stream",
     "text": [
      "env: THEANO_FLAGS=\"device=gpu2\"\n"
     ]
    }
   ],
   "source": [
    "%env THEANO_FLAGS=\"device=gpu2\"\n",
    "import theano\n",
    "import lasagne\n",
    "\n",
    "import theano.tensor as T\n",
    "import sys\n",
    "import json\n",
    "import numpy as np\n",
    "sys.setrecursionlimit(100000)\n",
    "floatX = theano.config.floatX\n",
    "from nltk.stem.snowball import SnowballStemmer\n",
    "import re\n",
    "from collections import Counter, defaultdict\n",
    "from gensim import models\n",
    "import random\n",
    "from sklearn.model_selection import train_test_split\n",
    "from tqdm import tqdm_notebook, tnrange"
   ]
  },
  {
   "cell_type": "markdown",
   "metadata": {
    "collapsed": true
   },
   "source": [
    "## DSSM and question-answering\n",
    "Here we try to train DSSM model to find the best answer "
   ]
  },
  {
   "cell_type": "code",
   "execution_count": 3,
   "metadata": {
    "collapsed": true
   },
   "outputs": [],
   "source": [
    "#!pip install gensim --upgrade --target=/anaconda3/lib/python3.5/site-packages"
   ]
  },
  {
   "cell_type": "code",
   "execution_count": 4,
   "metadata": {
    "collapsed": true
   },
   "outputs": [],
   "source": [
    "stemmer = SnowballStemmer(\"russian\")"
   ]
  },
  {
   "cell_type": "code",
   "execution_count": 5,
   "metadata": {
    "collapsed": true
   },
   "outputs": [],
   "source": [
    "questions_all = json.load(open('questions.json'))"
   ]
  },
  {
   "cell_type": "code",
   "execution_count": 6,
   "metadata": {
    "collapsed": true
   },
   "outputs": [],
   "source": [
    "questions_train, questions_test = train_test_split(questions_all, test_size = 0.1)"
   ]
  },
  {
   "cell_type": "code",
   "execution_count": null,
   "metadata": {
    "collapsed": true
   },
   "outputs": [],
   "source": []
  },
  {
   "cell_type": "code",
   "execution_count": 7,
   "metadata": {
    "collapsed": true
   },
   "outputs": [],
   "source": [
    "def text_to_tokens(txt):\n",
    "    txt = txt.lower()\n",
    "    txt = re.subn('<[a-z\\s]*>', '', txt)[0]\n",
    "    #txt = re.sub('http\\w*\\s', '', txt)\n",
    "    r = re.split('(\\s|\\-|\\.|\\,)', txt)\n",
    "    r = (re.subn('[^А-Яа-яA-Za-z\\-\\.\\,\\s]', '', _)[0] for _ in r)\n",
    "    r = [_ for _ in r if len(_)>1 and 'http' not in _]\n",
    "    return r"
   ]
  },
  {
   "cell_type": "code",
   "execution_count": 8,
   "metadata": {
    "scrolled": true
   },
   "outputs": [
    {
     "data": {
      "application/vnd.jupyter.widget-view+json": {
       "model_id": "df01bd435ed945488d43eec656da92c9"
      }
     },
     "metadata": {},
     "output_type": "display_data"
    },
    {
     "name": "stdout",
     "output_type": "stream",
     "text": [
      "\n"
     ]
    }
   ],
   "source": [
    "corpus = []\n",
    "tokens = Counter()\n",
    "for q in tqdm_notebook(questions_train):\n",
    "    corpus.append(text_to_tokens(q['question']))\n",
    "    for a in q['answers']:   \n",
    "        r = text_to_tokens(a['text'])\n",
    "        corpus.append(r)\n",
    "        #tokens |= Counter(r)\n",
    "#len(tokens)"
   ]
  },
  {
   "cell_type": "code",
   "execution_count": 9,
   "metadata": {
    "scrolled": true
   },
   "outputs": [
    {
     "data": {
      "text/plain": [
       "['почему',\n",
       " 'диего',\n",
       " 'симеоне',\n",
       " 'почти',\n",
       " 'всегда',\n",
       " 'на',\n",
       " 'матче',\n",
       " 'черном',\n",
       " 'наряде']"
      ]
     },
     "execution_count": 9,
     "metadata": {},
     "output_type": "execute_result"
    }
   ],
   "source": [
    "corpus[11]"
   ]
  },
  {
   "cell_type": "code",
   "execution_count": 10,
   "metadata": {
    "collapsed": true
   },
   "outputs": [],
   "source": [
    "word2vec_size=512"
   ]
  },
  {
   "cell_type": "code",
   "execution_count": 11,
   "metadata": {
    "collapsed": true
   },
   "outputs": [],
   "source": [
    "w2v = models.Word2Vec(corpus, min_count=1, size=word2vec_size, workers=10)"
   ]
  },
  {
   "cell_type": "code",
   "execution_count": 12,
   "metadata": {},
   "outputs": [
    {
     "data": {
      "text/plain": [
       "1"
      ]
     },
     "execution_count": 12,
     "metadata": {},
     "output_type": "execute_result"
    }
   ],
   "source": [
    "1"
   ]
  },
  {
   "cell_type": "code",
   "execution_count": 13,
   "metadata": {
    "collapsed": true
   },
   "outputs": [],
   "source": [
    "unseen_cnt = 0"
   ]
  },
  {
   "cell_type": "code",
   "execution_count": 14,
   "metadata": {},
   "outputs": [
    {
     "data": {
      "text/plain": [
       "(17, 512)"
      ]
     },
     "execution_count": 14,
     "metadata": {},
     "output_type": "execute_result"
    }
   ],
   "source": [
    "def text_to_matrix(seq):\n",
    "    global unseen_cnt\n",
    "    matrix = []\n",
    "    for i, w in enumerate(text_to_tokens(seq)):\n",
    "        if w not in w2v.wv.vocab:\n",
    "            matrix.append(np.zeros(word2vec_size))\n",
    "            unseen_cnt+=1\n",
    "        else:\n",
    "            matrix.append(w2v[w])\n",
    "    return np.matrix(matrix)\n",
    "text_to_matrix(questions_train[0]['question']).shape"
   ]
  },
  {
   "cell_type": "code",
   "execution_count": 15,
   "metadata": {},
   "outputs": [
    {
     "data": {
      "text/plain": [
       "[('королева', 0.8363220691680908),\n",
       " ('мария', 0.8217662572860718),\n",
       " ('анна', 0.7755671739578247),\n",
       " ('елизавета', 0.7724213600158691),\n",
       " ('екатерина', 0.7592296600341797),\n",
       " ('уильям', 0.7533628344535828),\n",
       " ('короля', 0.7475455403327942),\n",
       " ('принцесса', 0.7453835010528564),\n",
       " ('ким', 0.7381781339645386),\n",
       " ('бенедикт', 0.7361153364181519)]"
      ]
     },
     "execution_count": 15,
     "metadata": {},
     "output_type": "execute_result"
    }
   ],
   "source": [
    "w2v.most_similar(['король', 'женщина'], ['мужчина'])"
   ]
  },
  {
   "cell_type": "code",
   "execution_count": 16,
   "metadata": {
    "collapsed": true
   },
   "outputs": [],
   "source": [
    "epochs = 0"
   ]
  },
  {
   "cell_type": "code",
   "execution_count": 17,
   "metadata": {
    "collapsed": true
   },
   "outputs": [],
   "source": [
    "topics = set()\n",
    "topics_to_id = defaultdict(lambda:0)\n",
    "id_to_topics = {}\n",
    "for q in questions_train:\n",
    "    topics|=set([_.lower() for _ in q['topics']])\n",
    "for i,t in enumerate(topics):\n",
    "    topics_to_id[t] = i\n",
    "    id_to_topics[i] = t"
   ]
  },
  {
   "cell_type": "code",
   "execution_count": 18,
   "metadata": {},
   "outputs": [
    {
     "data": {
      "text/plain": [
       "0"
      ]
     },
     "execution_count": 18,
     "metadata": {},
     "output_type": "execute_result"
    }
   ],
   "source": [
    "unseen_cnt"
   ]
  },
  {
   "cell_type": "code",
   "execution_count": 19,
   "metadata": {},
   "outputs": [
    {
     "name": "stdout",
     "output_type": "stream",
     "text": [
      "8578\n"
     ]
    },
    {
     "data": {
      "text/plain": [
       "111830"
      ]
     },
     "execution_count": 19,
     "metadata": {},
     "output_type": "execute_result"
    }
   ],
   "source": [
    "print(len(topics))\n",
    "len(questions_train)"
   ]
  },
  {
   "cell_type": "code",
   "execution_count": 20,
   "metadata": {},
   "outputs": [
    {
     "data": {
      "text/plain": [
       "208"
      ]
     },
     "execution_count": 20,
     "metadata": {},
     "output_type": "execute_result"
    }
   ],
   "source": [
    "#del corpus\n",
    "import gc\n",
    "gc.collect()"
   ]
  },
  {
   "cell_type": "code",
   "execution_count": 21,
   "metadata": {
    "scrolled": true
   },
   "outputs": [
    {
     "data": {
      "text/plain": [
       "{'answers': [],\n",
       " 'question': 'Что посмотреть из новинок фестивального кино ?',\n",
       " 'topics': ['Кино']}"
      ]
     },
     "execution_count": 21,
     "metadata": {},
     "output_type": "execute_result"
    }
   ],
   "source": [
    "questions_train[1]"
   ]
  },
  {
   "cell_type": "code",
   "execution_count": 22,
   "metadata": {},
   "outputs": [
    {
     "data": {
      "text/plain": [
       "5984"
      ]
     },
     "execution_count": 22,
     "metadata": {},
     "output_type": "execute_result"
    }
   ],
   "source": [
    "def topics_to_vec(cur_topics):\n",
    "    out = np.zeros((len(topics), ))\n",
    "    for t in cur_topics:\n",
    "        out[topics_to_id[t.lower()]] = 1\n",
    "    return out\n",
    "topics_to_vec(questions_train[1]['topics']).argmax()"
   ]
  },
  {
   "cell_type": "code",
   "execution_count": null,
   "metadata": {
    "scrolled": true
   },
   "outputs": [],
   "source": []
  },
  {
   "cell_type": "code",
   "execution_count": 23,
   "metadata": {
    "collapsed": true
   },
   "outputs": [],
   "source": [
    "#print(max((_ for _ in enumerate(question_postprocessed)), key=lambda _: len(_[1][1])))"
   ]
  },
  {
   "cell_type": "code",
   "execution_count": 24,
   "metadata": {
    "collapsed": true
   },
   "outputs": [],
   "source": [
    "input_questions = T.tensor3('input sequence','float32')\n",
    "input_positive_answers = T.tensor3('input sequence',\"float32\")\n",
    "input_negative_answers = T.tensor3('input sequence','float32')"
   ]
  },
  {
   "cell_type": "code",
   "execution_count": 25,
   "metadata": {
    "collapsed": true
   },
   "outputs": [],
   "source": [
    "output_topics = T.matrix('batch topics', 'float32')"
   ]
  },
  {
   "cell_type": "code",
   "execution_count": 26,
   "metadata": {
    "collapsed": true
   },
   "outputs": [],
   "source": [
    "target_space_n = 256"
   ]
  },
  {
   "cell_type": "code",
   "execution_count": 27,
   "metadata": {
    "collapsed": true
   },
   "outputs": [],
   "source": [
    "class question:\n",
    "    l = lasagne.layers.InputLayer(shape=(None, None, word2vec_size))\n",
    "    l = lasagne.layers.LSTMLayer(l, 256, grad_clipping=5, only_return_final=True)\n",
    "    out = lasagne.layers.DenseLayer(l, target_space_n, nonlinearity=None)"
   ]
  },
  {
   "cell_type": "code",
   "execution_count": 28,
   "metadata": {
    "collapsed": true
   },
   "outputs": [],
   "source": [
    "class answer:\n",
    "    l  = lasagne.layers.InputLayer(shape=(None, None, word2vec_size))\n",
    "    l = lasagne.layers.LSTMLayer(l, 256, grad_clipping=5, only_return_final=True)\n",
    "    out = lasagne.layers.DenseLayer(l, target_space_n, nonlinearity=None)"
   ]
  },
  {
   "cell_type": "code",
   "execution_count": null,
   "metadata": {
    "collapsed": true
   },
   "outputs": [],
   "source": [
    "\n",
    "    \n",
    "    \n"
   ]
  },
  {
   "cell_type": "code",
   "execution_count": null,
   "metadata": {
    "collapsed": true
   },
   "outputs": [],
   "source": []
  },
  {
   "cell_type": "code",
   "execution_count": 29,
   "metadata": {},
   "outputs": [
    {
     "data": {
      "text/plain": [
       "{'трансгендер': <gensim.models.keyedvectors.Vocab at 0x7f7122a2a518>,\n",
       " 'пледы': <gensim.models.keyedvectors.Vocab at 0x7f71224a0fd0>,\n",
       " 'горембедойнегативом': <gensim.models.keyedvectors.Vocab at 0x7f712cbdb160>,\n",
       " 'доминорования': <gensim.models.keyedvectors.Vocab at 0x7f7123857ba8>,\n",
       " 'htmlпара': <gensim.models.keyedvectors.Vocab at 0x7f712d176780>,\n",
       " 'окислить': <gensim.models.keyedvectors.Vocab at 0x7f712d1766d8>,\n",
       " 'макэвои': <gensim.models.keyedvectors.Vocab at 0x7f712ce53a90>,\n",
       " 'sguschenka': <gensim.models.keyedvectors.Vocab at 0x7f712cfef320>,\n",
       " 'прижало': <gensim.models.keyedvectors.Vocab at 0x7f712cbc5080>,\n",
       " 'индифференции': <gensim.models.keyedvectors.Vocab at 0x7f712cae8f98>,\n",
       " 'блефует': <gensim.models.keyedvectors.Vocab at 0x7f712cae8ef0>,\n",
       " 'коммуникативные': <gensim.models.keyedvectors.Vocab at 0x7f712567beb8>,\n",
       " 'отказала': <gensim.models.keyedvectors.Vocab at 0x7f712772d400>,\n",
       " 'сотрясающим': <gensim.models.keyedvectors.Vocab at 0x7f712c51d2b0>,\n",
       " 'соловьиные': <gensim.models.keyedvectors.Vocab at 0x7f712c6f1ef0>,\n",
       " 'routier': <gensim.models.keyedvectors.Vocab at 0x7f713d8cd630>,\n",
       " 'jontronа': <gensim.models.keyedvectors.Vocab at 0x7f713d8cd668>,\n",
       " 'умышенное': <gensim.models.keyedvectors.Vocab at 0x7f712c21fe80>,\n",
       " 'разочаровывать': <gensim.models.keyedvectors.Vocab at 0x7f712d460ac8>,\n",
       " 'izbu': <gensim.models.keyedvectors.Vocab at 0x7f7121dba208>,\n",
       " 'испачкались': <gensim.models.keyedvectors.Vocab at 0x7f712d875c88>,\n",
       " 'безымяного': <gensim.models.keyedvectors.Vocab at 0x7f712d875c50>,\n",
       " 'колбасина': <gensim.models.keyedvectors.Vocab at 0x7f712da3a2b0>,\n",
       " 'тнтгде': <gensim.models.keyedvectors.Vocab at 0x7f712da3a5f8>,\n",
       " 'имамстарший': <gensim.models.keyedvectors.Vocab at 0x7f712da3a390>,\n",
       " 'флайеры': <gensim.models.keyedvectors.Vocab at 0x7f712db423c8>,\n",
       " 'крейсер': <gensim.models.keyedvectors.Vocab at 0x7f712dbeae48>,\n",
       " 'закатывают': <gensim.models.keyedvectors.Vocab at 0x7f712de152b0>,\n",
       " 'spacesynth': <gensim.models.keyedvectors.Vocab at 0x7f713e33ebe0>,\n",
       " 'beachrodeo': <gensim.models.keyedvectors.Vocab at 0x7f712e51ecc0>,\n",
       " 'abcdefghi': <gensim.models.keyedvectors.Vocab at 0x7f712e23b3c8>,\n",
       " 'сдавайтесь': <gensim.models.keyedvectors.Vocab at 0x7f713e4acb38>,\n",
       " 'противопоставляло': <gensim.models.keyedvectors.Vocab at 0x7f712237b160>,\n",
       " 'богатым': <gensim.models.keyedvectors.Vocab at 0x7f712e671438>,\n",
       " 'приоритет': <gensim.models.keyedvectors.Vocab at 0x7f712e6713c8>,\n",
       " 'инвесторам': <gensim.models.keyedvectors.Vocab at 0x7f712e671358>,\n",
       " 'хаусnuage': <gensim.models.keyedvectors.Vocab at 0x7f712e8f0ef0>,\n",
       " 'сообщенияхобщались': <gensim.models.keyedvectors.Vocab at 0x7f712772d4e0>,\n",
       " 'травонуться': <gensim.models.keyedvectors.Vocab at 0x7f712ea64d30>,\n",
       " 'фиксируйте': <gensim.models.keyedvectors.Vocab at 0x7f712ea64e80>,\n",
       " 'миндлин': <gensim.models.keyedvectors.Vocab at 0x7f712ec554e0>,\n",
       " 'нитакимкакфсе': <gensim.models.keyedvectors.Vocab at 0x7f712f0e7f60>,\n",
       " 'assassinпожалуйста': <gensim.models.keyedvectors.Vocab at 0x7f712f0e7f28>,\n",
       " 'продуктивное': <gensim.models.keyedvectors.Vocab at 0x7f712f2f6a58>,\n",
       " 'светке': <gensim.models.keyedvectors.Vocab at 0x7f712f2f6978>,\n",
       " 'всхищаюсь': <gensim.models.keyedvectors.Vocab at 0x7f712f32ef60>,\n",
       " 'объяснятьделаешь': <gensim.models.keyedvectors.Vocab at 0x7f713e8f8eb8>,\n",
       " 'comtutorialsdrawing': <gensim.models.keyedvectors.Vocab at 0x7f71998fa080>,\n",
       " 'подкорректировав': <gensim.models.keyedvectors.Vocab at 0x7f71287195c0>,\n",
       " 'нелгкие': <gensim.models.keyedvectors.Vocab at 0x7f712f678f98>,\n",
       " 'основы': <gensim.models.keyedvectors.Vocab at 0x7f712f840c18>,\n",
       " 'киноби': <gensim.models.keyedvectors.Vocab at 0x7f713e943748>,\n",
       " 'снапчата': <gensim.models.keyedvectors.Vocab at 0x7f713e943668>,\n",
       " 'трясшься': <gensim.models.keyedvectors.Vocab at 0x7f712f9d8400>,\n",
       " 'vampire': <gensim.models.keyedvectors.Vocab at 0x7f712fc63da0>,\n",
       " 'инопланетянинtaxi': <gensim.models.keyedvectors.Vocab at 0x7f712febcd68>,\n",
       " 'заколют': <gensim.models.keyedvectors.Vocab at 0x7f7131110668>,\n",
       " 'curiosity': <gensim.models.keyedvectors.Vocab at 0x7f713ec31780>,\n",
       " 'согрелись': <gensim.models.keyedvectors.Vocab at 0x7f7130137e10>,\n",
       " 'перекутся': <gensim.models.keyedvectors.Vocab at 0x7f713014bc50>,\n",
       " 'причсанный': <gensim.models.keyedvectors.Vocab at 0x7f71220deac8>,\n",
       " 'запираться': <gensim.models.keyedvectors.Vocab at 0x7f713014b898>,\n",
       " 'крышкатак': <gensim.models.keyedvectors.Vocab at 0x7f713edf8f60>,\n",
       " 'вкусней': <gensim.models.keyedvectors.Vocab at 0x7f71307ca668>,\n",
       " 'лакействовать': <gensim.models.keyedvectors.Vocab at 0x7f7120d2af28>,\n",
       " 'умелостьпрофессионализм': <gensim.models.keyedvectors.Vocab at 0x7f71277f4ef0>,\n",
       " 'звонии': <gensim.models.keyedvectors.Vocab at 0x7f7130ac65f8>,\n",
       " 'вываливания': <gensim.models.keyedvectors.Vocab at 0x7f7130bc1c50>,\n",
       " 'отрезало': <gensim.models.keyedvectors.Vocab at 0x7f7130bc1c18>,\n",
       " 'кладте': <gensim.models.keyedvectors.Vocab at 0x7f712661c0f0>,\n",
       " 'проверявшего': <gensim.models.keyedvectors.Vocab at 0x7f713157b6a0>,\n",
       " 'взаимосвязи': <gensim.models.keyedvectors.Vocab at 0x7f7126d71940>,\n",
       " 'чертыхаться': <gensim.models.keyedvectors.Vocab at 0x7f713ef57d30>,\n",
       " 'инвалидкой': <gensim.models.keyedvectors.Vocab at 0x7f7130dd2cc0>,\n",
       " 'муниципалитетов': <gensim.models.keyedvectors.Vocab at 0x7f7130fe7f60>,\n",
       " 'fapmc': <gensim.models.keyedvectors.Vocab at 0x7f7130fe7c50>,\n",
       " 'переосмыслите': <gensim.models.keyedvectors.Vocab at 0x7f71312e9748>,\n",
       " 'делатьпо': <gensim.models.keyedvectors.Vocab at 0x7f713140beb8>,\n",
       " 'ской': <gensim.models.keyedvectors.Vocab at 0x7f71315ddcc0>,\n",
       " 'порешал': <gensim.models.keyedvectors.Vocab at 0x7f713171b160>,\n",
       " 'краже': <gensim.models.keyedvectors.Vocab at 0x7f713171b1d0>,\n",
       " 'союзничестве': <gensim.models.keyedvectors.Vocab at 0x7f713171b0f0>,\n",
       " 'посуху': <gensim.models.keyedvectors.Vocab at 0x7f713f209a20>,\n",
       " 'каррефур': <gensim.models.keyedvectors.Vocab at 0x7f71319ccd30>,\n",
       " 'петь': <gensim.models.keyedvectors.Vocab at 0x7f7131b1cb00>,\n",
       " 'bias': <gensim.models.keyedvectors.Vocab at 0x7f7131b1c7b8>,\n",
       " 'наса': <gensim.models.keyedvectors.Vocab at 0x7f7120e1d3c8>,\n",
       " 'карандашом': <gensim.models.keyedvectors.Vocab at 0x7f7131c87ac8>,\n",
       " 'касьяновы': <gensim.models.keyedvectors.Vocab at 0x7f7131c87940>,\n",
       " 'формирующегося': <gensim.models.keyedvectors.Vocab at 0x7f7131fa0ac8>,\n",
       " 'обществечерты': <gensim.models.keyedvectors.Vocab at 0x7f7131fa0a90>,\n",
       " 'франкофон': <gensim.models.keyedvectors.Vocab at 0x7f713217fb00>,\n",
       " 'аришка': <gensim.models.keyedvectors.Vocab at 0x7f713217f9e8>,\n",
       " 'дружескими': <gensim.models.keyedvectors.Vocab at 0x7f713f1da898>,\n",
       " 'дунешь': <gensim.models.keyedvectors.Vocab at 0x7f71323b7438>,\n",
       " 'ваялось': <gensim.models.keyedvectors.Vocab at 0x7f7132563f98>,\n",
       " 'быстрые': <gensim.models.keyedvectors.Vocab at 0x7f7132563f60>,\n",
       " 'федькин': <gensim.models.keyedvectors.Vocab at 0x7f713270cb38>,\n",
       " 'тобойхоть': <gensim.models.keyedvectors.Vocab at 0x7f713270ca20>,\n",
       " 'какойчастотой': <gensim.models.keyedvectors.Vocab at 0x7f7132ab4e48>,\n",
       " 'плюшевые': <gensim.models.keyedvectors.Vocab at 0x7f7132ab4fd0>,\n",
       " 'жизненность': <gensim.models.keyedvectors.Vocab at 0x7f71210550b8>,\n",
       " 'приелось': <gensim.models.keyedvectors.Vocab at 0x7f7121d27080>,\n",
       " 'recto': <gensim.models.keyedvectors.Vocab at 0x7f7123bab400>,\n",
       " 'жертвуют': <gensim.models.keyedvectors.Vocab at 0x7f7132c16cc0>,\n",
       " 'инст': <gensim.models.keyedvectors.Vocab at 0x7f7132c16ac8>,\n",
       " 'погромное': <gensim.models.keyedvectors.Vocab at 0x7f7132e62a20>,\n",
       " 'говориля': <gensim.models.keyedvectors.Vocab at 0x7f7132e62940>,\n",
       " 'выгляделосегодня': <gensim.models.keyedvectors.Vocab at 0x7f712623c668>,\n",
       " 'чернобелыйнепривлекательный': <gensim.models.keyedvectors.Vocab at 0x7f71332a6828>,\n",
       " 'десятиэтажку': <gensim.models.keyedvectors.Vocab at 0x7f7121e61080>,\n",
       " 'телекинез': <gensim.models.keyedvectors.Vocab at 0x7f71333b6f60>,\n",
       " 'извлечено': <gensim.models.keyedvectors.Vocab at 0x7f71334edf60>,\n",
       " 'богомерзкие': <gensim.models.keyedvectors.Vocab at 0x7f71213b7828>,\n",
       " 'феминистов': <gensim.models.keyedvectors.Vocab at 0x7f713f3b2940>,\n",
       " 'отгаваривала': <gensim.models.keyedvectors.Vocab at 0x7f7129f795c0>,\n",
       " 'грудках': <gensim.models.keyedvectors.Vocab at 0x7f71216de908>,\n",
       " 'скр': <gensim.models.keyedvectors.Vocab at 0x7f7133a1a7f0>,\n",
       " 'подсыпай': <gensim.models.keyedvectors.Vocab at 0x7f7133a1a898>,\n",
       " 'челюсь': <gensim.models.keyedvectors.Vocab at 0x7f713f5d7828>,\n",
       " 'фигурантом': <gensim.models.keyedvectors.Vocab at 0x7f713f5d7748>,\n",
       " 'гнездящагося': <gensim.models.keyedvectors.Vocab at 0x7f7133f1a470>,\n",
       " 'зеленушки': <gensim.models.keyedvectors.Vocab at 0x7f7133ff2fd0>,\n",
       " 'безработным': <gensim.models.keyedvectors.Vocab at 0x7f713417edd8>,\n",
       " 'обычную': <gensim.models.keyedvectors.Vocab at 0x7f71342ed2b0>,\n",
       " 'кошачие': <gensim.models.keyedvectors.Vocab at 0x7f7120fb9d68>,\n",
       " 'макают': <gensim.models.keyedvectors.Vocab at 0x7f7134384f98>,\n",
       " 'оживился': <gensim.models.keyedvectors.Vocab at 0x7f71344b96d8>,\n",
       " 'карабинерос': <gensim.models.keyedvectors.Vocab at 0x7f713f7d5ef0>,\n",
       " 'изюмский': <gensim.models.keyedvectors.Vocab at 0x7f713f7d5e48>,\n",
       " 'безобидное': <gensim.models.keyedvectors.Vocab at 0x7f71346beeb8>,\n",
       " 'выявилось': <gensim.models.keyedvectors.Vocab at 0x7f713489d668>,\n",
       " 'царапайте': <gensim.models.keyedvectors.Vocab at 0x7f713489d588>,\n",
       " 'инфракрасных': <gensim.models.keyedvectors.Vocab at 0x7f7134adada0>,\n",
       " 'кутают': <gensim.models.keyedvectors.Vocab at 0x7f7141dd5e48>,\n",
       " 'бархатным': <gensim.models.keyedvectors.Vocab at 0x7f7122dd9668>,\n",
       " 'коал': <gensim.models.keyedvectors.Vocab at 0x7f7135018fd0>,\n",
       " 'разxxвыводк': <gensim.models.keyedvectors.Vocab at 0x7f7135018ef0>,\n",
       " 'приличную': <gensim.models.keyedvectors.Vocab at 0x7f7121ea1710>,\n",
       " 'сращу': <gensim.models.keyedvectors.Vocab at 0x7f7122dd96a0>,\n",
       " 'любовьнадеюсь': <gensim.models.keyedvectors.Vocab at 0x7f713537cf98>,\n",
       " 'гузером': <gensim.models.keyedvectors.Vocab at 0x7f713548cac8>,\n",
       " 'расширенном': <gensim.models.keyedvectors.Vocab at 0x7f7135694f60>,\n",
       " 'срывает': <gensim.models.keyedvectors.Vocab at 0x7f7135694f28>,\n",
       " 'интоксация': <gensim.models.keyedvectors.Vocab at 0x7f7135886a90>,\n",
       " 'schuh': <gensim.models.keyedvectors.Vocab at 0x7f71357f5fd0>,\n",
       " 'яжка': <gensim.models.keyedvectors.Vocab at 0x7f713fa8cf28>,\n",
       " 'похотями': <gensim.models.keyedvectors.Vocab at 0x7f7135954c18>,\n",
       " 'фонд': <gensim.models.keyedvectors.Vocab at 0x7f7121dba5f8>,\n",
       " 'генетических': <gensim.models.keyedvectors.Vocab at 0x7f7135b2ee10>,\n",
       " 'лексики': <gensim.models.keyedvectors.Vocab at 0x7f7135be10f0>,\n",
       " 'отправлятьа': <gensim.models.keyedvectors.Vocab at 0x7f7135be10b8>,\n",
       " 'невеликое': <gensim.models.keyedvectors.Vocab at 0x7f7122dd96d8>,\n",
       " 'сунитами': <gensim.models.keyedvectors.Vocab at 0x7f7135c6ef98>,\n",
       " 'дуракабповторяем': <gensim.models.keyedvectors.Vocab at 0x7f7135e1ca20>,\n",
       " 'стабильная': <gensim.models.keyedvectors.Vocab at 0x7f7135e1ca58>,\n",
       " 'произойтину': <gensim.models.keyedvectors.Vocab at 0x7f713ff6db00>,\n",
       " 'liberals': <gensim.models.keyedvectors.Vocab at 0x7f7120e51be0>,\n",
       " 'изучитьвсю': <gensim.models.keyedvectors.Vocab at 0x7f712396eac8>,\n",
       " 'секретарям': <gensim.models.keyedvectors.Vocab at 0x7f71427fffd0>,\n",
       " 'няшно': <gensim.models.keyedvectors.Vocab at 0x7f714008fe10>,\n",
       " 'сладка': <gensim.models.keyedvectors.Vocab at 0x7f7140744438>,\n",
       " 'executives': <gensim.models.keyedvectors.Vocab at 0x7f7136470780>,\n",
       " 'щипать': <gensim.models.keyedvectors.Vocab at 0x7f71365e1a90>,\n",
       " 'чрезвычайного': <gensim.models.keyedvectors.Vocab at 0x7f71365e1a20>,\n",
       " 'суперлегком': <gensim.models.keyedvectors.Vocab at 0x7f71365e1a58>,\n",
       " 'рукойтаким': <gensim.models.keyedvectors.Vocab at 0x7f71368e9c88>,\n",
       " 'афроамериканская': <gensim.models.keyedvectors.Vocab at 0x7f7122159da0>,\n",
       " 'эксперементальное': <gensim.models.keyedvectors.Vocab at 0x7f71402f49b0>,\n",
       " 'усложняя': <gensim.models.keyedvectors.Vocab at 0x7f712567e470>,\n",
       " 'экспрессионизм': <gensim.models.keyedvectors.Vocab at 0x7f7136922358>,\n",
       " 'gumtree': <gensim.models.keyedvectors.Vocab at 0x7f7136b04fd0>,\n",
       " 'колючего': <gensim.models.keyedvectors.Vocab at 0x7f7136b04f60>,\n",
       " 'нехилую': <gensim.models.keyedvectors.Vocab at 0x7f712567e4a8>,\n",
       " 'исследовательское': <gensim.models.keyedvectors.Vocab at 0x7f7136cf1ba8>,\n",
       " 'порфирин': <gensim.models.keyedvectors.Vocab at 0x7f7136ebbbe0>,\n",
       " 'тубус': <gensim.models.keyedvectors.Vocab at 0x7f7136fc8f60>,\n",
       " 'стеснявшиеся': <gensim.models.keyedvectors.Vocab at 0x7f7120e7f550>,\n",
       " 'presented': <gensim.models.keyedvectors.Vocab at 0x7f7137190ba8>,\n",
       " 'лотке': <gensim.models.keyedvectors.Vocab at 0x7f71372e4588>,\n",
       " 'диктаторскими': <gensim.models.keyedvectors.Vocab at 0x7f7137492c88>,\n",
       " 'классично': <gensim.models.keyedvectors.Vocab at 0x7f7137492a20>,\n",
       " 'лужами': <gensim.models.keyedvectors.Vocab at 0x7f7137ba4710>,\n",
       " 'погашенным': <gensim.models.keyedvectors.Vocab at 0x7f71375e0630>,\n",
       " 'отклеилось': <gensim.models.keyedvectors.Vocab at 0x7f71404fba20>,\n",
       " 'стрельбa': <gensim.models.keyedvectors.Vocab at 0x7f7127611748>,\n",
       " 'ипостасями': <gensim.models.keyedvectors.Vocab at 0x7f7137944a90>,\n",
       " 'клапауций': <gensim.models.keyedvectors.Vocab at 0x7f712772da58>,\n",
       " 'блуменфельда': <gensim.models.keyedvectors.Vocab at 0x7f7120d40080>,\n",
       " 'страйком': <gensim.models.keyedvectors.Vocab at 0x7f71282f70b8>,\n",
       " 'блюет': <gensim.models.keyedvectors.Vocab at 0x7f71405c8b70>,\n",
       " 'мяту': <gensim.models.keyedvectors.Vocab at 0x7f7137d39f60>,\n",
       " 'rucommunityallsale': <gensim.models.keyedvectors.Vocab at 0x7f7137d39f28>,\n",
       " 'откладывать': <gensim.models.keyedvectors.Vocab at 0x7f7137d39d30>,\n",
       " 'долбoeбизм': <gensim.models.keyedvectors.Vocab at 0x7f7137e5f978>,\n",
       " 'метамфетаминчиков': <gensim.models.keyedvectors.Vocab at 0x7f7137f0b780>,\n",
       " 'барахтались': <gensim.models.keyedvectors.Vocab at 0x7f713801d278>,\n",
       " 'торрагнарк': <gensim.models.keyedvectors.Vocab at 0x7f71380ccf60>,\n",
       " 'новороссийске': <gensim.models.keyedvectors.Vocab at 0x7f7120f8c748>,\n",
       " 'поудалял': <gensim.models.keyedvectors.Vocab at 0x7f7138227860>,\n",
       " 'потребленные': <gensim.models.keyedvectors.Vocab at 0x7f71382273c8>,\n",
       " 'размерзать': <gensim.models.keyedvectors.Vocab at 0x7f713832fcc0>,\n",
       " 'сеченова': <gensim.models.keyedvectors.Vocab at 0x7f7140692c18>,\n",
       " 'медиафайлов': <gensim.models.keyedvectors.Vocab at 0x7f71257fcba8>,\n",
       " 'немонетарный': <gensim.models.keyedvectors.Vocab at 0x7f71385c5fd0>,\n",
       " 'светящимся': <gensim.models.keyedvectors.Vocab at 0x7f71387479e8>,\n",
       " 'залез': <gensim.models.keyedvectors.Vocab at 0x7f7121a9d940>,\n",
       " 'сунны': <gensim.models.keyedvectors.Vocab at 0x7f7140736ef0>,\n",
       " 'гороскопыописания': <gensim.models.keyedvectors.Vocab at 0x7f7138953b70>,\n",
       " 'сулите': <gensim.models.keyedvectors.Vocab at 0x7f7140739f28>,\n",
       " 'неприкаянных': <gensim.models.keyedvectors.Vocab at 0x7f7138dcbda0>,\n",
       " 'погружают': <gensim.models.keyedvectors.Vocab at 0x7f7138eb9828>,\n",
       " 'torg': <gensim.models.keyedvectors.Vocab at 0x7f712870ecf8>,\n",
       " 'атмосферную': <gensim.models.keyedvectors.Vocab at 0x7f71287110f0>,\n",
       " 'перебывало': <gensim.models.keyedvectors.Vocab at 0x7f712772dba8>,\n",
       " 'неделима': <gensim.models.keyedvectors.Vocab at 0x7f71214cc860>,\n",
       " 'гаразд': <gensim.models.keyedvectors.Vocab at 0x7f713933db38>,\n",
       " 'реконструируют': <gensim.models.keyedvectors.Vocab at 0x7f71394331d0>,\n",
       " 'оволошения': <gensim.models.keyedvectors.Vocab at 0x7f71395be978>,\n",
       " 'ieds': <gensim.models.keyedvectors.Vocab at 0x7f7139ca2c88>,\n",
       " 'иносми': <gensim.models.keyedvectors.Vocab at 0x7f71408a4748>,\n",
       " 'saved': <gensim.models.keyedvectors.Vocab at 0x7f71398dbbe0>,\n",
       " 'нарисоваться': <gensim.models.keyedvectors.Vocab at 0x7f71398dbf60>,\n",
       " 'теорию': <gensim.models.keyedvectors.Vocab at 0x7f7139a77438>,\n",
       " 'осознате': <gensim.models.keyedvectors.Vocab at 0x7f71223e9128>,\n",
       " 'мперй': <gensim.models.keyedvectors.Vocab at 0x7f7139a9cf98>,\n",
       " 'бранные': <gensim.models.keyedvectors.Vocab at 0x7f7139c9dd30>,\n",
       " 'коррелировала': <gensim.models.keyedvectors.Vocab at 0x7f7139c9cc88>,\n",
       " 'биссектрисы': <gensim.models.keyedvectors.Vocab at 0x7f7139f85e80>,\n",
       " 'бациллы': <gensim.models.keyedvectors.Vocab at 0x7f7140966400>,\n",
       " 'поступательные': <gensim.models.keyedvectors.Vocab at 0x7f7121c78ac8>,\n",
       " 'туалете': <gensim.models.keyedvectors.Vocab at 0x7f713a178e10>,\n",
       " 'инстраме': <gensim.models.keyedvectors.Vocab at 0x7f7140a19eb8>,\n",
       " 'ахмадинежад': <gensim.models.keyedvectors.Vocab at 0x7f71422fbe80>,\n",
       " 'встречаемсяно': <gensim.models.keyedvectors.Vocab at 0x7f713a4c3c50>,\n",
       " 'бережливостью': <gensim.models.keyedvectors.Vocab at 0x7f713a4c3128>,\n",
       " 'рубчик': <gensim.models.keyedvectors.Vocab at 0x7f713a79e908>,\n",
       " 'африкаанса': <gensim.models.keyedvectors.Vocab at 0x7f713a79e940>,\n",
       " 'клевету': <gensim.models.keyedvectors.Vocab at 0x7f714237f128>,\n",
       " 'пугалась': <gensim.models.keyedvectors.Vocab at 0x7f713a90a7f0>,\n",
       " 'вампиры': <gensim.models.keyedvectors.Vocab at 0x7f7140bfa978>,\n",
       " 'столичные': <gensim.models.keyedvectors.Vocab at 0x7f713abafc88>,\n",
       " 'безправна': <gensim.models.keyedvectors.Vocab at 0x7f713ac116d8>,\n",
       " 'дофаминергическая': <gensim.models.keyedvectors.Vocab at 0x7f713ac0a208>,\n",
       " 'укусах': <gensim.models.keyedvectors.Vocab at 0x7f713ae839e8>,\n",
       " 'скомпенсировать': <gensim.models.keyedvectors.Vocab at 0x7f713ae83a20>,\n",
       " 'бебель': <gensim.models.keyedvectors.Vocab at 0x7f713afea748>,\n",
       " 'наживой': <gensim.models.keyedvectors.Vocab at 0x7f71220a2748>,\n",
       " 'саморегулирующиеся': <gensim.models.keyedvectors.Vocab at 0x7f712772dcc0>,\n",
       " 'впячивание': <gensim.models.keyedvectors.Vocab at 0x7f713b13f1d0>,\n",
       " 'откапывают': <gensim.models.keyedvectors.Vocab at 0x7f7140e74400>,\n",
       " 'уподоблением': <gensim.models.keyedvectors.Vocab at 0x7f7140efb7f0>,\n",
       " 'коладе': <gensim.models.keyedvectors.Vocab at 0x7f713b4d6470>,\n",
       " 'старательные': <gensim.models.keyedvectors.Vocab at 0x7f713b54df98>,\n",
       " 'дурилки': <gensim.models.keyedvectors.Vocab at 0x7f7125e22a58>,\n",
       " 'ленеопекун': <gensim.models.keyedvectors.Vocab at 0x7f713b722438>,\n",
       " 'загадошность': <gensim.models.keyedvectors.Vocab at 0x7f7122dd99e8>,\n",
       " 'ребятаподумаешь': <gensim.models.keyedvectors.Vocab at 0x7f713c5edb00>,\n",
       " 'вагомим': <gensim.models.keyedvectors.Vocab at 0x7f7121564cf8>,\n",
       " 'успевал': <gensim.models.keyedvectors.Vocab at 0x7f713ba52518>,\n",
       " 'пчела': <gensim.models.keyedvectors.Vocab at 0x7f713ba52400>,\n",
       " 'кихот': <gensim.models.keyedvectors.Vocab at 0x7f713bc119b0>,\n",
       " 'нарицательной': <gensim.models.keyedvectors.Vocab at 0x7f713bf8eda0>,\n",
       " 'набережных': <gensim.models.keyedvectors.Vocab at 0x7f713bf8ee10>,\n",
       " 'билыхне': <gensim.models.keyedvectors.Vocab at 0x7f71998f5c88>,\n",
       " 'минусов': <gensim.models.keyedvectors.Vocab at 0x7f7121136c18>,\n",
       " 'sexwife': <gensim.models.keyedvectors.Vocab at 0x7f712245e2b0>,\n",
       " 'тренером': <gensim.models.keyedvectors.Vocab at 0x7f71998f58d0>,\n",
       " 'недоумком': <gensim.models.keyedvectors.Vocab at 0x7f71998f5b70>,\n",
       " 'ломти': <gensim.models.keyedvectors.Vocab at 0x7f71998f5a90>,\n",
       " 'сокурсница': <gensim.models.keyedvectors.Vocab at 0x7f71998f59e8>,\n",
       " 'кровотеченье': <gensim.models.keyedvectors.Vocab at 0x7f712871bb00>,\n",
       " 'шелкографией': <gensim.models.keyedvectors.Vocab at 0x7f712567e748>,\n",
       " 'парка': <gensim.models.keyedvectors.Vocab at 0x7f71998f5b00>,\n",
       " 'талызина': <gensim.models.keyedvectors.Vocab at 0x7f71998f5ac8>,\n",
       " 'нелинейная': <gensim.models.keyedvectors.Vocab at 0x7f712567e780>,\n",
       " 'посдствия': <gensim.models.keyedvectors.Vocab at 0x7f71998f59b0>,\n",
       " 'инфернальному': <gensim.models.keyedvectors.Vocab at 0x7f712871e400>,\n",
       " 'выставлении': <gensim.models.keyedvectors.Vocab at 0x7f71998f5128>,\n",
       " 'друзьямиродственниками': <gensim.models.keyedvectors.Vocab at 0x7f71998f5978>,\n",
       " 'некомпактно': <gensim.models.keyedvectors.Vocab at 0x7f712871e908>,\n",
       " 'дачю': <gensim.models.keyedvectors.Vocab at 0x7f71998f5cf8>,\n",
       " 'преследуют': <gensim.models.keyedvectors.Vocab at 0x7f71998f5c18>,\n",
       " 'mollivirus': <gensim.models.keyedvectors.Vocab at 0x7f71211fde80>,\n",
       " 'смахивают': <gensim.models.keyedvectors.Vocab at 0x7f7120f3f160>,\n",
       " 'трусливую': <gensim.models.keyedvectors.Vocab at 0x7f712668a550>,\n",
       " 'китеж': <gensim.models.keyedvectors.Vocab at 0x7f712567e7f0>,\n",
       " 'мечением': <gensim.models.keyedvectors.Vocab at 0x7f7121479470>,\n",
       " 'подсовываю': <gensim.models.keyedvectors.Vocab at 0x7f71216aa470>,\n",
       " 'нейчр': <gensim.models.keyedvectors.Vocab at 0x7f71998f5dd8>,\n",
       " 'ноганога': <gensim.models.keyedvectors.Vocab at 0x7f71287216d8>,\n",
       " 'неуклюжим': <gensim.models.keyedvectors.Vocab at 0x7f71998f5e10>,\n",
       " 'покажу': <gensim.models.keyedvectors.Vocab at 0x7f71998f5da0>,\n",
       " 'состряпают': <gensim.models.keyedvectors.Vocab at 0x7f71998f5e80>,\n",
       " 'competitor': <gensim.models.keyedvectors.Vocab at 0x7f71998f5eb8>,\n",
       " 'аттику': <gensim.models.keyedvectors.Vocab at 0x7f71998f5f60>,\n",
       " 'рассолажижичку': <gensim.models.keyedvectors.Vocab at 0x7f7122a2a7b8>,\n",
       " 'sheer': <gensim.models.keyedvectors.Vocab at 0x7f71998f5ef0>,\n",
       " 'риелтору': <gensim.models.keyedvectors.Vocab at 0x7f71998f5f28>,\n",
       " 'белгородобщежитие': <gensim.models.keyedvectors.Vocab at 0x7f71998f5be0>,\n",
       " 'влачиться': <gensim.models.keyedvectors.Vocab at 0x7f71264b3b70>,\n",
       " 'enterprise': <gensim.models.keyedvectors.Vocab at 0x7f71998fa0b8>,\n",
       " 'бенефисом': <gensim.models.keyedvectors.Vocab at 0x7f71998fa0f0>,\n",
       " 'гендиректором': <gensim.models.keyedvectors.Vocab at 0x7f71998fa160>,\n",
       " 'держаных': <gensim.models.keyedvectors.Vocab at 0x7f712f47ac88>,\n",
       " 'полишинеля': <gensim.models.keyedvectors.Vocab at 0x7f71998fa208>,\n",
       " 'телеучительница': <gensim.models.keyedvectors.Vocab at 0x7f71998fa128>,\n",
       " 'khan': <gensim.models.keyedvectors.Vocab at 0x7f71998fa240>,\n",
       " 'волосатым': <gensim.models.keyedvectors.Vocab at 0x7f71998fa2b0>,\n",
       " 'дискусии': <gensim.models.keyedvectors.Vocab at 0x7f71287270f0>,\n",
       " 'prozhit': <gensim.models.keyedvectors.Vocab at 0x7f7121a50828>,\n",
       " 'raka': <gensim.models.keyedvectors.Vocab at 0x7f7121dbac18>,\n",
       " 'состояниеничего': <gensim.models.keyedvectors.Vocab at 0x7f7122dd9c50>,\n",
       " 'таймлесс': <gensim.models.keyedvectors.Vocab at 0x7f71998fa390>,\n",
       " 'меш': <gensim.models.keyedvectors.Vocab at 0x7f71213094e0>,\n",
       " 'молдер': <gensim.models.keyedvectors.Vocab at 0x7f71998fa3c8>,\n",
       " 'недочистили': <gensim.models.keyedvectors.Vocab at 0x7f71998fa2e8>,\n",
       " 'эскапады': <gensim.models.keyedvectors.Vocab at 0x7f71998fa278>,\n",
       " 'принудил': <gensim.models.keyedvectors.Vocab at 0x7f71998fa400>,\n",
       " 'позвонитпоэтому': <gensim.models.keyedvectors.Vocab at 0x7f71998fa438>,\n",
       " 'аферентная': <gensim.models.keyedvectors.Vocab at 0x7f71998fa470>,\n",
       " 'насилуемой': <gensim.models.keyedvectors.Vocab at 0x7f71998fa4a8>,\n",
       " 'тонаноты': <gensim.models.keyedvectors.Vocab at 0x7f7120f45940>,\n",
       " 'pointless': <gensim.models.keyedvectors.Vocab at 0x7f71998fa550>,\n",
       " 'набрасываешься': <gensim.models.keyedvectors.Vocab at 0x7f7129fff390>,\n",
       " 'абсолютизировав': <gensim.models.keyedvectors.Vocab at 0x7f71273aa898>,\n",
       " 'уверуйте': <gensim.models.keyedvectors.Vocab at 0x7f7129fff0b8>,\n",
       " 'attentats': <gensim.models.keyedvectors.Vocab at 0x7f712772df60>,\n",
       " 'лавашвроде': <gensim.models.keyedvectors.Vocab at 0x7f7129fff400>,\n",
       " 'мизантропический': <gensim.models.keyedvectors.Vocab at 0x7f71287297f0>,\n",
       " 'хеллкэт': <gensim.models.keyedvectors.Vocab at 0x7f7129fff588>,\n",
       " 'язвительную': <gensim.models.keyedvectors.Vocab at 0x7f7129fff5c0>,\n",
       " 'фарфор': <gensim.models.keyedvectors.Vocab at 0x7f7129fff5f8>,\n",
       " 'хрт': <gensim.models.keyedvectors.Vocab at 0x7f7129fff630>,\n",
       " 'лингвистика': <gensim.models.keyedvectors.Vocab at 0x7f7129fff668>,\n",
       " 'помять': <gensim.models.keyedvectors.Vocab at 0x7f7129fff6a0>,\n",
       " 'дамехихи': <gensim.models.keyedvectors.Vocab at 0x7f7129fff6d8>,\n",
       " 'западноукраинская': <gensim.models.keyedvectors.Vocab at 0x7f7129fff710>,\n",
       " 'частейпервая': <gensim.models.keyedvectors.Vocab at 0x7f7129fff748>,\n",
       " 'сочился': <gensim.models.keyedvectors.Vocab at 0x7f7129fff780>,\n",
       " 'действование': <gensim.models.keyedvectors.Vocab at 0x7f712668a748>,\n",
       " 'виндсерфинг': <gensim.models.keyedvectors.Vocab at 0x7f7129fff7f0>,\n",
       " 'новосибирскую': <gensim.models.keyedvectors.Vocab at 0x7f7129fff828>,\n",
       " 'рентгений': <gensim.models.keyedvectors.Vocab at 0x7f7129fff860>,\n",
       " 'усреднением': <gensim.models.keyedvectors.Vocab at 0x7f71260eef98>,\n",
       " 'конструкторам': <gensim.models.keyedvectors.Vocab at 0x7f7129fff8d0>,\n",
       " 'страшило': <gensim.models.keyedvectors.Vocab at 0x7f7129fff908>,\n",
       " 'онкодиспансер': <gensim.models.keyedvectors.Vocab at 0x7f7129fff940>,\n",
       " 'третьяковская': <gensim.models.keyedvectors.Vocab at 0x7f7129fff978>,\n",
       " 'зубрилок': <gensim.models.keyedvectors.Vocab at 0x7f7129fff9b0>,\n",
       " 'балду': <gensim.models.keyedvectors.Vocab at 0x7f7129fff9e8>,\n",
       " 'мухановым': <gensim.models.keyedvectors.Vocab at 0x7f7129fffa20>,\n",
       " 'хрипло': <gensim.models.keyedvectors.Vocab at 0x7f7129fffa58>,\n",
       " 'яаляется': <gensim.models.keyedvectors.Vocab at 0x7f7129fffa90>,\n",
       " 'обострнного': <gensim.models.keyedvectors.Vocab at 0x7f7129fffac8>,\n",
       " 'закупщиком': <gensim.models.keyedvectors.Vocab at 0x7f7129fffb00>,\n",
       " 'седушкой': <gensim.models.keyedvectors.Vocab at 0x7f7121d73b38>,\n",
       " 'сначало': <gensim.models.keyedvectors.Vocab at 0x7f7129fffb38>,\n",
       " 'издержкой': <gensim.models.keyedvectors.Vocab at 0x7f7129fffb70>,\n",
       " 'кинокомпашкой': <gensim.models.keyedvectors.Vocab at 0x7f7129fffba8>,\n",
       " 'трюкам': <gensim.models.keyedvectors.Vocab at 0x7f7129fffbe0>,\n",
       " 'фирмочках': <gensim.models.keyedvectors.Vocab at 0x7f7129fffc18>,\n",
       " 'pupkin': <gensim.models.keyedvectors.Vocab at 0x7f7129fffc50>,\n",
       " 'implies': <gensim.models.keyedvectors.Vocab at 0x7f7129fffc88>,\n",
       " 'пассию': <gensim.models.keyedvectors.Vocab at 0x7f7121650e80>,\n",
       " 'отсебятине': <gensim.models.keyedvectors.Vocab at 0x7f7129fffcf8>,\n",
       " 'валкович': <gensim.models.keyedvectors.Vocab at 0x7f7129fffd30>,\n",
       " 'реформистско': <gensim.models.keyedvectors.Vocab at 0x7f7129fffd68>,\n",
       " 'старшеклассницами': <gensim.models.keyedvectors.Vocab at 0x7f712129b7b8>,\n",
       " 'пенсиооные': <gensim.models.keyedvectors.Vocab at 0x7f7129fffdd8>,\n",
       " 'сотрясатьпотом': <gensim.models.keyedvectors.Vocab at 0x7f7129fffe10>,\n",
       " 'коммунисты': <gensim.models.keyedvectors.Vocab at 0x7f7129fffe48>,\n",
       " 'забивающий': <gensim.models.keyedvectors.Vocab at 0x7f7129fffe80>,\n",
       " 'будах': <gensim.models.keyedvectors.Vocab at 0x7f7129fffef0>,\n",
       " 'угаслипрошли': <gensim.models.keyedvectors.Vocab at 0x7f7128734358>,\n",
       " 'ребенокфизикавсе': <gensim.models.keyedvectors.Vocab at 0x7f71275fe160>,\n",
       " 'забористую': <gensim.models.keyedvectors.Vocab at 0x7f7129ffff98>,\n",
       " 'пельняньхлебное': <gensim.models.keyedvectors.Vocab at 0x7f7128734668>,\n",
       " 'неспрессо': <gensim.models.keyedvectors.Vocab at 0x7f7129f72048>,\n",
       " 'fuckers': <gensim.models.keyedvectors.Vocab at 0x7f7129f720b8>,\n",
       " 'толкане': <gensim.models.keyedvectors.Vocab at 0x7f71226c0f28>,\n",
       " 'возможноеееее': <gensim.models.keyedvectors.Vocab at 0x7f7129f72128>,\n",
       " 'ключевому': <gensim.models.keyedvectors.Vocab at 0x7f7129f72160>,\n",
       " 'партийную': <gensim.models.keyedvectors.Vocab at 0x7f712567ea58>,\n",
       " 'резервы': <gensim.models.keyedvectors.Vocab at 0x7f7129f721d0>,\n",
       " 'полусвете': <gensim.models.keyedvectors.Vocab at 0x7f7129f72208>,\n",
       " 'comwatchvvqgsqesu': <gensim.models.keyedvectors.Vocab at 0x7f7129f72240>,\n",
       " 'деляги': <gensim.models.keyedvectors.Vocab at 0x7f7129f722b0>,\n",
       " 'topuniversities': <gensim.models.keyedvectors.Vocab at 0x7f7129f722e8>,\n",
       " 'выбрали': <gensim.models.keyedvectors.Vocab at 0x7f7129f72320>,\n",
       " 'прометее': <gensim.models.keyedvectors.Vocab at 0x7f7129f72390>,\n",
       " 'тертуллиан': <gensim.models.keyedvectors.Vocab at 0x7f7129f723c8>,\n",
       " 'взлетишь': <gensim.models.keyedvectors.Vocab at 0x7f7129f72400>,\n",
       " 'играйте': <gensim.models.keyedvectors.Vocab at 0x7f7129f72438>,\n",
       " 'едысерьезно': <gensim.models.keyedvectors.Vocab at 0x7f7129f72470>,\n",
       " 'прервет': <gensim.models.keyedvectors.Vocab at 0x7f7129f724a8>,\n",
       " 'сметения': <gensim.models.keyedvectors.Vocab at 0x7f71214dfef0>,\n",
       " 'курцайку': <gensim.models.keyedvectors.Vocab at 0x7f7127aeb3c8>,\n",
       " 'одинокий': <gensim.models.keyedvectors.Vocab at 0x7f7123764c88>,\n",
       " 'естькроме': <gensim.models.keyedvectors.Vocab at 0x7f7129f72550>,\n",
       " 'барьер': <gensim.models.keyedvectors.Vocab at 0x7f71236c3da0>,\n",
       " 'артснаряды': <gensim.models.keyedvectors.Vocab at 0x7f712567eba8>,\n",
       " 'картоном': <gensim.models.keyedvectors.Vocab at 0x7f7129f725c0>,\n",
       " 'dumont': <gensim.models.keyedvectors.Vocab at 0x7f7127730278>,\n",
       " 'родныхторг': <gensim.models.keyedvectors.Vocab at 0x7f712155ab00>,\n",
       " 'подлатала': <gensim.models.keyedvectors.Vocab at 0x7f7129f72668>,\n",
       " 'надежнее': <gensim.models.keyedvectors.Vocab at 0x7f7129f726a0>,\n",
       " 'nutrients': <gensim.models.keyedvectors.Vocab at 0x7f7129f726d8>,\n",
       " 'титамагнетита': <gensim.models.keyedvectors.Vocab at 0x7f7129f72710>,\n",
       " 'теоретизированность': <gensim.models.keyedvectors.Vocab at 0x7f7129f72748>,\n",
       " 'тамбрл': <gensim.models.keyedvectors.Vocab at 0x7f7129f72780>,\n",
       " 'baratheon': <gensim.models.keyedvectors.Vocab at 0x7f7126656dd8>,\n",
       " 'корб': <gensim.models.keyedvectors.Vocab at 0x7f7129f727f0>,\n",
       " 'блюдам': <gensim.models.keyedvectors.Vocab at 0x7f7129f72828>,\n",
       " 'упрощенная': <gensim.models.keyedvectors.Vocab at 0x7f7129f72860>,\n",
       " 'окналишь': <gensim.models.keyedvectors.Vocab at 0x7f7129f728d0>,\n",
       " 'хинкал': <gensim.models.keyedvectors.Vocab at 0x7f7129f72908>,\n",
       " 'inquest': <gensim.models.keyedvectors.Vocab at 0x7f7129f72940>,\n",
       " 'семисантиметровый': <gensim.models.keyedvectors.Vocab at 0x7f7129f72978>,\n",
       " 'свежесваренную': <gensim.models.keyedvectors.Vocab at 0x7f7129f729b0>,\n",
       " 'nutribullet': <gensim.models.keyedvectors.Vocab at 0x7f7129f729e8>,\n",
       " 'сделатьзакопать': <gensim.models.keyedvectors.Vocab at 0x7f7129f72a20>,\n",
       " 'сработку': <gensim.models.keyedvectors.Vocab at 0x7f7129f72a58>,\n",
       " 'бауманская': <gensim.models.keyedvectors.Vocab at 0x7f7129f72a90>,\n",
       " 'жванецкого': <gensim.models.keyedvectors.Vocab at 0x7f7129f72ac8>,\n",
       " 'припадками': <gensim.models.keyedvectors.Vocab at 0x7f7129f72b00>,\n",
       " 'уггах': <gensim.models.keyedvectors.Vocab at 0x7f7129f72b38>,\n",
       " 'стратегического': <gensim.models.keyedvectors.Vocab at 0x7f7129f72b70>,\n",
       " 'сошьют': <gensim.models.keyedvectors.Vocab at 0x7f7129f72ba8>,\n",
       " 'жались': <gensim.models.keyedvectors.Vocab at 0x7f7129f72be0>,\n",
       " 'млсвежий': <gensim.models.keyedvectors.Vocab at 0x7f7129f72c18>,\n",
       " 'chordata': <gensim.models.keyedvectors.Vocab at 0x7f7129f72c50>,\n",
       " 'обожиться': <gensim.models.keyedvectors.Vocab at 0x7f7129f72c88>,\n",
       " 'беназир': <gensim.models.keyedvectors.Vocab at 0x7f7129f72cc0>,\n",
       " 'необычность': <gensim.models.keyedvectors.Vocab at 0x7f7129f72d30>,\n",
       " 'республика': <gensim.models.keyedvectors.Vocab at 0x7f7129f72d68>,\n",
       " 'морговским': <gensim.models.keyedvectors.Vocab at 0x7f7129f72da0>,\n",
       " 'vody': <gensim.models.keyedvectors.Vocab at 0x7f7129f72e10>,\n",
       " 'sauna': <gensim.models.keyedvectors.Vocab at 0x7f7129f72e48>,\n",
       " 'девственницей': <gensim.models.keyedvectors.Vocab at 0x7f7129f72e80>,\n",
       " 'репьевым': <gensim.models.keyedvectors.Vocab at 0x7f7129f72eb8>,\n",
       " 'холоднотакое': <gensim.models.keyedvectors.Vocab at 0x7f71286c44a8>,\n",
       " 'завидовать': <gensim.models.keyedvectors.Vocab at 0x7f7129f72f60>,\n",
       " 'локхарт': <gensim.models.keyedvectors.Vocab at 0x7f71224a0a20>,\n",
       " 'церквидвораимператора': <gensim.models.keyedvectors.Vocab at 0x7f7129f72f98>,\n",
       " 'strashny': <gensim.models.keyedvectors.Vocab at 0x7f7129f72fd0>,\n",
       " 'om': <gensim.models.keyedvectors.Vocab at 0x7f7127730438>,\n",
       " 'избалованного': <gensim.models.keyedvectors.Vocab at 0x7f7129f73080>,\n",
       " 'пророков': <gensim.models.keyedvectors.Vocab at 0x7f7129f730b8>,\n",
       " 'средствомкоап': <gensim.models.keyedvectors.Vocab at 0x7f7129f730f0>,\n",
       " 'neurobiological': <gensim.models.keyedvectors.Vocab at 0x7f71213bab70>,\n",
       " 'фильмыthe': <gensim.models.keyedvectors.Vocab at 0x7f7129f73160>,\n",
       " 'гладкости': <gensim.models.keyedvectors.Vocab at 0x7f7121d3e160>,\n",
       " 'коммуналка': <gensim.models.keyedvectors.Vocab at 0x7f7129f731d0>,\n",
       " 'проса': <gensim.models.keyedvectors.Vocab at 0x7f7129f73208>,\n",
       " 'воспользовавшить': <gensim.models.keyedvectors.Vocab at 0x7f7122ddc198>,\n",
       " 'oтлетай': <gensim.models.keyedvectors.Vocab at 0x7f7129f73278>,\n",
       " 'сайт': <gensim.models.keyedvectors.Vocab at 0x7f7129f732b0>,\n",
       " 'развитостью': <gensim.models.keyedvectors.Vocab at 0x7f7129f732e8>,\n",
       " 'platform': <gensim.models.keyedvectors.Vocab at 0x7f7129f73320>,\n",
       " 'стихийной': <gensim.models.keyedvectors.Vocab at 0x7f7129f73358>,\n",
       " 'билльмены': <gensim.models.keyedvectors.Vocab at 0x7f7129f73400>,\n",
       " 'чатами': <gensim.models.keyedvectors.Vocab at 0x7f7129f73438>,\n",
       " 'подренькое': <gensim.models.keyedvectors.Vocab at 0x7f7129f73470>,\n",
       " 'redo': <gensim.models.keyedvectors.Vocab at 0x7f7129f734a8>,\n",
       " 'карачках': <gensim.models.keyedvectors.Vocab at 0x7f7129f734e0>,\n",
       " 'трхсложная': <gensim.models.keyedvectors.Vocab at 0x7f7129f73550>,\n",
       " 'единолично': <gensim.models.keyedvectors.Vocab at 0x7f7129f73588>,\n",
       " 'металлики': <gensim.models.keyedvectors.Vocab at 0x7f7129f735c0>,\n",
       " 'teorii': <gensim.models.keyedvectors.Vocab at 0x7f7129f735f8>,\n",
       " 'станциичетыре': <gensim.models.keyedvectors.Vocab at 0x7f7121746390>,\n",
       " 'ослепили': <gensim.models.keyedvectors.Vocab at 0x7f7121c8b4a8>,\n",
       " 'образности': <gensim.models.keyedvectors.Vocab at 0x7f7129f736a0>,\n",
       " 'ситуациивот': <gensim.models.keyedvectors.Vocab at 0x7f7129f736d8>,\n",
       " 'эккермана': <gensim.models.keyedvectors.Vocab at 0x7f7129f73710>,\n",
       " 'врачевания': <gensim.models.keyedvectors.Vocab at 0x7f7129f73748>,\n",
       " 'скопированный': <gensim.models.keyedvectors.Vocab at 0x7f7129f73780>,\n",
       " 'всяческими': <gensim.models.keyedvectors.Vocab at 0x7f7129f737b8>,\n",
       " 'orglearnhistory': <gensim.models.keyedvectors.Vocab at 0x7f7129f737f0>,\n",
       " 'авторитаризмом': <gensim.models.keyedvectors.Vocab at 0x7f7121d3e2e8>,\n",
       " 'корневищами': <gensim.models.keyedvectors.Vocab at 0x7f712567ef98>,\n",
       " 'кндрзаметим': <gensim.models.keyedvectors.Vocab at 0x7f7129f738d0>,\n",
       " 'обвинявшийся': <gensim.models.keyedvectors.Vocab at 0x7f7129f73908>,\n",
       " 'непонарошечный': <gensim.models.keyedvectors.Vocab at 0x7f7129f73940>,\n",
       " 'измеряющие': <gensim.models.keyedvectors.Vocab at 0x7f7129f73978>,\n",
       " 'перестоиться': <gensim.models.keyedvectors.Vocab at 0x7f7129f739b0>,\n",
       " 'goldman': <gensim.models.keyedvectors.Vocab at 0x7f712567efd0>,\n",
       " 'великах': <gensim.models.keyedvectors.Vocab at 0x7f7129f73a20>,\n",
       " 'изображалось': <gensim.models.keyedvectors.Vocab at 0x7f7129f73a58>,\n",
       " 'посмотретькупитьпродатьскачать': <gensim.models.keyedvectors.Vocab at 0x7f7129f73a90>,\n",
       " 'гастелло': <gensim.models.keyedvectors.Vocab at 0x7f7129f73ac8>,\n",
       " 'раздаваемые': <gensim.models.keyedvectors.Vocab at 0x7f7129f73b38>,\n",
       " 'требушета': <gensim.models.keyedvectors.Vocab at 0x7f7129f73b70>,\n",
       " 'йоты': <gensim.models.keyedvectors.Vocab at 0x7f7129f73ba8>,\n",
       " 'сосватала': <gensim.models.keyedvectors.Vocab at 0x7f7129f73be0>,\n",
       " 'шпыняли': <gensim.models.keyedvectors.Vocab at 0x7f7129f73c18>,\n",
       " 'перелетят': <gensim.models.keyedvectors.Vocab at 0x7f7129f73c50>,\n",
       " 'soimagessymbols': <gensim.models.keyedvectors.Vocab at 0x7f7129f73c88>,\n",
       " 'разворовываете': <gensim.models.keyedvectors.Vocab at 0x7f7121833128>,\n",
       " 'безотказность': <gensim.models.keyedvectors.Vocab at 0x7f7125a1fd30>,\n",
       " 'аденоидный': <gensim.models.keyedvectors.Vocab at 0x7f7127730630>,\n",
       " 'внешностипо': <gensim.models.keyedvectors.Vocab at 0x7f71286d42e8>,\n",
       " 'истовостью': <gensim.models.keyedvectors.Vocab at 0x7f7129f73da0>,\n",
       " 'усомнится': <gensim.models.keyedvectors.Vocab at 0x7f7129f73dd8>,\n",
       " 'пресекающая': <gensim.models.keyedvectors.Vocab at 0x7f7129f73e10>,\n",
       " 'thou': <gensim.models.keyedvectors.Vocab at 0x7f7129f73e48>,\n",
       " 'панграмма': <gensim.models.keyedvectors.Vocab at 0x7f7129f73e80>,\n",
       " 'паркинсонадля': <gensim.models.keyedvectors.Vocab at 0x7f7129f73eb8>,\n",
       " 'исследователюгораздо': <gensim.models.keyedvectors.Vocab at 0x7f712162aa90>,\n",
       " 'dedovshchine': <gensim.models.keyedvectors.Vocab at 0x7f7129f73ef0>,\n",
       " 'распробовать': <gensim.models.keyedvectors.Vocab at 0x7f7129f73f28>,\n",
       " 'kotoryy': <gensim.models.keyedvectors.Vocab at 0x7f71214fc7f0>,\n",
       " 'шифровался': <gensim.models.keyedvectors.Vocab at 0x7f7129f73f60>,\n",
       " 'kulak': <gensim.models.keyedvectors.Vocab at 0x7f71229e35c0>,\n",
       " 'подозрительны': <gensim.models.keyedvectors.Vocab at 0x7f7129f73f98>,\n",
       " 'петроградке': <gensim.models.keyedvectors.Vocab at 0x7f7128571048>,\n",
       " 'ценностях': <gensim.models.keyedvectors.Vocab at 0x7f7129f73fd0>,\n",
       " 'стримами': <gensim.models.keyedvectors.Vocab at 0x7f7129f75048>,\n",
       " 'замедлил': <gensim.models.keyedvectors.Vocab at 0x7f7129f750b8>,\n",
       " 'одаривает': <gensim.models.keyedvectors.Vocab at 0x7f7129f750f0>,\n",
       " 'flist': <gensim.models.keyedvectors.Vocab at 0x7f7129f75128>,\n",
       " 'блекджеком': <gensim.models.keyedvectors.Vocab at 0x7f7129f75160>,\n",
       " 'ruгазы': <gensim.models.keyedvectors.Vocab at 0x7f7129f75198>,\n",
       " 'святош': <gensim.models.keyedvectors.Vocab at 0x7f7129f751d0>,\n",
       " 'фашистские': <gensim.models.keyedvectors.Vocab at 0x7f7129f75208>,\n",
       " 'одинм': <gensim.models.keyedvectors.Vocab at 0x7f7129f75240>,\n",
       " 'котя': <gensim.models.keyedvectors.Vocab at 0x7f7129f75278>,\n",
       " 'бескомпромиссного': <gensim.models.keyedvectors.Vocab at 0x7f71286da2b0>,\n",
       " 'позвонок': <gensim.models.keyedvectors.Vocab at 0x7f7129f752e8>,\n",
       " 'мошпит': <gensim.models.keyedvectors.Vocab at 0x7f7120e98be0>,\n",
       " 'должена': <gensim.models.keyedvectors.Vocab at 0x7f7129f75358>,\n",
       " 'охраняющая': <gensim.models.keyedvectors.Vocab at 0x7f7129f75390>,\n",
       " 'расчеленить': <gensim.models.keyedvectors.Vocab at 0x7f7121797e10>,\n",
       " 'хендерсон': <gensim.models.keyedvectors.Vocab at 0x7f7127730780>,\n",
       " 'вероотступником': <gensim.models.keyedvectors.Vocab at 0x7f7129f75438>,\n",
       " 'среднедоходных': <gensim.models.keyedvectors.Vocab at 0x7f71256001d0>,\n",
       " 'такооой': <gensim.models.keyedvectors.Vocab at 0x7f7129f754a8>,\n",
       " 'жизнис': <gensim.models.keyedvectors.Vocab at 0x7f7129f754e0>,\n",
       " 'есликогда': <gensim.models.keyedvectors.Vocab at 0x7f7129f75518>,\n",
       " 'royallib': <gensim.models.keyedvectors.Vocab at 0x7f7129f75550>,\n",
       " 'трескают': <gensim.models.keyedvectors.Vocab at 0x7f7129f75588>,\n",
       " 'гаваньв': <gensim.models.keyedvectors.Vocab at 0x7f7129f755c0>,\n",
       " 'отмерло': <gensim.models.keyedvectors.Vocab at 0x7f7129f755f8>,\n",
       " 'сокурсников': <gensim.models.keyedvectors.Vocab at 0x7f7129f75630>,\n",
       " 'поощрения': <gensim.models.keyedvectors.Vocab at 0x7f7129f75668>,\n",
       " 'средине': <gensim.models.keyedvectors.Vocab at 0x7f7129f756a0>,\n",
       " 'учениеофис': <gensim.models.keyedvectors.Vocab at 0x7f7126c5a668>,\n",
       " 'скуратова': <gensim.models.keyedvectors.Vocab at 0x7f7125600278>,\n",
       " 'dadpwhehvk': <gensim.models.keyedvectors.Vocab at 0x7f7129f75748>,\n",
       " 'котаженусобаку': <gensim.models.keyedvectors.Vocab at 0x7f7129f75780>,\n",
       " 'представиться': <gensim.models.keyedvectors.Vocab at 0x7f7129f757b8>,\n",
       " 'перчика': <gensim.models.keyedvectors.Vocab at 0x7f7129f757f0>,\n",
       " 'истомина': <gensim.models.keyedvectors.Vocab at 0x7f7122353c18>,\n",
       " 'побеседуйте': <gensim.models.keyedvectors.Vocab at 0x7f7122ddc550>,\n",
       " 'astronomically': <gensim.models.keyedvectors.Vocab at 0x7f7129f75860>,\n",
       " 'территорииогороженных': <gensim.models.keyedvectors.Vocab at 0x7f71286e0a58>,\n",
       " 'живодеры': <gensim.models.keyedvectors.Vocab at 0x7f7127a18a58>,\n",
       " 'воспитанному': <gensim.models.keyedvectors.Vocab at 0x7f7129f75908>,\n",
       " 'радпонятное': <gensim.models.keyedvectors.Vocab at 0x7f7129f75940>,\n",
       " 'ноябрь': <gensim.models.keyedvectors.Vocab at 0x7f7129f75978>,\n",
       " 'зайцевой': <gensim.models.keyedvectors.Vocab at 0x7f7129f759b0>,\n",
       " 'кутуза': <gensim.models.keyedvectors.Vocab at 0x7f7129f759e8>,\n",
       " 'грубоватым': <gensim.models.keyedvectors.Vocab at 0x7f7129f75a58>,\n",
       " 'анклаву': <gensim.models.keyedvectors.Vocab at 0x7f7129f75a90>,\n",
       " 'едзи': <gensim.models.keyedvectors.Vocab at 0x7f712322f748>,\n",
       " 'солдатаи': <gensim.models.keyedvectors.Vocab at 0x7f7129f75b38>,\n",
       " 'быстроприходящие': <gensim.models.keyedvectors.Vocab at 0x7f7129f75b70>,\n",
       " 'временная': <gensim.models.keyedvectors.Vocab at 0x7f7129f75ba8>,\n",
       " 'школткачук': <gensim.models.keyedvectors.Vocab at 0x7f712174ef28>,\n",
       " 'начальников': <gensim.models.keyedvectors.Vocab at 0x7f7129f75be0>,\n",
       " 'бочвар': <gensim.models.keyedvectors.Vocab at 0x7f7129f75c18>,\n",
       " 'specializes': <gensim.models.keyedvectors.Vocab at 0x7f71286e56d8>,\n",
       " 'битуй': <gensim.models.keyedvectors.Vocab at 0x7f7129f75cc0>,\n",
       " 'упаковываете': <gensim.models.keyedvectors.Vocab at 0x7f7129f75cf8>,\n",
       " 'ведреет': <gensim.models.keyedvectors.Vocab at 0x7f7129f75d30>,\n",
       " 'пивнушки': <gensim.models.keyedvectors.Vocab at 0x7f7129f75d68>,\n",
       " 'проведте': <gensim.models.keyedvectors.Vocab at 0x7f7129f75da0>,\n",
       " 'дописьменную': <gensim.models.keyedvectors.Vocab at 0x7f7129f75dd8>,\n",
       " 'эпидемических': <gensim.models.keyedvectors.Vocab at 0x7f7129f75e48>,\n",
       " 'изуверскими': <gensim.models.keyedvectors.Vocab at 0x7f7129f75e80>,\n",
       " 'столпившиеся': <gensim.models.keyedvectors.Vocab at 0x7f71214352b0>,\n",
       " 'cartae': <gensim.models.keyedvectors.Vocab at 0x7f71222c0160>,\n",
       " 'длиинный': <gensim.models.keyedvectors.Vocab at 0x7f7129f75ef0>,\n",
       " 'ховански': <gensim.models.keyedvectors.Vocab at 0x7f7120dee5c0>,\n",
       " 'torproject': <gensim.models.keyedvectors.Vocab at 0x7f7129f75f28>,\n",
       " 'iпробовал': <gensim.models.keyedvectors.Vocab at 0x7f7129f75f60>,\n",
       " 'терезия': <gensim.models.keyedvectors.Vocab at 0x7f7129f75f98>,\n",
       " 'ngre': <gensim.models.keyedvectors.Vocab at 0x7f7129f75fd0>,\n",
       " 'установления': <gensim.models.keyedvectors.Vocab at 0x7f7121f9e2b0>,\n",
       " 'поперву': <gensim.models.keyedvectors.Vocab at 0x7f7129f76080>,\n",
       " 'проделками': <gensim.models.keyedvectors.Vocab at 0x7f71211024a8>,\n",
       " 'статном': <gensim.models.keyedvectors.Vocab at 0x7f71237156a0>,\n",
       " 'перепелок': <gensim.models.keyedvectors.Vocab at 0x7f7129f76128>,\n",
       " 'манускрипт': <gensim.models.keyedvectors.Vocab at 0x7f7129f76160>,\n",
       " 'заинстаграмить': <gensim.models.keyedvectors.Vocab at 0x7f7129f76198>,\n",
       " 'рубанул': <gensim.models.keyedvectors.Vocab at 0x7f7127730a58>,\n",
       " 'перв': <gensim.models.keyedvectors.Vocab at 0x7f712668c320>,\n",
       " 'влюбленных': <gensim.models.keyedvectors.Vocab at 0x7f7129f76278>,\n",
       " 'buchpreis': <gensim.models.keyedvectors.Vocab at 0x7f7129f762b0>,\n",
       " 'амфору': <gensim.models.keyedvectors.Vocab at 0x7f7129f762e8>,\n",
       " 'касым': <gensim.models.keyedvectors.Vocab at 0x7f7129f76320>,\n",
       " 'машинеоднажды': <gensim.models.keyedvectors.Vocab at 0x7f7129f76358>,\n",
       " 'скольжу': <gensim.models.keyedvectors.Vocab at 0x7f7129f76390>,\n",
       " 'драматургией': <gensim.models.keyedvectors.Vocab at 0x7f7122bedef0>,\n",
       " 'петерса': <gensim.models.keyedvectors.Vocab at 0x7f7129f763c8>,\n",
       " 'сделатьво': <gensim.models.keyedvectors.Vocab at 0x7f7122900438>,\n",
       " 'баркасе': <gensim.models.keyedvectors.Vocab at 0x7f7129f76400>,\n",
       " 'эммигрировало': <gensim.models.keyedvectors.Vocab at 0x7f71286ed668>,\n",
       " 'ваааау': <gensim.models.keyedvectors.Vocab at 0x7f7129f764a8>,\n",
       " 'кративщиков': <gensim.models.keyedvectors.Vocab at 0x7f7129f764e0>,\n",
       " 'застопоренная': <gensim.models.keyedvectors.Vocab at 0x7f7129f76588>,\n",
       " 'разновес': <gensim.models.keyedvectors.Vocab at 0x7f7129f765c0>,\n",
       " 'suspend': <gensim.models.keyedvectors.Vocab at 0x7f7129f765f8>,\n",
       " 'прибрести': <gensim.models.keyedvectors.Vocab at 0x7f7126fb1eb8>,\n",
       " 'прикинулась': <gensim.models.keyedvectors.Vocab at 0x7f7129f76668>,\n",
       " 'рыжийчто': <gensim.models.keyedvectors.Vocab at 0x7f7129f766a0>,\n",
       " 'сжегшего': <gensim.models.keyedvectors.Vocab at 0x7f7129f766d8>,\n",
       " 'баллчто': <gensim.models.keyedvectors.Vocab at 0x7f71232393c8>,\n",
       " 'хипстерски': <gensim.models.keyedvectors.Vocab at 0x7f7129f76748>,\n",
       " 'устнымписьменным': <gensim.models.keyedvectors.Vocab at 0x7f7129f76780>,\n",
       " 'притаившись': <gensim.models.keyedvectors.Vocab at 0x7f7129f767f0>,\n",
       " 'зажимкомплекс': <gensim.models.keyedvectors.Vocab at 0x7f7129f76828>,\n",
       " 'аскетичная': <gensim.models.keyedvectors.Vocab at 0x7f7129f76860>,\n",
       " 'позвала': <gensim.models.keyedvectors.Vocab at 0x7f7129f76898>,\n",
       " 'стиляизображения': <gensim.models.keyedvectors.Vocab at 0x7f7129f768d0>,\n",
       " 'бойстесь': <gensim.models.keyedvectors.Vocab at 0x7f7129f76908>,\n",
       " 'фотографическую': <gensim.models.keyedvectors.Vocab at 0x7f7129f76940>,\n",
       " 'gizmodo': <gensim.models.keyedvectors.Vocab at 0x7f71256005c0>,\n",
       " 'наводило': <gensim.models.keyedvectors.Vocab at 0x7f7129f769b0>,\n",
       " 'показательные': <gensim.models.keyedvectors.Vocab at 0x7f7129f769e8>,\n",
       " 'рожденияон': <gensim.models.keyedvectors.Vocab at 0x7f7129f76a20>,\n",
       " 'magnolia': <gensim.models.keyedvectors.Vocab at 0x7f7129f76a58>,\n",
       " 'амелией': <gensim.models.keyedvectors.Vocab at 0x7f7129f76a90>,\n",
       " 'гвaрдии': <gensim.models.keyedvectors.Vocab at 0x7f7129f76ac8>,\n",
       " 'проклянут': <gensim.models.keyedvectors.Vocab at 0x7f7125ecc240>,\n",
       " 'ренатой': <gensim.models.keyedvectors.Vocab at 0x7f7129f76b00>,\n",
       " 'сучок': <gensim.models.keyedvectors.Vocab at 0x7f7129f76b38>,\n",
       " 'нощнаго': <gensim.models.keyedvectors.Vocab at 0x7f7129f76b70>,\n",
       " 'инициативе': <gensim.models.keyedvectors.Vocab at 0x7f7129f76ba8>,\n",
       " 'многообразны': <gensim.models.keyedvectors.Vocab at 0x7f7129f76be0>,\n",
       " 'формулировку': <gensim.models.keyedvectors.Vocab at 0x7f7129f76c18>,\n",
       " 'parazity': <gensim.models.keyedvectors.Vocab at 0x7f7129f76c50>,\n",
       " 'отравите': <gensim.models.keyedvectors.Vocab at 0x7f7129f76c88>,\n",
       " 'топорность': <gensim.models.keyedvectors.Vocab at 0x7f7129f76cc0>,\n",
       " 'фудницу': <gensim.models.keyedvectors.Vocab at 0x7f7129f76cf8>,\n",
       " 'ухаживающе': <gensim.models.keyedvectors.Vocab at 0x7f7129f76d30>,\n",
       " 'авиаперевозками': <gensim.models.keyedvectors.Vocab at 0x7f7120db86a0>,\n",
       " 'староверам': <gensim.models.keyedvectors.Vocab at 0x7f71265f56d8>,\n",
       " 'эпитафий': <gensim.models.keyedvectors.Vocab at 0x7f7129f76da0>,\n",
       " 'трехлетие': <gensim.models.keyedvectors.Vocab at 0x7f7129f76dd8>,\n",
       " 'blackheads': <gensim.models.keyedvectors.Vocab at 0x7f7129f76e10>,\n",
       " 'ростовые': <gensim.models.keyedvectors.Vocab at 0x7f7129f76e48>,\n",
       " 'скифов': <gensim.models.keyedvectors.Vocab at 0x7f71225fb518>,\n",
       " 'файр': <gensim.models.keyedvectors.Vocab at 0x7f7129f76eb8>,\n",
       " 'производимого': <gensim.models.keyedvectors.Vocab at 0x7f7129f76f28>,\n",
       " 'шортиста': <gensim.models.keyedvectors.Vocab at 0x7f7129f76f60>,\n",
       " 'вуглинкауголек': <gensim.models.keyedvectors.Vocab at 0x7f71286f5f60>,\n",
       " 'настоятеле': <gensim.models.keyedvectors.Vocab at 0x7f7129f76fd0>,\n",
       " 'мельвиля': <gensim.models.keyedvectors.Vocab at 0x7f7129f79048>,\n",
       " 'топорбилет': <gensim.models.keyedvectors.Vocab at 0x7f7129f79080>,\n",
       " 'отмметить': <gensim.models.keyedvectors.Vocab at 0x7f7129f790b8>,\n",
       " 'nachat': <gensim.models.keyedvectors.Vocab at 0x7f7129f790f0>,\n",
       " 'перетерпело': <gensim.models.keyedvectors.Vocab at 0x7f71213f36d8>,\n",
       " 'кривич': <gensim.models.keyedvectors.Vocab at 0x7f7121717a58>,\n",
       " 'раздавливает': <gensim.models.keyedvectors.Vocab at 0x7f7129f79198>,\n",
       " 'одноклассникисокурсники': <gensim.models.keyedvectors.Vocab at 0x7f7129f791d0>,\n",
       " 'дежа': <gensim.models.keyedvectors.Vocab at 0x7f712202f7f0>,\n",
       " 'методам': <gensim.models.keyedvectors.Vocab at 0x7f7129f79240>,\n",
       " 'плюсуем': <gensim.models.keyedvectors.Vocab at 0x7f7129f79278>,\n",
       " 'герков': <gensim.models.keyedvectors.Vocab at 0x7f7129f792b0>,\n",
       " 'oledamoled': <gensim.models.keyedvectors.Vocab at 0x7f71223d3358>,\n",
       " 'непрекращаемом': <gensim.models.keyedvectors.Vocab at 0x7f7129f79320>,\n",
       " 'филлипиныа': <gensim.models.keyedvectors.Vocab at 0x7f7129f79358>,\n",
       " 'ночнушка': <gensim.models.keyedvectors.Vocab at 0x7f7129f793c8>,\n",
       " 'вычетами': <gensim.models.keyedvectors.Vocab at 0x7f7121d3ea90>,\n",
       " 'переноска': <gensim.models.keyedvectors.Vocab at 0x7f7129f79470>,\n",
       " 'гюисманс': <gensim.models.keyedvectors.Vocab at 0x7f7125600780>,\n",
       " 'пытающейся': <gensim.models.keyedvectors.Vocab at 0x7f7129f794e0>,\n",
       " 'месседжеров': <gensim.models.keyedvectors.Vocab at 0x7f7129f79518>,\n",
       " 'уауау': <gensim.models.keyedvectors.Vocab at 0x7f7129f79550>,\n",
       " 'меhaнизмы': <gensim.models.keyedvectors.Vocab at 0x7f71286fd1d0>,\n",
       " 'афродизиакэто': <gensim.models.keyedvectors.Vocab at 0x7f71213f9c50>,\n",
       " 'балахоны': <gensim.models.keyedvectors.Vocab at 0x7f7129f79668>,\n",
       " 'рядам': <gensim.models.keyedvectors.Vocab at 0x7f7129f796a0>,\n",
       " 'лаванов': <gensim.models.keyedvectors.Vocab at 0x7f7127040cf8>,\n",
       " 'середнячки': <gensim.models.keyedvectors.Vocab at 0x7f7129f796d8>,\n",
       " 'раскрутитьсяесли': <gensim.models.keyedvectors.Vocab at 0x7f7129f79710>,\n",
       " 'jino': <gensim.models.keyedvectors.Vocab at 0x7f7121d3eb00>,\n",
       " 'чернилица': <gensim.models.keyedvectors.Vocab at 0x7f7129f79748>,\n",
       " 'исследователя': <gensim.models.keyedvectors.Vocab at 0x7f7129f79780>,\n",
       " 'скан': <gensim.models.keyedvectors.Vocab at 0x7f7122ddca20>,\n",
       " 'добровольном': <gensim.models.keyedvectors.Vocab at 0x7f7129f797f0>,\n",
       " 'судаков': <gensim.models.keyedvectors.Vocab at 0x7f7129f79828>,\n",
       " 'эниак': <gensim.models.keyedvectors.Vocab at 0x7f7129f79860>,\n",
       " 'межлекальные': <gensim.models.keyedvectors.Vocab at 0x7f7129f79898>,\n",
       " 'сконцентрированную': <gensim.models.keyedvectors.Vocab at 0x7f7129f798d0>,\n",
       " 'настроить': <gensim.models.keyedvectors.Vocab at 0x7f7129f79908>,\n",
       " 'одесских': <gensim.models.keyedvectors.Vocab at 0x7f7129f79940>,\n",
       " 'аутентичного': <gensim.models.keyedvectors.Vocab at 0x7f7129f79978>,\n",
       " 'открыватьв': <gensim.models.keyedvectors.Vocab at 0x7f7129f799b0>,\n",
       " 'жеупоминавшийся': <gensim.models.keyedvectors.Vocab at 0x7f7129f799e8>,\n",
       " 'перекрстков': <gensim.models.keyedvectors.Vocab at 0x7f7129f79a20>,\n",
       " 'сердцепробито': <gensim.models.keyedvectors.Vocab at 0x7f7129f79a58>,\n",
       " 'трубить': <gensim.models.keyedvectors.Vocab at 0x7f7129f79a90>,\n",
       " 'времи': <gensim.models.keyedvectors.Vocab at 0x7f7129f79ac8>,\n",
       " 'закрытости': <gensim.models.keyedvectors.Vocab at 0x7f7129f79b00>,\n",
       " 'ситуациям': <gensim.models.keyedvectors.Vocab at 0x7f7129f79b38>,\n",
       " 'ооо': <gensim.models.keyedvectors.Vocab at 0x7f7127730e48>,\n",
       " 'десятин': <gensim.models.keyedvectors.Vocab at 0x7f7129f79ba8>,\n",
       " 'высадок': <gensim.models.keyedvectors.Vocab at 0x7f7129f79be0>,\n",
       " 'photoplay': <gensim.models.keyedvectors.Vocab at 0x7f7129f79c18>,\n",
       " 'необразованности': <gensim.models.keyedvectors.Vocab at 0x7f7121b1a5f8>,\n",
       " 'прорекламировали': <gensim.models.keyedvectors.Vocab at 0x7f7129f79c50>,\n",
       " 'узнавании': <gensim.models.keyedvectors.Vocab at 0x7f7129f79c88>,\n",
       " 'подрегулировать': <gensim.models.keyedvectors.Vocab at 0x7f7122e2d2e8>,\n",
       " 'загрязняться': <gensim.models.keyedvectors.Vocab at 0x7f7121d3ebe0>,\n",
       " 'нумизматику': <gensim.models.keyedvectors.Vocab at 0x7f7129f79cf8>,\n",
       " 'самойловадавай': <gensim.models.keyedvectors.Vocab at 0x7f7120dbddd8>,\n",
       " 'опустил': <gensim.models.keyedvectors.Vocab at 0x7f7129f79d30>,\n",
       " 'невысоко': <gensim.models.keyedvectors.Vocab at 0x7f7121d3ec18>,\n",
       " 'лeтoвптички': <gensim.models.keyedvectors.Vocab at 0x7f7129f79d68>,\n",
       " 'shinichi': <gensim.models.keyedvectors.Vocab at 0x7f7128686748>,\n",
       " 'главарями': <gensim.models.keyedvectors.Vocab at 0x7f7121e93630>,\n",
       " 'умелая': <gensim.models.keyedvectors.Vocab at 0x7f7122ddcb70>,\n",
       " 'прорвать': <gensim.models.keyedvectors.Vocab at 0x7f7129f79e10>,\n",
       " 'крадете': <gensim.models.keyedvectors.Vocab at 0x7f7129f79e48>,\n",
       " 'непрактичный': <gensim.models.keyedvectors.Vocab at 0x7f7129f79e80>,\n",
       " 'devilby': <gensim.models.keyedvectors.Vocab at 0x7f7129f79eb8>,\n",
       " 'пэррота': <gensim.models.keyedvectors.Vocab at 0x7f7129f79ef0>,\n",
       " 'неявных': <gensim.models.keyedvectors.Vocab at 0x7f7129f79f28>,\n",
       " 'skirt': <gensim.models.keyedvectors.Vocab at 0x7f7129f79f60>,\n",
       " 'дружеского': <gensim.models.keyedvectors.Vocab at 0x7f7122ddcba8>,\n",
       " 'контрабандиста': <gensim.models.keyedvectors.Vocab at 0x7f7129f7c080>,\n",
       " 'детеныше': <gensim.models.keyedvectors.Vocab at 0x7f7129f7c0b8>,\n",
       " 'назчат': <gensim.models.keyedvectors.Vocab at 0x7f7129f7c0f0>,\n",
       " 'шестидневной': <gensim.models.keyedvectors.Vocab at 0x7f7129f7c128>,\n",
       " 'шутейские': <gensim.models.keyedvectors.Vocab at 0x7f7129f7c160>,\n",
       " 'фарматекс': <gensim.models.keyedvectors.Vocab at 0x7f7129f7c198>,\n",
       " 'человекассылки': <gensim.models.keyedvectors.Vocab at 0x7f7129f7c1d0>,\n",
       " 'паргин': <gensim.models.keyedvectors.Vocab at 0x7f7129f7c208>,\n",
       " 'iskusstvo': <gensim.models.keyedvectors.Vocab at 0x7f7129f7c240>,\n",
       " 'абдулатипова': <gensim.models.keyedvectors.Vocab at 0x7f7125f63828>,\n",
       " 'каталогом': <gensim.models.keyedvectors.Vocab at 0x7f7129f7c2b0>,\n",
       " 'lavera': <gensim.models.keyedvectors.Vocab at 0x7f7129f7c358>,\n",
       " 'glrrwqk': <gensim.models.keyedvectors.Vocab at 0x7f7129f7c390>,\n",
       " 'таскам': <gensim.models.keyedvectors.Vocab at 0x7f712868b7b8>,\n",
       " 'sicario': <gensim.models.keyedvectors.Vocab at 0x7f7129f7c400>,\n",
       " 'итогвконтакте': <gensim.models.keyedvectors.Vocab at 0x7f7129f7c470>,\n",
       " 'ненасыщенности': <gensim.models.keyedvectors.Vocab at 0x7f7129f7c4a8>,\n",
       " 'хужеовощ': <gensim.models.keyedvectors.Vocab at 0x7f7129f7c4e0>,\n",
       " 'старик': <gensim.models.keyedvectors.Vocab at 0x7f7129f7c518>,\n",
       " 'сушки': <gensim.models.keyedvectors.Vocab at 0x7f71277320b8>,\n",
       " 'стоянок': <gensim.models.keyedvectors.Vocab at 0x7f7129f7c588>,\n",
       " 'нечаста': <gensim.models.keyedvectors.Vocab at 0x7f7121d3ed68>,\n",
       " 'изображнными': <gensim.models.keyedvectors.Vocab at 0x7f7129f7c5f8>,\n",
       " 'блошиних': <gensim.models.keyedvectors.Vocab at 0x7f7129f7c668>,\n",
       " 'апотропетическая': <gensim.models.keyedvectors.Vocab at 0x7f7129f7c6a0>,\n",
       " 'клейменного': <gensim.models.keyedvectors.Vocab at 0x7f7121d3eda0>,\n",
       " 'себена': <gensim.models.keyedvectors.Vocab at 0x7f7129f7c710>,\n",
       " 'полтра': <gensim.models.keyedvectors.Vocab at 0x7f71215d7ef0>,\n",
       " 'компетентные': <gensim.models.keyedvectors.Vocab at 0x7f7129f7c748>,\n",
       " 'поздравляла': <gensim.models.keyedvectors.Vocab at 0x7f7129f7c780>,\n",
       " 'скажубуддизм': <gensim.models.keyedvectors.Vocab at 0x7f7129f7c7b8>,\n",
       " 'отснят': <gensim.models.keyedvectors.Vocab at 0x7f7129f7c7f0>,\n",
       " 'путает': <gensim.models.keyedvectors.Vocab at 0x7f7129f7c860>,\n",
       " 'аффекта': <gensim.models.keyedvectors.Vocab at 0x7f7129f7c898>,\n",
       " 'терезиенштадт': <gensim.models.keyedvectors.Vocab at 0x7f7129f7c8d0>,\n",
       " 'мыжебылидети': <gensim.models.keyedvectors.Vocab at 0x7f7129f7c908>,\n",
       " 'перспективней': <gensim.models.keyedvectors.Vocab at 0x7f7129f7c940>,\n",
       " 'руинами': <gensim.models.keyedvectors.Vocab at 0x7f712131c588>,\n",
       " 'миллионнике': <gensim.models.keyedvectors.Vocab at 0x7f7129f7c9b0>,\n",
       " 'капиллярная': <gensim.models.keyedvectors.Vocab at 0x7f7129f7c9e8>,\n",
       " 'рублейровно': <gensim.models.keyedvectors.Vocab at 0x7f7129f7ca20>,\n",
       " 'перевернутое': <gensim.models.keyedvectors.Vocab at 0x7f7127732198>,\n",
       " 'тамбуре': <gensim.models.keyedvectors.Vocab at 0x7f7129f7ca90>,\n",
       " 'проектахзадачах': <gensim.models.keyedvectors.Vocab at 0x7f7125d04208>,\n",
       " 'тизер': <gensim.models.keyedvectors.Vocab at 0x7f7129f7cb00>,\n",
       " 'кровоточивость': <gensim.models.keyedvectors.Vocab at 0x7f7129f7cb38>,\n",
       " 'берхер': <gensim.models.keyedvectors.Vocab at 0x7f7129f7cb70>,\n",
       " 'неравноправных': <gensim.models.keyedvectors.Vocab at 0x7f71277321d0>,\n",
       " 'откусил': <gensim.models.keyedvectors.Vocab at 0x7f7121d3eef0>,\n",
       " 'юнассон': <gensim.models.keyedvectors.Vocab at 0x7f7129f7cc18>,\n",
       " 'характеризации': <gensim.models.keyedvectors.Vocab at 0x7f7125600a90>,\n",
       " 'агоре': <gensim.models.keyedvectors.Vocab at 0x7f7129f7cc88>,\n",
       " 'blogs': <gensim.models.keyedvectors.Vocab at 0x7f7121d3ef28>,\n",
       " 'листочками': <gensim.models.keyedvectors.Vocab at 0x7f7129f7ccf8>,\n",
       " 'осмысливая': <gensim.models.keyedvectors.Vocab at 0x7f7122ddce80>,\n",
       " 'почемуздесь': <gensim.models.keyedvectors.Vocab at 0x7f7129f7cdd8>,\n",
       " 'матиз': <gensim.models.keyedvectors.Vocab at 0x7f7129f7ce48>,\n",
       " 'kappeler': <gensim.models.keyedvectors.Vocab at 0x7f712129e8d0>,\n",
       " 'булавкой': <gensim.models.keyedvectors.Vocab at 0x7f7121b5f400>,\n",
       " 'обварила': <gensim.models.keyedvectors.Vocab at 0x7f71237a3400>,\n",
       " 'демократичную': <gensim.models.keyedvectors.Vocab at 0x7f7129f7cf60>,\n",
       " 'dada': <gensim.models.keyedvectors.Vocab at 0x7f7129f7cf98>,\n",
       " 'ритмичные': <gensim.models.keyedvectors.Vocab at 0x7f7129f7cfd0>,\n",
       " 'невообразим': <gensim.models.keyedvectors.Vocab at 0x7f7122471da0>,\n",
       " 'livanskiy': <gensim.models.keyedvectors.Vocab at 0x7f7129f7f080>,\n",
       " 'ближайших': <gensim.models.keyedvectors.Vocab at 0x7f7129f7f0f0>,\n",
       " 'объяснялосьthequestion': <gensim.models.keyedvectors.Vocab at 0x7f7122ddcf28>,\n",
       " 'сообщала': <gensim.models.keyedvectors.Vocab at 0x7f7121d3efd0>,\n",
       " 'тощую': <gensim.models.keyedvectors.Vocab at 0x7f7129f7f1d0>,\n",
       " 'викуку': <gensim.models.keyedvectors.Vocab at 0x7f7129f7f208>,\n",
       " 'флаге': <gensim.models.keyedvectors.Vocab at 0x7f7129f7f240>,\n",
       " 'мягчит': <gensim.models.keyedvectors.Vocab at 0x7f7129f7f278>,\n",
       " 'мажарыстан': <gensim.models.keyedvectors.Vocab at 0x7f7129f7f2b0>,\n",
       " 'войныесли': <gensim.models.keyedvectors.Vocab at 0x7f7129f7f2e8>,\n",
       " 'smeltet': <gensim.models.keyedvectors.Vocab at 0x7f7129f7f320>,\n",
       " 'уставшим': <gensim.models.keyedvectors.Vocab at 0x7f7129f7f358>,\n",
       " 'довлатовское': <gensim.models.keyedvectors.Vocab at 0x7f7129f7f3c8>,\n",
       " 'млмлл': <gensim.models.keyedvectors.Vocab at 0x7f7129f7f400>,\n",
       " 'sept': <gensim.models.keyedvectors.Vocab at 0x7f7129f7f438>,\n",
       " 'волчицы': <gensim.models.keyedvectors.Vocab at 0x7f7129f7f470>,\n",
       " 'утаскивая': <gensim.models.keyedvectors.Vocab at 0x7f7125d22668>,\n",
       " 'естьцепкую': <gensim.models.keyedvectors.Vocab at 0x7f7129f7f4e0>,\n",
       " 'рукава': <gensim.models.keyedvectors.Vocab at 0x7f71277322b0>,\n",
       " 'возродятся': <gensim.models.keyedvectors.Vocab at 0x7f712869be80>,\n",
       " 'rapsinews': <gensim.models.keyedvectors.Vocab at 0x7f7129f7f588>,\n",
       " 'голодна': <gensim.models.keyedvectors.Vocab at 0x7f71212db8d0>,\n",
       " 'рекламодателем': <gensim.models.keyedvectors.Vocab at 0x7f7129f7f5c0>,\n",
       " 'pathfinder': <gensim.models.keyedvectors.Vocab at 0x7f7129f7f5f8>,\n",
       " 'репутации': <gensim.models.keyedvectors.Vocab at 0x7f71219dda90>,\n",
       " 'показанно': <gensim.models.keyedvectors.Vocab at 0x7f7122229828>,\n",
       " 'магнитых': <gensim.models.keyedvectors.Vocab at 0x7f7129f7f668>,\n",
       " 'эквадоре': <gensim.models.keyedvectors.Vocab at 0x7f7129f7f6a0>,\n",
       " 'переоценке': <gensim.models.keyedvectors.Vocab at 0x7f7129f7f6d8>,\n",
       " 'позабыло': <gensim.models.keyedvectors.Vocab at 0x7f7129f7f710>,\n",
       " 'деятелях': <gensim.models.keyedvectors.Vocab at 0x7f7129f7f748>,\n",
       " 'колесные': <gensim.models.keyedvectors.Vocab at 0x7f7129f7f780>,\n",
       " 'автомоблистроении': <gensim.models.keyedvectors.Vocab at 0x7f7129f7f7b8>,\n",
       " 'вариков': <gensim.models.keyedvectors.Vocab at 0x7f7129f7f7f0>,\n",
       " 'предприимчивый': <gensim.models.keyedvectors.Vocab at 0x7f71217a23c8>,\n",
       " 'сериями': <gensim.models.keyedvectors.Vocab at 0x7f7129f7f828>,\n",
       " 'теплоконтроль': <gensim.models.keyedvectors.Vocab at 0x7f7122dde0b8>,\n",
       " 'либимое': <gensim.models.keyedvectors.Vocab at 0x7f7129f7f860>,\n",
       " 'облупленных': <gensim.models.keyedvectors.Vocab at 0x7f7129f7f898>,\n",
       " 'авантюрности': <gensim.models.keyedvectors.Vocab at 0x7f7129f7f8d0>,\n",
       " 'весу': <gensim.models.keyedvectors.Vocab at 0x7f7129f7f908>,\n",
       " 'непробиваемыми': <gensim.models.keyedvectors.Vocab at 0x7f7129f7f940>,\n",
       " 'хребтового': <gensim.models.keyedvectors.Vocab at 0x7f7129f7f978>,\n",
       " 'прольт': <gensim.models.keyedvectors.Vocab at 0x7f7129f7f9b0>,\n",
       " 'объективностью': <gensim.models.keyedvectors.Vocab at 0x7f7129f7f9e8>,\n",
       " 'призывами': <gensim.models.keyedvectors.Vocab at 0x7f7121d40160>,\n",
       " 'вырост': <gensim.models.keyedvectors.Vocab at 0x7f7121ad1be0>,\n",
       " 'комментам': <gensim.models.keyedvectors.Vocab at 0x7f7126e93710>,\n",
       " 'сонатину': <gensim.models.keyedvectors.Vocab at 0x7f7121278e10>,\n",
       " 'злодеяниях': <gensim.models.keyedvectors.Vocab at 0x7f7121084f60>,\n",
       " 'работайте': <gensim.models.keyedvectors.Vocab at 0x7f7129f7fac8>,\n",
       " 'учестьв': <gensim.models.keyedvectors.Vocab at 0x7f71286a3588>,\n",
       " 'mоскву': <gensim.models.keyedvectors.Vocab at 0x7f71286a3780>,\n",
       " 'квирин': <gensim.models.keyedvectors.Vocab at 0x7f7129f7fb70>,\n",
       " 'клетчатых': <gensim.models.keyedvectors.Vocab at 0x7f7129f7fba8>,\n",
       " 'стоитжелаю': <gensim.models.keyedvectors.Vocab at 0x7f71286a3908>,\n",
       " 'тренежрах': <gensim.models.keyedvectors.Vocab at 0x7f7129f7fc18>,\n",
       " 'норовишь': <gensim.models.keyedvectors.Vocab at 0x7f7129f7fc50>,\n",
       " 'келоиды': <gensim.models.keyedvectors.Vocab at 0x7f7129f7fc88>,\n",
       " 'заиливания': <gensim.models.keyedvectors.Vocab at 0x7f7129f7fcc0>,\n",
       " 'родился': <gensim.models.keyedvectors.Vocab at 0x7f7129f7fcf8>,\n",
       " 'very': <gensim.models.keyedvectors.Vocab at 0x7f7129f7fd30>,\n",
       " 'истощающих': <gensim.models.keyedvectors.Vocab at 0x7f7129f7fd68>,\n",
       " 'dummymag': <gensim.models.keyedvectors.Vocab at 0x7f7129f7fda0>,\n",
       " 'птолемеевой': <gensim.models.keyedvectors.Vocab at 0x7f7129f7fdd8>,\n",
       " 'марафонпосле': <gensim.models.keyedvectors.Vocab at 0x7f7129f7fe10>,\n",
       " 'обуйе': <gensim.models.keyedvectors.Vocab at 0x7f7129f7fe48>,\n",
       " 'оскароносных': <gensim.models.keyedvectors.Vocab at 0x7f7129f7fe80>,\n",
       " 'концептуалисты': <gensim.models.keyedvectors.Vocab at 0x7f7129f7feb8>,\n",
       " 'обезопасит': <gensim.models.keyedvectors.Vocab at 0x7f7129f7fef0>,\n",
       " 'dental': <gensim.models.keyedvectors.Vocab at 0x7f7129f7ff60>,\n",
       " 'сталкивающийся': <gensim.models.keyedvectors.Vocab at 0x7f7129f7ff98>,\n",
       " 'втирающие': <gensim.models.keyedvectors.Vocab at 0x7f7128701048>,\n",
       " 'кажду': <gensim.models.keyedvectors.Vocab at 0x7f71287010b8>,\n",
       " 'троллю': <gensim.models.keyedvectors.Vocab at 0x7f7125600dd8>,\n",
       " 'малоинтересно': <gensim.models.keyedvectors.Vocab at 0x7f7128701160>,\n",
       " 'кроссфит': <gensim.models.keyedvectors.Vocab at 0x7f7127732470>,\n",
       " 'проваливаются': <gensim.models.keyedvectors.Vocab at 0x7f71287011d0>,\n",
       " 'затерянном': <gensim.models.keyedvectors.Vocab at 0x7f71286a9ba8>,\n",
       " 'предоставившему': <gensim.models.keyedvectors.Vocab at 0x7f7128701240>,\n",
       " 'полисы': <gensim.models.keyedvectors.Vocab at 0x7f71237f44e0>,\n",
       " 'азазелло': <gensim.models.keyedvectors.Vocab at 0x7f7128701278>,\n",
       " 'оправляться': <gensim.models.keyedvectors.Vocab at 0x7f71286ac0b8>,\n",
       " 'leste': <gensim.models.keyedvectors.Vocab at 0x7f7128701320>,\n",
       " 'применении': <gensim.models.keyedvectors.Vocab at 0x7f7128701358>,\n",
       " 'вицин': <gensim.models.keyedvectors.Vocab at 0x7f7128701390>,\n",
       " 'кумирах': <gensim.models.keyedvectors.Vocab at 0x7f7121cac240>,\n",
       " 'vojska': <gensim.models.keyedvectors.Vocab at 0x7f71213246a0>,\n",
       " 'бессмертные': <gensim.models.keyedvectors.Vocab at 0x7f7122d1aeb8>,\n",
       " 'тамешивари': <gensim.models.keyedvectors.Vocab at 0x7f71275c7828>,\n",
       " 'полупроводники': <gensim.models.keyedvectors.Vocab at 0x7f7128701438>,\n",
       " 'бессодержательность': <gensim.models.keyedvectors.Vocab at 0x7f7128701470>,\n",
       " 'лгущего': <gensim.models.keyedvectors.Vocab at 0x7f71287014a8>,\n",
       " 'присмотрелись': <gensim.models.keyedvectors.Vocab at 0x7f71287014e0>,\n",
       " 'газетнке': <gensim.models.keyedvectors.Vocab at 0x7f7128701518>,\n",
       " 'непроходимых': <gensim.models.keyedvectors.Vocab at 0x7f7128701550>,\n",
       " 'коренятся': <gensim.models.keyedvectors.Vocab at 0x7f71287015c0>,\n",
       " 'антенн': <gensim.models.keyedvectors.Vocab at 0x7f71287015f8>,\n",
       " 'гойом': <gensim.models.keyedvectors.Vocab at 0x7f7128701630>,\n",
       " 'введении': <gensim.models.keyedvectors.Vocab at 0x7f7128701668>,\n",
       " 'наличниках': <gensim.models.keyedvectors.Vocab at 0x7f71287016a0>,\n",
       " 'нерафинированных': <gensim.models.keyedvectors.Vocab at 0x7f71287016d8>,\n",
       " 'бушующие': <gensim.models.keyedvectors.Vocab at 0x7f7128701710>,\n",
       " 'камеру': <gensim.models.keyedvectors.Vocab at 0x7f7128701748>,\n",
       " 'интресно': <gensim.models.keyedvectors.Vocab at 0x7f71287017b8>,\n",
       " 'нечеловечности': <gensim.models.keyedvectors.Vocab at 0x7f71287017f0>,\n",
       " 'вызываем': <gensim.models.keyedvectors.Vocab at 0x7f7128701828>,\n",
       " 'масажа': <gensim.models.keyedvectors.Vocab at 0x7f712210f2b0>,\n",
       " 'crashers': <gensim.models.keyedvectors.Vocab at 0x7f7121f78080>,\n",
       " 'обеих': <gensim.models.keyedvectors.Vocab at 0x7f7125600f98>,\n",
       " 'доспехахполнометражная': <gensim.models.keyedvectors.Vocab at 0x7f71287018d0>,\n",
       " 'искуственном': <gensim.models.keyedvectors.Vocab at 0x7f7128701908>,\n",
       " 'занесите': <gensim.models.keyedvectors.Vocab at 0x7f7121d40400>,\n",
       " 'активизировалось': <gensim.models.keyedvectors.Vocab at 0x7f71287019b0>,\n",
       " 'обзаведется': <gensim.models.keyedvectors.Vocab at 0x7f7120f33a20>,\n",
       " 'фюнесом': <gensim.models.keyedvectors.Vocab at 0x7f71287019e8>,\n",
       " 'отмычки': <gensim.models.keyedvectors.Vocab at 0x7f71286b1b70>,\n",
       " 'дешвую': <gensim.models.keyedvectors.Vocab at 0x7f7128701a58>,\n",
       " 'буйно': <gensim.models.keyedvectors.Vocab at 0x7f7128701a90>,\n",
       " 'летстал': <gensim.models.keyedvectors.Vocab at 0x7f7128701ac8>,\n",
       " 'выламывать': <gensim.models.keyedvectors.Vocab at 0x7f7128701b00>,\n",
       " 'чигирями': <gensim.models.keyedvectors.Vocab at 0x7f7128701b38>,\n",
       " 'прокрашенной': <gensim.models.keyedvectors.Vocab at 0x7f7128701b70>,\n",
       " 'запугивал': <gensim.models.keyedvectors.Vocab at 0x7f71256040b8>,\n",
       " 'изьяны': <gensim.models.keyedvectors.Vocab at 0x7f7128701c18>,\n",
       " 'лечили': <gensim.models.keyedvectors.Vocab at 0x7f7128701c50>,\n",
       " 'подвязка': <gensim.models.keyedvectors.Vocab at 0x7f7128701c88>,\n",
       " 'сокольнической': <gensim.models.keyedvectors.Vocab at 0x7f7128701cf8>,\n",
       " 'придаточной': <gensim.models.keyedvectors.Vocab at 0x7f7128701d30>,\n",
       " 'unlock': <gensim.models.keyedvectors.Vocab at 0x7f7128701d68>,\n",
       " 'произошловс': <gensim.models.keyedvectors.Vocab at 0x7f7128701da0>,\n",
       " 'ингредиент': <gensim.models.keyedvectors.Vocab at 0x7f7128701dd8>,\n",
       " 'темамшаг': <gensim.models.keyedvectors.Vocab at 0x7f7128701e10>,\n",
       " 'истопив': <gensim.models.keyedvectors.Vocab at 0x7f7128701e48>,\n",
       " 'dribble': <gensim.models.keyedvectors.Vocab at 0x7f7125604128>,\n",
       " 'мелодраматично': <gensim.models.keyedvectors.Vocab at 0x7f7128701eb8>,\n",
       " 'www': <gensim.models.keyedvectors.Vocab at 0x7f7125604160>,\n",
       " 'фенечка': <gensim.models.keyedvectors.Vocab at 0x7f7128701f28>,\n",
       " 'питаясь': <gensim.models.keyedvectors.Vocab at 0x7f7128701f60>,\n",
       " 'разучиваете': <gensim.models.keyedvectors.Vocab at 0x7f7128701fd0>,\n",
       " 'подталкивалось': <gensim.models.keyedvectors.Vocab at 0x7f7128703048>,\n",
       " 'феназепам': <gensim.models.keyedvectors.Vocab at 0x7f7128703080>,\n",
       " 'хорошеет': <gensim.models.keyedvectors.Vocab at 0x7f71287030b8>,\n",
       " 'кужина': <gensim.models.keyedvectors.Vocab at 0x7f71287030f0>,\n",
       " 'уготовлена': <gensim.models.keyedvectors.Vocab at 0x7f7128703128>,\n",
       " 'затыкаюсь': <gensim.models.keyedvectors.Vocab at 0x7f7128703160>,\n",
       " 'вважати': <gensim.models.keyedvectors.Vocab at 0x7f7128703198>,\n",
       " 'брейтесь': <gensim.models.keyedvectors.Vocab at 0x7f71287031d0>,\n",
       " 'тоже': <gensim.models.keyedvectors.Vocab at 0x7f7128703208>,\n",
       " 'зажаривала': <gensim.models.keyedvectors.Vocab at 0x7f7128703240>,\n",
       " 'грызения': <gensim.models.keyedvectors.Vocab at 0x7f7122dde4e0>,\n",
       " 'проприетарной': <gensim.models.keyedvectors.Vocab at 0x7f71287032e8>,\n",
       " 'крафтовым': <gensim.models.keyedvectors.Vocab at 0x7f7128703320>,\n",
       " 'швабов': <gensim.models.keyedvectors.Vocab at 0x7f7125604208>,\n",
       " 'rv': <gensim.models.keyedvectors.Vocab at 0x7f7122dde518>,\n",
       " 'латинизированной': <gensim.models.keyedvectors.Vocab at 0x7f71287033c8>,\n",
       " 'звуковая': <gensim.models.keyedvectors.Vocab at 0x7f7128703438>,\n",
       " 'усиляющий': <gensim.models.keyedvectors.Vocab at 0x7f7128703470>,\n",
       " 'свиньиможет': <gensim.models.keyedvectors.Vocab at 0x7f71287034a8>,\n",
       " 'нацпартию': <gensim.models.keyedvectors.Vocab at 0x7f7122ea82b0>,\n",
       " 'чтобывыбратьчтобывыбрать': <gensim.models.keyedvectors.Vocab at 0x7f7120e02f28>,\n",
       " 'подчркивания': <gensim.models.keyedvectors.Vocab at 0x7f71233af630>,\n",
       " 'устремиться': <gensim.models.keyedvectors.Vocab at 0x7f7128703518>,\n",
       " 'книгге': <gensim.models.keyedvectors.Vocab at 0x7f7128703550>,\n",
       " 'шаляпину': <gensim.models.keyedvectors.Vocab at 0x7f7121d40630>,\n",
       " 'психогенетика': <gensim.models.keyedvectors.Vocab at 0x7f712125ceb8>,\n",
       " 'фоссальте': <gensim.models.keyedvectors.Vocab at 0x7f71287035c0>,\n",
       " 'витаминам': <gensim.models.keyedvectors.Vocab at 0x7f71287035f8>,\n",
       " 'обнулил': <gensim.models.keyedvectors.Vocab at 0x7f7128703630>,\n",
       " 'качает': <gensim.models.keyedvectors.Vocab at 0x7f71218b7c50>,\n",
       " 'подножьях': <gensim.models.keyedvectors.Vocab at 0x7f7121d406a0>,\n",
       " 'сomme': <gensim.models.keyedvectors.Vocab at 0x7f71287036a0>,\n",
       " 'раскрывающих': <gensim.models.keyedvectors.Vocab at 0x7f71287036d8>,\n",
       " 'пьетрельчины': <gensim.models.keyedvectors.Vocab at 0x7f7128703710>,\n",
       " 'неотредактированной': <gensim.models.keyedvectors.Vocab at 0x7f7128703748>,\n",
       " 'выветрилась': <gensim.models.keyedvectors.Vocab at 0x7f7121d406d8>,\n",
       " 'flood': <gensim.models.keyedvectors.Vocab at 0x7f71287037b8>,\n",
       " 'gpa': <gensim.models.keyedvectors.Vocab at 0x7f7122dde630>,\n",
       " 'топикстартера': <gensim.models.keyedvectors.Vocab at 0x7f7128703828>,\n",
       " 'дав': <gensim.models.keyedvectors.Vocab at 0x7f7128703860>,\n",
       " 'подсрачника': <gensim.models.keyedvectors.Vocab at 0x7f71256042e8>,\n",
       " 'никакущим': <gensim.models.keyedvectors.Vocab at 0x7f71287038d0>,\n",
       " 'comsintosinyoung': <gensim.models.keyedvectors.Vocab at 0x7f7128703908>,\n",
       " 'просчитавшему': <gensim.models.keyedvectors.Vocab at 0x7f7128703940>,\n",
       " 'онведет': <gensim.models.keyedvectors.Vocab at 0x7f7128703978>,\n",
       " 'грушинский': <gensim.models.keyedvectors.Vocab at 0x7f71287039b0>,\n",
       " 'посадочное': <gensim.models.keyedvectors.Vocab at 0x7f71287039e8>,\n",
       " 'преподносилось': <gensim.models.keyedvectors.Vocab at 0x7f7128703a20>,\n",
       " 'вакуоль': <gensim.models.keyedvectors.Vocab at 0x7f7128644390>,\n",
       " 'подбираешь': <gensim.models.keyedvectors.Vocab at 0x7f7128703a90>,\n",
       " 'пробуренной': <gensim.models.keyedvectors.Vocab at 0x7f7128703ac8>,\n",
       " 'мужчиндэниэл': <gensim.models.keyedvectors.Vocab at 0x7f7128703b00>,\n",
       " 'жулио': <gensim.models.keyedvectors.Vocab at 0x7f7128703b38>,\n",
       " 'вымирала': <gensim.models.keyedvectors.Vocab at 0x7f7128703b70>,\n",
       " 'невиновных': <gensim.models.keyedvectors.Vocab at 0x7f7128703ba8>,\n",
       " 'carajo': <gensim.models.keyedvectors.Vocab at 0x7f7128703c50>,\n",
       " 'инстаблогам': <gensim.models.keyedvectors.Vocab at 0x7f7128703c88>,\n",
       " 'существущих': <gensim.models.keyedvectors.Vocab at 0x7f7128703cc0>,\n",
       " 'подтекст': <gensim.models.keyedvectors.Vocab at 0x7f7128703d30>,\n",
       " 'тусовок': <gensim.models.keyedvectors.Vocab at 0x7f7128703d68>,\n",
       " 'подпадают': <gensim.models.keyedvectors.Vocab at 0x7f7128703da0>,\n",
       " 'абушахмин': <gensim.models.keyedvectors.Vocab at 0x7f7128703dd8>,\n",
       " 'медианой': <gensim.models.keyedvectors.Vocab at 0x7f7128703e10>,\n",
       " 'pinhani': <gensim.models.keyedvectors.Vocab at 0x7f7128703e48>,\n",
       " ...}"
      ]
     },
     "execution_count": 29,
     "metadata": {},
     "output_type": "execute_result"
    }
   ],
   "source": [
    "w2v.wv.vocab"
   ]
  },
  {
   "cell_type": "code",
   "execution_count": 30,
   "metadata": {
    "collapsed": true
   },
   "outputs": [],
   "source": [
    "questions_vec = lasagne.layers.get_output(question.out, inputs=input_questions)\n",
    "positive_answers_vec = lasagne.layers.get_output(answer.out, inputs=input_positive_answers)\n",
    "negative_answers_vec = lasagne.layers.get_output(answer.out, inputs=input_negative_answers)\n",
    "\n"
   ]
  },
  {
   "cell_type": "code",
   "execution_count": null,
   "metadata": {
    "collapsed": true,
    "scrolled": true
   },
   "outputs": [],
   "source": []
  },
  {
   "cell_type": "code",
   "execution_count": 31,
   "metadata": {
    "collapsed": true
   },
   "outputs": [],
   "source": [
    "#questions_topic_out.eval({input_questions:X[0:1]}).argmax()"
   ]
  },
  {
   "cell_type": "code",
   "execution_count": null,
   "metadata": {
    "collapsed": true
   },
   "outputs": [],
   "source": []
  },
  {
   "cell_type": "code",
   "execution_count": 32,
   "metadata": {
    "collapsed": true
   },
   "outputs": [],
   "source": [
    "def do_padding(arr):\n",
    "    '''Takes list, returns padded np array\n",
    "    (batch_size, longest_seq, w2v_size)\n",
    "    '''\n",
    "    size = 0\n",
    "    for i in arr:\n",
    "        size = max(size, i.shape[0])\n",
    "    ret = np.zeros((len(arr), size, word2vec_size), dtype='float32')\n",
    "    for i,e in enumerate(arr):\n",
    "        if e.shape[1]!=word2vec_size:\n",
    "             ret[i] = np.zeros((size,word2vec_size))\n",
    "        else:\n",
    "            ret[i] = np.concatenate((np.zeros((size-e.shape[0],word2vec_size)), e), axis=0)\n",
    "    return ret"
   ]
  },
  {
   "cell_type": "code",
   "execution_count": 33,
   "metadata": {},
   "outputs": [
    {
     "data": {
      "text/plain": [
       "(100, 689, 512)"
      ]
     },
     "execution_count": 33,
     "metadata": {},
     "output_type": "execute_result"
    }
   ],
   "source": [
    "def questions_sample_triplet(questions, num):\n",
    "    '''Returns np sampled array'''\n",
    "    questions_arr = []\n",
    "    answers_positive_arr = []\n",
    "    \n",
    "    answers_negative_arr = []\n",
    "    \n",
    "   \n",
    "    while len(questions_arr) <num:\n",
    "        q = random.choice(questions)\n",
    "        question_vectorized = text_to_matrix(q['question'])\n",
    "    \n",
    "        if question_vectorized.shape[0]>0:\n",
    "            #Positive sampling\n",
    "            for j, a in enumerate(q['answers']):\n",
    "                answer_positive_vectorized = text_to_matrix(a['text'])\n",
    "                #Negative\n",
    "                q2 = None\n",
    "                while q2==None or q2==q or len(q2['answers'])==0:\n",
    "                    q2 = random.choice(questions)\n",
    "                a = random.choice(q2['answers'])\n",
    "                answer_negative_vectorized = text_to_matrix(a['text'])\n",
    "                \n",
    "                if answer_positive_vectorized.shape[0]>0 and answer_negative_vectorized.shape[0]>0 and question_vectorized.shape[0]>0: \n",
    "                    answers_positive_arr.append(answer_positive_vectorized)\n",
    "                    answers_negative_arr.append(answer_negative_vectorized)\n",
    "                    questions_arr.append(question_vectorized)\n",
    "                    \n",
    "    \n",
    "    return do_padding(questions_arr[:num]), do_padding(answers_positive_arr[:num]), do_padding(answers_negative_arr[:num])\n",
    " \n",
    "questions_sample_triplet(questions_train, 100)[1].shape"
   ]
  },
  {
   "cell_type": "code",
   "execution_count": 34,
   "metadata": {},
   "outputs": [
    {
     "name": "stdout",
     "output_type": "stream",
     "text": [
      "Elemwise{add,no_inplace}.0\n"
     ]
    }
   ],
   "source": [
    "alpha = 3\n",
    "print(questions_vec)\n",
    "loss = T.nnet.relu(((questions_vec - positive_answers_vec)**2).sum(axis=1) - \n",
    "              ((questions_vec - negative_answers_vec)**2).sum(axis=1) + alpha).mean()\n",
    "#loss = (questions_vec + negative_answers_vec + positive_answers_vec).mean()"
   ]
  },
  {
   "cell_type": "code",
   "execution_count": 35,
   "metadata": {
    "collapsed": true
   },
   "outputs": [],
   "source": [
    "weights = lasagne.layers.get_all_params(answer.out, trainable=True) + lasagne.layers.get_all_params(question.out, trainable=True)\n",
    "updates = lasagne.updates.adadelta(loss, weights)"
   ]
  },
  {
   "cell_type": "code",
   "execution_count": 36,
   "metadata": {
    "collapsed": true
   },
   "outputs": [],
   "source": [
    "\n",
    "#обучение\n",
    "train = theano.function([input_questions, input_positive_answers, input_negative_answers], loss, updates=updates)\n",
    "\n",
    "#функция потерь без обучения\n",
    "compute_cost = theano.function([input_questions, input_positive_answers, input_negative_answers], loss)\n"
   ]
  },
  {
   "cell_type": "code",
   "execution_count": 37,
   "metadata": {
    "collapsed": true
   },
   "outputs": [],
   "source": [
    "transform_answer = theano.function([input_positive_answers], positive_answers_vec)\n",
    "transform_question = theano.function([input_questions], questions_vec)"
   ]
  },
  {
   "cell_type": "code",
   "execution_count": 38,
   "metadata": {
    "collapsed": true
   },
   "outputs": [],
   "source": [
    "batch_size = 50\n",
    "epoch_size = 10\n",
    "num_epochs = 500"
   ]
  },
  {
   "cell_type": "code",
   "execution_count": 39,
   "metadata": {
    "collapsed": true
   },
   "outputs": [],
   "source": [
    "def get_batch_inputs(batch):\n",
    "    '''What?'''\n",
    "    max_len_pos = 0\n",
    "    current_questions = []\n",
    "    positive = []\n",
    "    negative = []\n",
    "    questions_size = 0\n",
    "    positive_size = 0\n",
    "    negative_size = 0\n",
    "    for question in batch:\n",
    "        e = answers_postprocessed[random.choice(question[1])]\n",
    "        current_questions.append(question[0])\n",
    "        questions_size = max(questions_size, question[0].shape[0])\n",
    "        positive.append(e)\n",
    "        positive_size = max(positive_size, e.shape[0])\n",
    "        e = random.randint(0, len(answers_postprocessed)-1)\n",
    "        while e in question[1]:\n",
    "            e = random.randint(0, len(answers_postprocessed))\n",
    "        e  = answers_postprocessed[e]\n",
    "        negative.append(e)\n",
    "        negative_size = max(negative_size, e.shape[0])\n",
    "\n",
    "\n",
    "    current_questions = a(current_questions, questions_size)\n",
    "    positive = prepare_batch(positive, positive_size)\n",
    "    negative = prepare_batch(negative, negative_size)\n",
    "    return current_questions, positive, negative"
   ]
  },
  {
   "cell_type": "code",
   "execution_count": 92,
   "metadata": {
    "collapsed": true
   },
   "outputs": [],
   "source": [
    "def update_moving(moving_average, questions):\n",
    "    current_questions, positive, negative = questions_sample_triplet(questions, batch_size)\n",
    "    cost = compute_cost(current_questions, positive, negative)\n",
    "    print(((transform_question(current_questions)-transform_answer(positive))**2).sum(axis=1).mean())\n",
    "    if moving_average==-1:\n",
    "        return cost\n",
    "    return alpha*cost + (1-alpha)*moving_average"
   ]
  },
  {
   "cell_type": "code",
   "execution_count": 94,
   "metadata": {
    "scrolled": true
   },
   "outputs": [
    {
     "ename": "KeyboardInterrupt",
     "evalue": "",
     "output_type": "error",
     "traceback": [
      "\u001b[0;31m---------------------------------------------------------------------------\u001b[0m",
      "\u001b[0;31mKeyboardInterrupt\u001b[0m                         Traceback (most recent call last)",
      "\u001b[0;32m<ipython-input-94-e8c4c37404fa>\u001b[0m in \u001b[0;36m<module>\u001b[0;34m()\u001b[0m\n\u001b[1;32m      5\u001b[0m     \u001b[0;32mfor\u001b[0m \u001b[0mj\u001b[0m \u001b[0;32min\u001b[0m \u001b[0mrange\u001b[0m\u001b[0;34m(\u001b[0m\u001b[0;36m50\u001b[0m\u001b[0;34m)\u001b[0m\u001b[0;34m:\u001b[0m\u001b[0;34m\u001b[0m\u001b[0m\n\u001b[1;32m      6\u001b[0m         \u001b[0mcurrent_questions\u001b[0m\u001b[0;34m,\u001b[0m \u001b[0mpositive\u001b[0m\u001b[0;34m,\u001b[0m \u001b[0mnegative\u001b[0m \u001b[0;34m=\u001b[0m \u001b[0mquestions_sample_triplet\u001b[0m\u001b[0;34m(\u001b[0m\u001b[0mquestions_train\u001b[0m\u001b[0;34m,\u001b[0m \u001b[0mbatch_size\u001b[0m\u001b[0;34m)\u001b[0m\u001b[0;34m\u001b[0m\u001b[0m\n\u001b[0;32m----> 7\u001b[0;31m         \u001b[0mtrain\u001b[0m\u001b[0;34m(\u001b[0m\u001b[0mcurrent_questions\u001b[0m\u001b[0;34m,\u001b[0m \u001b[0mpositive\u001b[0m\u001b[0;34m,\u001b[0m \u001b[0mnegative\u001b[0m\u001b[0;34m)\u001b[0m\u001b[0;34m\u001b[0m\u001b[0m\n\u001b[0m\u001b[1;32m      8\u001b[0m     \u001b[0mmoving_cost_train\u001b[0m \u001b[0;34m=\u001b[0m \u001b[0mupdate_moving\u001b[0m\u001b[0;34m(\u001b[0m\u001b[0mmoving_cost_train\u001b[0m\u001b[0;34m,\u001b[0m \u001b[0mquestions_train\u001b[0m\u001b[0;34m)\u001b[0m\u001b[0;34m\u001b[0m\u001b[0m\n\u001b[1;32m      9\u001b[0m     \u001b[0mmoving_cost_test\u001b[0m \u001b[0;34m=\u001b[0m \u001b[0mupdate_moving\u001b[0m\u001b[0;34m(\u001b[0m\u001b[0mmoving_cost_test\u001b[0m\u001b[0;34m,\u001b[0m \u001b[0mquestions_test\u001b[0m\u001b[0;34m)\u001b[0m\u001b[0;34m\u001b[0m\u001b[0m\n",
      "\u001b[0;32m/anaconda2/envs/py35/lib/python3.5/site-packages/theano/compile/function_module.py\u001b[0m in \u001b[0;36m__call__\u001b[0;34m(self, *args, **kwargs)\u001b[0m\n\u001b[1;32m    882\u001b[0m         \u001b[0;32mtry\u001b[0m\u001b[0;34m:\u001b[0m\u001b[0;34m\u001b[0m\u001b[0m\n\u001b[1;32m    883\u001b[0m             \u001b[0moutputs\u001b[0m \u001b[0;34m=\u001b[0m\u001b[0;31m\\\u001b[0m\u001b[0;34m\u001b[0m\u001b[0m\n\u001b[0;32m--> 884\u001b[0;31m                 \u001b[0mself\u001b[0m\u001b[0;34m.\u001b[0m\u001b[0mfn\u001b[0m\u001b[0;34m(\u001b[0m\u001b[0;34m)\u001b[0m \u001b[0;32mif\u001b[0m \u001b[0moutput_subset\u001b[0m \u001b[0;32mis\u001b[0m \u001b[0;32mNone\u001b[0m \u001b[0;32melse\u001b[0m\u001b[0;31m\\\u001b[0m\u001b[0;34m\u001b[0m\u001b[0m\n\u001b[0m\u001b[1;32m    885\u001b[0m                 \u001b[0mself\u001b[0m\u001b[0;34m.\u001b[0m\u001b[0mfn\u001b[0m\u001b[0;34m(\u001b[0m\u001b[0moutput_subset\u001b[0m\u001b[0;34m=\u001b[0m\u001b[0moutput_subset\u001b[0m\u001b[0;34m)\u001b[0m\u001b[0;34m\u001b[0m\u001b[0m\n\u001b[1;32m    886\u001b[0m         \u001b[0;32mexcept\u001b[0m \u001b[0mException\u001b[0m\u001b[0;34m:\u001b[0m\u001b[0;34m\u001b[0m\u001b[0m\n",
      "\u001b[0;32m/anaconda2/envs/py35/lib/python3.5/site-packages/theano/gof/op.py\u001b[0m in \u001b[0;36mrval\u001b[0;34m(p, i, o, n)\u001b[0m\n\u001b[1;32m    869\u001b[0m         \u001b[0;32mif\u001b[0m \u001b[0mparams\u001b[0m \u001b[0;32mis\u001b[0m \u001b[0mgraph\u001b[0m\u001b[0;34m.\u001b[0m\u001b[0mNoParams\u001b[0m\u001b[0;34m:\u001b[0m\u001b[0;34m\u001b[0m\u001b[0m\n\u001b[1;32m    870\u001b[0m             \u001b[0;31m# default arguments are stored in the closure of `rval`\u001b[0m\u001b[0;34m\u001b[0m\u001b[0;34m\u001b[0m\u001b[0m\n\u001b[0;32m--> 871\u001b[0;31m             \u001b[0;32mdef\u001b[0m \u001b[0mrval\u001b[0m\u001b[0;34m(\u001b[0m\u001b[0mp\u001b[0m\u001b[0;34m=\u001b[0m\u001b[0mp\u001b[0m\u001b[0;34m,\u001b[0m \u001b[0mi\u001b[0m\u001b[0;34m=\u001b[0m\u001b[0mnode_input_storage\u001b[0m\u001b[0;34m,\u001b[0m \u001b[0mo\u001b[0m\u001b[0;34m=\u001b[0m\u001b[0mnode_output_storage\u001b[0m\u001b[0;34m,\u001b[0m \u001b[0mn\u001b[0m\u001b[0;34m=\u001b[0m\u001b[0mnode\u001b[0m\u001b[0;34m)\u001b[0m\u001b[0;34m:\u001b[0m\u001b[0;34m\u001b[0m\u001b[0m\n\u001b[0m\u001b[1;32m    872\u001b[0m                 \u001b[0mr\u001b[0m \u001b[0;34m=\u001b[0m \u001b[0mp\u001b[0m\u001b[0;34m(\u001b[0m\u001b[0mn\u001b[0m\u001b[0;34m,\u001b[0m \u001b[0;34m[\u001b[0m\u001b[0mx\u001b[0m\u001b[0;34m[\u001b[0m\u001b[0;36m0\u001b[0m\u001b[0;34m]\u001b[0m \u001b[0;32mfor\u001b[0m \u001b[0mx\u001b[0m \u001b[0;32min\u001b[0m \u001b[0mi\u001b[0m\u001b[0;34m]\u001b[0m\u001b[0;34m,\u001b[0m \u001b[0mo\u001b[0m\u001b[0;34m)\u001b[0m\u001b[0;34m\u001b[0m\u001b[0m\n\u001b[1;32m    873\u001b[0m                 \u001b[0;32mfor\u001b[0m \u001b[0mo\u001b[0m \u001b[0;32min\u001b[0m \u001b[0mnode\u001b[0m\u001b[0;34m.\u001b[0m\u001b[0moutputs\u001b[0m\u001b[0;34m:\u001b[0m\u001b[0;34m\u001b[0m\u001b[0m\n",
      "\u001b[0;31mKeyboardInterrupt\u001b[0m: "
     ]
    }
   ],
   "source": [
    "moving_cost_train = -1\n",
    "moving_cost_test = -1\n",
    "alpha = 0.1\n",
    "for i in range(num_epochs):\n",
    "    for j in range(50):\n",
    "        current_questions, positive, negative = questions_sample_triplet(questions_train, batch_size)\n",
    "        train(current_questions, positive, negative)\n",
    "    moving_cost_train = update_moving(moving_cost_train, questions_train)\n",
    "    moving_cost_test = update_moving(moving_cost_test, questions_test)\n",
    "    print(\"Epoch %s. Train:\" % i, moving_cost_train)\n",
    "    print(\"Epoch %s. Test:\" % i, moving_cost_test)"
   ]
  },
  {
   "cell_type": "code",
   "execution_count": 46,
   "metadata": {},
   "outputs": [
    {
     "data": {
      "text/plain": [
       "11"
      ]
     },
     "execution_count": 46,
     "metadata": {},
     "output_type": "execute_result"
    }
   ],
   "source": [
    "11"
   ]
  },
  {
   "cell_type": "code",
   "execution_count": null,
   "metadata": {},
   "outputs": [],
   "source": [
    "current_questions, positive, negative = questions_sample_triplet(questions_train, 1)\n",
    "print(train(current_questions, positive, negative))\n",
    "print(compute_cost(current_questions, positive, negative))"
   ]
  },
  {
   "cell_type": "code",
   "execution_count": null,
   "metadata": {},
   "outputs": [],
   "source": [
    "compute_cost(current_questions, positive, negative)"
   ]
  },
  {
   "cell_type": "markdown",
   "metadata": {},
   "source": [
    "# Topics training"
   ]
  },
  {
   "cell_type": "code",
   "execution_count": null,
   "metadata": {
    "collapsed": true
   },
   "outputs": [],
   "source": [
    "answer_topics = np.zeros((len(answer_ids), len(topics_to_id)))\n",
    "for i,a in enumerate(tqdm(answer_ids)):\n",
    "    for t in questions[a[0]]['topics']:\n",
    "        answer_topics[i, topics_to_id[t.lower()]] = 1\n",
    "question_topics = np.zeros((len(question_ids), len(topics_to_id)))\n",
    "for i,a in enumerate(tqdm(question_ids)):\n",
    "    for t in questions[a]['topics']:\n",
    "        question_topics[i,topics_to_id[t.lower()]] = 1"
   ]
  },
  {
   "cell_type": "code",
   "execution_count": null,
   "metadata": {
    "collapsed": true
   },
   "outputs": [],
   "source": [
    "questions_topic_vec = lasagne.layers.get_output(question_topics_model.out, inputs=input_questions)\n",
    "loss_topics = lasagne.objectives.binary_crossentropy(questions_topic_vec, output_topics).mean()\n",
    "updates_topics = lasagne.updates.adam(loss_topics, question_topics_model.weights)\n",
    "\n",
    "\n",
    "train_topics = theano.function([input_questions, output_topics], loss_topics, updates=updates_topics)\n",
    "\n",
    "#функция потерь без обучения\n",
    "\n",
    "compute_cost_topics = theano.function([input_questions, output_topics], loss_topics)\n",
    "#Resulting topic\n",
    "predict_topics = theano.function([input_questions], questions_topic_vec)"
   ]
  },
  {
   "cell_type": "code",
   "execution_count": null,
   "metadata": {
    "collapsed": true
   },
   "outputs": [],
   "source": [
    "class question_topics_model:\n",
    "    weights = []\n",
    "    l = lasagne.layers.DenseLayer(question.out, 300)\n",
    "    weights += [l.W, l.b]\n",
    "    out = lasagne.layers.DenseLayer(l, len(topics), nonlinearity=lasagne.nonlinearities.sigmoid)\n",
    "    weights += [out.W, out.b]"
   ]
  },
  {
   "cell_type": "code",
   "execution_count": null,
   "metadata": {
    "collapsed": true
   },
   "outputs": [],
   "source": [
    "\n",
    "def questions_sample(questions, num, positive = True, test=False):\n",
    "    '''Returns np sampled array'''\n",
    "    questions_arr = []\n",
    "    answers_arr = []\n",
    "    #Positive sampling\n",
    "    if positive:\n",
    "        while len(questions_arr) <num:\n",
    "            q = random.choice(questions)\n",
    "            question_vectorized = text_to_matrix(q['question'])\n",
    "            if question_vectorized.shape[0]>0:\n",
    "                for j, a in enumerate(q['answers']):\n",
    "                    answer_vectorized = text_to_matrix(a['text'])\n",
    "                    if answer_vectorized.shape[0]>0: \n",
    "                        answers_arr.append(answer_vectorized)\n",
    "                        questions_arr.append(question_vectorized)\n",
    "    else:\n",
    "        while len(questions_arr) <num:\n",
    "            q = random.choice(questions)\n",
    "            q2 = None\n",
    "            while q2==None or q2==q or len(q2['answers'])==0:\n",
    "                q2 = random.choice(questions)\n",
    "            a = random.choice(q2['answers'])\n",
    "\n",
    "            question_vectorized = text_to_matrix(q['question'])\n",
    "            answer_vectorized = text_to_matrix(a['text'])\n",
    "            if answer_vectorized.shape[0]>0 and question_vectorized.shape[0]>0: \n",
    "                answers_arr.append(answer_vectorized)\n",
    "                questions_arr.append(question_vectorized)\n",
    "    questions_arr = questions_arr[:num]\n",
    "    answers_arr = answers_arr[:num]\n",
    "    return do_padding(questions_arr), do_padding(answers_arr)\n"
   ]
  },
  {
   "cell_type": "code",
   "execution_count": null,
   "metadata": {
    "collapsed": true
   },
   "outputs": [],
   "source": [
    "batch_size_topics = 100\n",
    "def iterate_minibatches_topics(questions):\n",
    "    arr = []\n",
    "    output_topics = []\n",
    "    for q in questions:\n",
    "        question_vectorized = text_to_matrix(q['question'])\n",
    "        if question_vectorized.shape[0]>0:\n",
    "            cur_topics = np.zeros((1, len(topics_to_id)))\n",
    "            for t in q['topics']:\n",
    "                cur_topics[0, topics_to_id[t.lower()]] = 1\n",
    "            output_topics.append(cur_topics)\n",
    "            arr.append(question_vectorized)\n",
    "        while len(arr)>=batch_size_topics:\n",
    "            yield do_padding(arr[:batch_size_topics]), np.concatenate(output_topics[:batch_size_topics])\n",
    "            arr = arr[batch_size_topics:]\n",
    "            output_topics = output_topics[batch_size_topics:]\n",
    "for i in range(50):       \n",
    "    for X, Y in iterate_minibatches_topics(questions_train):\n",
    "        print(train_topics(X, Y.astype('float32')))\n",
    "    print(\"Train score at %s\" % i, compute_cost_topics(X, Y.astype('float32')))\n",
    "    for X, Y in iterate_minibatches_topics(questions_test):\n",
    "        print(\"Test score at %s\" % i, compute_cost_topics(X, Y.astype('float32')))\n",
    "        break\n"
   ]
  },
  {
   "cell_type": "markdown",
   "metadata": {},
   "source": [
    "## Model save"
   ]
  },
  {
   "cell_type": "code",
   "execution_count": null,
   "metadata": {},
   "outputs": [],
   "source": [
    "weight = lasagne.layers.get_all_param_values(question.out)\n",
    "np.save('weights/question.npy', weight)\n",
    "weight = lasagne.layers.get_all_param_values(answer.out)\n",
    "np.save('weights/answer.npy', weight)"
   ]
  },
  {
   "cell_type": "code",
   "execution_count": null,
   "metadata": {
    "collapsed": true
   },
   "outputs": [],
   "source": [
    "!mkdir weights"
   ]
  },
  {
   "cell_type": "code",
   "execution_count": null,
   "metadata": {
    "collapsed": true
   },
   "outputs": [],
   "source": [
    "w2v.save('weights/w2v')"
   ]
  },
  {
   "cell_type": "markdown",
   "metadata": {},
   "source": [
    "## Demo run"
   ]
  },
  {
   "cell_type": "code",
   "execution_count": 47,
   "metadata": {},
   "outputs": [
    {
     "ename": "NameError",
     "evalue": "name 'answers_vectors' is not defined",
     "output_type": "error",
     "traceback": [
      "\u001b[0;31m---------------------------------------------------------------------------\u001b[0m",
      "\u001b[0;31mNameError\u001b[0m                                 Traceback (most recent call last)",
      "\u001b[0;32m<ipython-input-47-cdd9730ec927>\u001b[0m in \u001b[0;36m<module>\u001b[0;34m()\u001b[0m\n\u001b[0;32m----> 1\u001b[0;31m \u001b[0mlen\u001b[0m\u001b[0;34m(\u001b[0m\u001b[0manswers_vectors\u001b[0m\u001b[0;34m)\u001b[0m\u001b[0;34m\u001b[0m\u001b[0m\n\u001b[0m",
      "\u001b[0;31mNameError\u001b[0m: name 'answers_vectors' is not defined"
     ]
    }
   ],
   "source": [
    "len(answers_vectors)"
   ]
  },
  {
   "cell_type": "code",
   "execution_count": 56,
   "metadata": {
    "collapsed": true
   },
   "outputs": [],
   "source": [
    "def get_batch(st):\n",
    "    return np.array([text_to_matrix(st)])"
   ]
  },
  {
   "cell_type": "code",
   "execution_count": 63,
   "metadata": {},
   "outputs": [
    {
     "data": {
      "text/plain": [
       "{'answers': [{'name': 'Dmitry Ogar 1776',\n",
       "   'occupation': 'Аудитор, Москва',\n",
       "   'text': 'Слушай, ну тут все настолько все индивидуально, что ответить правильно невозможно, все слишком сильно завязано на образ жизни конкретного человека.Мне вот примерно такой суммы хватает на двоих с девушкой (квартира своя, кредитов нет), просто потому что я уже привык жить на эти деньги и все они у меня, можно сказать, расписаны. Но есть знакомый, который к примеру живет в съемной квартире с ребенком и зарплатой 60 тысяч и ему вполне хватает, есть еще один с двумя детьми и примерно такой же зарплатой.Если остаются свободные деньги, которые вы, к примеру, докладываете в банк на вклад или просто храните в копилке, или есть кредит который скоро закроется и появятся свободные средства - можно и детей начать заводить.'}],\n",
       " 'question': 'Сколько детей не накладно заводить, если общий доход семьи 135к в месяц? При учёте, что квартира съемная и проживание в г. Москва?',\n",
       " 'topics': ['экономия']}"
      ]
     },
     "execution_count": 63,
     "metadata": {},
     "output_type": "execute_result"
    }
   ],
   "source": [
    "questions_train[0]"
   ]
  },
  {
   "cell_type": "code",
   "execution_count": null,
   "metadata": {
    "collapsed": true
   },
   "outputs": [],
   "source": []
  },
  {
   "cell_type": "code",
   "execution_count": 70,
   "metadata": {},
   "outputs": [
    {
     "data": {
      "application/vnd.jupyter.widget-view+json": {
       "model_id": "d3592a820286412bb766781fa5b4693f"
      }
     },
     "metadata": {},
     "output_type": "display_data"
    },
    {
     "name": "stdout",
     "output_type": "stream",
     "text": [
      "\n"
     ]
    }
   ],
   "source": [
    "answers_texts = []\n",
    "answers_vec = []\n",
    "for q in tqdm_notebook(questions_train):\n",
    "    for a in q['answers']:\n",
    "        m = text_to_matrix(a['text'])\n",
    "        if m.any():\n",
    "            answers_texts.append(a)\n",
    "            answers_vec.append(transform_answer([m]))"
   ]
  },
  {
   "cell_type": "code",
   "execution_count": 71,
   "metadata": {},
   "outputs": [
    {
     "data": {
      "text/plain": [
       "array([[ -4.07315552e-01,   4.04865183e-02,   6.47976696e-02,\n",
       "          6.34885281e-02,   1.89915046e-01,   1.78984746e-01,\n",
       "          5.44094920e-01,  -2.69769400e-01,  -1.27000496e-01,\n",
       "          5.22656925e-02,  -3.90352681e-02,   8.77708793e-02,\n",
       "         -2.86024243e-01,  -3.74233693e-01,   1.70735627e-01,\n",
       "          1.44963115e-01,  -1.00583181e-01,   2.18076840e-01,\n",
       "          5.46675026e-01,  -7.81701319e-03,   3.57381940e-01,\n",
       "          1.65677965e-01,   1.83024585e-01,  -2.21205205e-01,\n",
       "         -1.78733706e-01,  -1.15068316e-01,   1.02820456e-01,\n",
       "         -3.10941190e-01,  -1.83340505e-01,   6.23580776e-02,\n",
       "         -4.34500545e-01,   2.99891710e-01,   1.67353880e-02,\n",
       "         -8.23773667e-02,   1.48067638e-01,  -1.18740477e-01,\n",
       "         -5.98411262e-02,  -8.43895450e-02,  -1.72729298e-01,\n",
       "         -9.58193615e-02,   5.14079183e-02,   3.81327942e-02,\n",
       "          1.02199763e-01,  -5.05728163e-02,  -5.22887632e-02,\n",
       "         -1.47717237e-01,   3.43595505e-01,  -4.89675179e-02,\n",
       "          2.49851346e-01,   1.43025517e-01,   9.08536240e-02,\n",
       "          1.37147695e-01,  -1.46334931e-01,   6.40338138e-02,\n",
       "         -1.18032629e-02,  -4.13876772e-02,  -9.97414067e-03,\n",
       "         -2.92779207e-01,  -1.03655927e-01,  -7.78452754e-02,\n",
       "         -1.77461088e-01,  -2.02410445e-01,  -2.07267463e-01,\n",
       "         -5.20696007e-02,  -2.74687588e-01,   2.51528174e-02,\n",
       "          5.85099645e-02,  -1.54857501e-01,   9.26975831e-02,\n",
       "          1.48947030e-01,   7.24578500e-02,  -4.15242910e-01,\n",
       "         -1.55198090e-02,  -2.93950498e-01,  -4.40431237e-02,\n",
       "         -1.09265551e-01,   5.08320145e-02,   4.15798798e-02,\n",
       "          1.79692544e-02,  -4.58114326e-01,   4.67692584e-01,\n",
       "         -2.76172608e-02,  -1.87125415e-01,  -3.83649990e-02,\n",
       "         -9.41925049e-02,  -8.72284546e-02,  -5.12119904e-02,\n",
       "         -1.36041239e-01,   3.23616087e-01,   1.24331854e-01,\n",
       "          7.60206357e-02,  -1.64241567e-01,   2.83727422e-03,\n",
       "          2.04378534e-02,  -1.52855694e-01,   3.88802998e-02,\n",
       "         -1.30370438e-01,  -1.51342094e-01,  -5.72979562e-02,\n",
       "         -1.47441253e-01,  -1.40466511e-01,  -4.84746769e-02,\n",
       "          7.47845322e-03,  -4.58712690e-03,  -2.59004772e-01,\n",
       "         -4.90655094e-01,   9.65590924e-02,  -2.17555866e-01,\n",
       "          2.92790890e-01,   1.45909742e-01,   3.34041789e-02,\n",
       "          1.66250378e-01,   2.49180868e-01,   1.00168616e-01,\n",
       "         -2.41103210e-02,   9.83016491e-02,  -7.74814963e-01,\n",
       "          1.35699943e-01,   2.46516928e-01,   8.90055224e-02,\n",
       "         -4.47690263e-02,   3.59676808e-01,   1.64898619e-01,\n",
       "         -2.49245629e-01,  -1.21996455e-01,  -7.98854381e-02,\n",
       "         -3.03405762e-01,   3.49409342e-01,  -8.63164216e-02,\n",
       "          3.70891839e-02,  -1.61338776e-01,   8.87064636e-02,\n",
       "          6.91642910e-02,   1.56211585e-01,   1.28683209e-01,\n",
       "         -8.09972882e-02,  -3.62664014e-01,  -1.71160311e-01,\n",
       "          1.74150541e-01,   9.45932269e-02,  -9.52410847e-02,\n",
       "         -7.32266307e-02,  -2.41284724e-02,   1.31204814e-01,\n",
       "          1.82578951e-01,  -3.88691783e-01,   3.13686222e-01,\n",
       "          7.29985386e-02,  -2.22909942e-01,  -7.04685077e-02,\n",
       "          2.21060794e-02,  -5.64908469e-03,   9.32456180e-02,\n",
       "         -3.75783481e-02,  -1.58326417e-01,   1.22505486e-01,\n",
       "         -3.69147658e-01,   4.19702418e-02,  -3.06222707e-01,\n",
       "         -1.92407310e-01,  -5.46350554e-02,  -2.24006921e-01,\n",
       "          5.00347465e-04,  -1.96362585e-01,   3.14186215e-01,\n",
       "          1.92739338e-01,   2.80071735e-01,  -8.18482280e-01,\n",
       "          2.40756303e-01,   3.09852183e-01,  -7.36181289e-02,\n",
       "         -9.73399207e-02,  -3.02311420e-01,   7.51441717e-02,\n",
       "         -2.79576331e-02,   7.91693926e-02,   3.55868042e-02,\n",
       "         -2.82058194e-02,   3.50990444e-02,   4.89447303e-02,\n",
       "         -2.33025610e-01,   6.82826862e-02,   2.84699589e-01,\n",
       "          4.56395537e-01,   5.01212925e-02,  -1.12549424e-01,\n",
       "          2.64068246e-02,  -3.93822461e-01,  -6.03882447e-02,\n",
       "          2.62833476e-01,   1.18601978e-01,   3.66765782e-02,\n",
       "         -1.03737712e-02,   1.68759711e-02,   1.85397848e-01,\n",
       "          3.18109363e-01,  -3.66677850e-01,  -9.78572890e-02,\n",
       "         -1.71702772e-01,  -1.95517123e-01,   9.69993323e-02,\n",
       "          3.37801874e-01,  -3.23153645e-01,   1.87830031e-02,\n",
       "         -1.69865429e-01,   1.89265311e-02,  -2.81104058e-01,\n",
       "         -1.35617375e-01,   6.12257197e-02,  -1.75865442e-01,\n",
       "         -1.12736762e-01,  -6.96676150e-02,  -7.77063370e-02,\n",
       "          1.30982488e-01,   4.66805920e-02,   7.98402578e-02,\n",
       "         -5.29690862e-01,  -7.45503418e-03,  -1.97468504e-01,\n",
       "         -7.61595666e-02,   1.87950402e-01,   1.96843594e-01,\n",
       "         -5.33043705e-02,   1.84503764e-01,  -1.39148347e-03,\n",
       "         -1.84273377e-01,   3.08887482e-01,   5.13212122e-02,\n",
       "         -1.35967180e-01,   8.63136500e-02,   1.38102978e-01,\n",
       "          8.08356851e-02,   1.74835145e-01,   1.86110377e-01,\n",
       "         -1.31293327e-01,  -6.97246790e-02,   3.10954135e-02,\n",
       "          1.74406707e-01,  -9.65882465e-02,  -2.37323642e-02,\n",
       "          6.00789040e-02,  -1.08050629e-01,  -3.44851524e-01,\n",
       "          3.07440132e-01,   4.42341328e-01,  -6.00842386e-02,\n",
       "          5.86387753e-01,   2.59630531e-01,   1.03044912e-01,\n",
       "          1.88422371e-02,  -1.21874521e-02,  -4.03485507e-01,\n",
       "          2.52099574e-01,   5.16486317e-02,   7.65562207e-02,\n",
       "         -1.72444880e-01]], dtype=float32)"
      ]
     },
     "execution_count": 71,
     "metadata": {},
     "output_type": "execute_result"
    }
   ],
   "source": [
    "transform_question(get_batch('Привет'))"
   ]
  },
  {
   "cell_type": "code",
   "execution_count": 81,
   "metadata": {
    "collapsed": true
   },
   "outputs": [],
   "source": [
    "def answer(st=None):\n",
    "    if not st:\n",
    "        st = np.random.choice(questions_train)['question'] \n",
    "    question_batch = np.array([text_to_matrix(st)])\n",
    "    question_vector = transform_question(question_batch)[0]\n",
    "    min_id = 0\n",
    "    min_dist = 10**9\n",
    "    \n",
    "    #t = predict_topic(a)[0]\n",
    "    for i in tnrange(len(answers_texts)):\n",
    "        txt, answer_vector = answers_texts[i], answers_vec[i] \n",
    "        d = ((question_vector-answer_vector)**2).sum()\n",
    "        if d<min_dist:\n",
    "            min_dist = d\n",
    "            min_id = i\n",
    "    print(st)\n",
    "    print(min_dist)\n",
    "    print(answers_texts[min_id])\n",
    "\n",
    "#    print(questions[min_id[0]][2][min_id[1]-1])\n",
    "#answer('', rand=True)"
   ]
  },
  {
   "cell_type": "code",
   "execution_count": 95,
   "metadata": {},
   "outputs": [
    {
     "data": {
      "application/vnd.jupyter.widget-view+json": {
       "model_id": "4e781fe01d1440968ecebb418207b509"
      }
     },
     "metadata": {},
     "output_type": "display_data"
    },
    {
     "name": "stdout",
     "output_type": "stream",
     "text": [
      "\n",
      "Есть ли альтернатива В.В.Путину?!\n",
      "8.36932\n",
      "{'occupation': 'Лазаю по крышам, цепляюсь за поезда, гуляю с #ФСБ и просто пишу посты для vk.com/brown_room', 'text': 'Смотря где. В России, как знаете, Государственная дума решила, что грешно, приняв закон с кучей поправок \"в целях противодействия оскорблению религиозных убеждений и чувств граждан\". Годик можно посидеть или 10-30 тысяч заплатить штрафа.А вот в Нидерландах года 3 назад отменили подобный закон.', 'name': 'Andrej Biryukov 799'}\n"
     ]
    }
   ],
   "source": [
    "answer('')"
   ]
  },
  {
   "cell_type": "code",
   "execution_count": 96,
   "metadata": {},
   "outputs": [
    {
     "data": {
      "application/vnd.jupyter.widget-view+json": {
       "model_id": "6e784203b1ae4d64ad058ba36b34490d"
      }
     },
     "metadata": {},
     "output_type": "display_data"
    },
    {
     "name": "stdout",
     "output_type": "stream",
     "text": [
      "\n",
      "В банкоматах какого банка в России выгоднее всего снимать доллары?\n",
      "13.908\n",
      "{'occupation': 'Специалист широкого профиля', 'text': 'Из тех, вещей, что действительно можно купить – это компания Apple, чтобы приобрести её (то есть 100% её акций) вам потребуется более триллиона долларов США. Сейчас капитализация компании чуть меньше, но при полной покупке вам придётся заплатить существующим акционерам больше рыночной цены за каждую акцию.', 'name': 'Artem Gordin 1667'}\n"
     ]
    }
   ],
   "source": [
    "answer('')"
   ]
  },
  {
   "cell_type": "code",
   "execution_count": 98,
   "metadata": {},
   "outputs": [
    {
     "data": {
      "application/vnd.jupyter.widget-view+json": {
       "model_id": "97f6481198024a91a97e99b9d6f7cf8a"
      }
     },
     "metadata": {},
     "output_type": "display_data"
    },
    {
     "name": "stdout",
     "output_type": "stream",
     "text": [
      "\n",
      "В чем смысл математики?\n",
      "23.3876\n",
      "{'occupation': 'Студент кафедры физики частиц и космологии МГУ', 'text': 'Присоединяюсь к коллеге. Вообще очень сложно объяснить неспециалисту зачем нужен бозон Хиггса, почему именно он должен сообщать массу частицам. Суть дела лежит с структуре самой стандартной модели и в ее теоретической базе - теории калибровочных полей. На мой взгляд, очень удачная попытка объяснения была сделана известным теоретиком Хуаном Малдасеной в статье arxiv.org Статья простая и понятная, содержит около 20 страниц текста, но, к сожалению, она на английском. Так что если вам интересно более-менее в деталях узнать на чем основана физика частиц, у вас есть свободное время и вы немного владеете английским, то очень рекомендую статью почитать.', 'name': 'Николай Сухов 271'}\n"
     ]
    }
   ],
   "source": [
    "answer('В чем смысл математики?')"
   ]
  },
  {
   "cell_type": "code",
   "execution_count": 99,
   "metadata": {},
   "outputs": [
    {
     "data": {
      "application/vnd.jupyter.widget-view+json": {
       "model_id": "ff1c3ba757614eeea8e6e7fd5aec02f6"
      }
     },
     "metadata": {},
     "output_type": "display_data"
    },
    {
     "name": "stdout",
     "output_type": "stream",
     "text": [
      "\n",
      "Куда съездить в путешествие?\n",
      "20.5129\n",
      "{'occupation': 'программист, предприниматель', 'text': 'Суздаль, Екатеринбург, Калининград, Казань, Набережные Челны.\\xa0Города красивые, есть что посмотреть, есть чего попробовать. Рекомендую в общем.\\xa0', 'name': 'Илья Левин 4832'}\n"
     ]
    }
   ],
   "source": [
    "answer('Куда съездить в путешествие?')"
   ]
  },
  {
   "cell_type": "code",
   "execution_count": null,
   "metadata": {
    "collapsed": true
   },
   "outputs": [],
   "source": []
  }
 ],
 "metadata": {
  "anaconda-cloud": {},
  "kernelspec": {
   "display_name": "Python [conda env:py35]",
   "language": "python",
   "name": "conda-env-py35-py"
  },
  "language_info": {
   "codemirror_mode": {
    "name": "ipython",
    "version": 3
   },
   "file_extension": ".py",
   "mimetype": "text/x-python",
   "name": "python",
   "nbconvert_exporter": "python",
   "pygments_lexer": "ipython3",
   "version": "3.5.3"
  }
 },
 "nbformat": 4,
 "nbformat_minor": 1
}
