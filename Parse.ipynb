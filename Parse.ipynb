{
 "cells": [
  {
   "cell_type": "code",
   "execution_count": 26,
   "metadata": {
    "collapsed": true
   },
   "outputs": [],
   "source": [
    "import pickle\n",
    "from concurrent import futures\n",
    "from bs4 import BeautifulSoup\n",
    "from tqdm import tqdm"
   ]
  },
  {
   "cell_type": "code",
   "execution_count": 27,
   "metadata": {
    "collapsed": false
   },
   "outputs": [],
   "source": [
    "a = pickle.load(open(\"question.pck\",\"rb\"))"
   ]
  },
  {
   "cell_type": "code",
   "execution_count": null,
   "metadata": {
    "collapsed": false
   },
   "outputs": [],
   "source": []
  },
  {
   "cell_type": "code",
   "execution_count": null,
   "metadata": {
    "collapsed": false
   },
   "outputs": [
    {
     "name": "stderr",
     "output_type": "stream",
     "text": [
      " 51%|█████▏    | 63954/124256 [40:28<47:17, 21.25it/s]"
     ]
    }
   ],
   "source": [
    "questions_postprocessed = []\n",
    "for page in tqdm(a):\n",
    "    root = BeautifulSoup(page, 'html.parser')\n",
    "    question = root.find(\"div\",{\"class\":\"question__header-title\"}).text\n",
    "    topics = root.find(\"div\",{\"class\": \"question__header-topics\"})\n",
    "    viewes,answers,comments, likes = [i.text for i in root.findAll(\"div\",{\"class\": \"question__header-info-counter\"})]\n",
    "    follows = root.find(\"span\",{\"class\": \"button-counter-value\"}).text\n",
    "    date, clock = [i.text for i in root.find(\"div\",{\"class\":\"question__header-date\"}).findAll(\"span\")]\n",
    "    \n",
    "    answers = root.findAll(\"div\",{\"class\":\"answer__wrapper\"})\n",
    "    answers_pp = []\n",
    "    for answer in answers:\n",
    "        answer_text = answer.find('qml', {\"class\": \"answer__text\"})\n",
    "        if answer_text is not None:\n",
    "            answer_pp = {\n",
    "                'text': answer.find('qml', {\"class\": \"answer__text\"}).text,\n",
    "                'name': answer.find('a', {\"class\": 'answer__account-username'}).text,\n",
    "                'occupation': answer.find('div', {'class': 'answer__account-occupation'}).text\n",
    "            }\n",
    "            answers_pp.append(answer_pp)\n",
    "        \n",
    "        \n",
    "    questions_postprocessed.append({\n",
    "            'question': question,\n",
    "            'topics': [_.text for _ in topics.findAll('a')],\n",
    "            'answers': answers_pp\n",
    "        })\n",
    "questions_postprocessed[-1]"
   ]
  },
  {
   "cell_type": "code",
   "execution_count": 36,
   "metadata": {
    "collapsed": false
   },
   "outputs": [],
   "source": [
    "import json\n",
    "json.dump(questions_postprocessed, open('questions.json', 'w'))"
   ]
  },
  {
   "cell_type": "code",
   "execution_count": null,
   "metadata": {
    "collapsed": true
   },
   "outputs": [],
   "source": []
  }
 ],
 "metadata": {
  "anaconda-cloud": {},
  "kernelspec": {
   "display_name": "Python [conda root]",
   "language": "python",
   "name": "conda-root-py"
  },
  "language_info": {
   "codemirror_mode": {
    "name": "ipython",
    "version": 3
   },
   "file_extension": ".py",
   "mimetype": "text/x-python",
   "name": "python",
   "nbconvert_exporter": "python",
   "pygments_lexer": "ipython3",
   "version": "3.5.2"
  }
 },
 "nbformat": 4,
 "nbformat_minor": 1
}
