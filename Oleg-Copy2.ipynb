{
 "cells": [
  {
   "cell_type": "code",
   "execution_count": 175,
   "metadata": {
    "collapsed": false
   },
   "outputs": [
    {
     "name": "stdout",
     "output_type": "stream",
     "text": [
      "env: THEANO_FLAGS=\"device=gpu2\"\n"
     ]
    }
   ],
   "source": [
    "#theano imports\n",
    "%env THEANO_FLAGS=\"device=gpu2\"\n",
    "import lasagne\n",
    "import theano\n",
    "import theano.tensor as T\n",
    "import sys\n",
    "sys.setrecursionlimit(100000)\n",
    "floatX = theano.config.floatX"
   ]
  },
  {
   "cell_type": "code",
   "execution_count": 176,
   "metadata": {
    "collapsed": false
   },
   "outputs": [],
   "source": [
    "from nltk.stem.snowball import SnowballStemmer"
   ]
  },
  {
   "cell_type": "code",
   "execution_count": 33,
   "metadata": {
    "collapsed": false
   },
   "outputs": [],
   "source": [
    "#!pip install gensim --upgrade --target=/anaconda3/lib/python3.5/site-packages"
   ]
  },
  {
   "cell_type": "code",
   "execution_count": 34,
   "metadata": {
    "collapsed": true
   },
   "outputs": [],
   "source": [
    "import numpy as np"
   ]
  },
  {
   "cell_type": "code",
   "execution_count": 58,
   "metadata": {
    "collapsed": true
   },
   "outputs": [],
   "source": [
    "stemmer = SnowballStemmer(\"russian\")"
   ]
  },
  {
   "cell_type": "code",
   "execution_count": 182,
   "metadata": {
    "collapsed": false
   },
   "outputs": [],
   "source": [
    "import json\n",
    "questions = json.load(open('question_my.json'))"
   ]
  },
  {
   "cell_type": "code",
   "execution_count": 183,
   "metadata": {
    "collapsed": false
   },
   "outputs": [
    {
     "data": {
      "text/plain": [
       "['Насколько может быть сильным самовнушение?',\n",
       " ['Психология', 'Мозг'],\n",
       " [['кандидат психологических наук, доктор философии, независимый консультант по организационному развитию и персональной эффективности руководителей',\n",
       "   'Сила внушения может быть очень большой. Всем хорошо известны случаи, когда группы сектантов внушали себе неизбежность прихода конца света. При этом они доводили себя до такого состояния, что поджигали себя и сгорали заживо, то есть самовнушение, усиленное групповыми эффектами, может быть летальным. В более мягких случаях, например в спорте, способность к самовнушению позволяет выходить на старт в оптимальном состоянии и выигрывать соревнования или, наоборот, перегорать заранее, зажиматься и проигрывать еще до схватки. Тело и мозг, физиология и эмоции — взаимосвязанные части системы под названием «человек». Именно поэтому такие инструменты, как аутогенная тренировка, медитация, различные дыхательные практики, — всё это есть не что иное, как различные формы самовнушения, которое позволяет управлять состояниями своего организма. Вопрос только в осознанности применения этих инструментов и в степени овладения ими.']]]"
      ]
     },
     "execution_count": 183,
     "metadata": {},
     "output_type": "execute_result"
    }
   ],
   "source": [
    "questions[0]['answers']"
   ]
  },
  {
   "cell_type": "code",
   "execution_count": 63,
   "metadata": {
    "collapsed": false
   },
   "outputs": [],
   "source": [
    "from tqdm import tqdm"
   ]
  },
  {
   "cell_type": "code",
   "execution_count": 75,
   "metadata": {
    "collapsed": true
   },
   "outputs": [],
   "source": [
    "import re\n",
    "from collections import Counter"
   ]
  },
  {
   "cell_type": "code",
   "execution_count": 191,
   "metadata": {
    "collapsed": false
   },
   "outputs": [],
   "source": [
    "def process_textblob(txt):\n",
    "    txt = txt.lower()\n",
    "    txt = re.subn('<[a-z\\s]*>', '', txt)[0]\n",
    "    #txt = re.sub('http\\w*\\s', '', txt)\n",
    "    txt = re.subn('[^А-Яа-яA-Za-z\\-\\.\\,\\s]', '', txt)[0]\n",
    "    r = re.split('(\\s|\\-|\\.|\\,)', txt)\n",
    "    r = [_ for _ in r if len(_)>1 and 'http' not in _]\n",
    "    return r\n"
   ]
  },
  {
   "cell_type": "code",
   "execution_count": null,
   "metadata": {
    "collapsed": false
   },
   "outputs": [],
   "source": []
  },
  {
   "cell_type": "code",
   "execution_count": 192,
   "metadata": {
    "collapsed": false,
    "scrolled": true
   },
   "outputs": [
    {
     "name": "stderr",
     "output_type": "stream",
     "text": [
      "100%|██████████| 124256/124256 [00:34<00:00, 3654.42it/s]\n"
     ]
    }
   ],
   "source": [
    "corpus = []\n",
    "tokens = Counter()\n",
    "for q in tqdm(questions):\n",
    "    corpus.append(process_textblob(q[0]))\n",
    "    for a in q[2]:   \n",
    "        r = process_textblob(\"\".join(a[1]))\n",
    "        corpus.append(r)\n",
    "        #tokens |= Counter(r)\n",
    "#len(tokens)"
   ]
  },
  {
   "cell_type": "code",
   "execution_count": 193,
   "metadata": {
    "collapsed": false
   },
   "outputs": [
    {
     "data": {
      "text/plain": [
       "['страдающее',\n",
       " 'средневековье',\n",
       " 'для',\n",
       " 'comsouffrantmittelalterдилетант',\n",
       " 'просто',\n",
       " 'отличный',\n",
       " 'исторический',\n",
       " 'паблик',\n",
       " 'неплохой',\n",
       " 'comdiletantmedia']"
      ]
     },
     "execution_count": 193,
     "metadata": {},
     "output_type": "execute_result"
    }
   ],
   "source": [
    "corpus[-1]"
   ]
  },
  {
   "cell_type": "code",
   "execution_count": 194,
   "metadata": {
    "collapsed": false
   },
   "outputs": [],
   "source": [
    "from gensim import models"
   ]
  },
  {
   "cell_type": "code",
   "execution_count": 195,
   "metadata": {
    "collapsed": false
   },
   "outputs": [],
   "source": [
    "word2vec_size=512"
   ]
  },
  {
   "cell_type": "code",
   "execution_count": 196,
   "metadata": {
    "collapsed": false
   },
   "outputs": [],
   "source": [
    "w2v = models.Word2Vec(corpus, min_count=1, size=word2vec_size)"
   ]
  },
  {
   "cell_type": "code",
   "execution_count": 197,
   "metadata": {
    "collapsed": true
   },
   "outputs": [],
   "source": [
    "def fill_sentance_matrix(sent):\n",
    "    matrix = []\n",
    "    for i, w in enumerate(process_textblob(sent)):\n",
    "        matrix.append(w2v[w])\n",
    "    return np.matrix(matrix)"
   ]
  },
  {
   "cell_type": "code",
   "execution_count": 198,
   "metadata": {
    "collapsed": true
   },
   "outputs": [],
   "source": [
    "epochs = 0"
   ]
  },
  {
   "cell_type": "code",
   "execution_count": 370,
   "metadata": {
    "collapsed": false
   },
   "outputs": [],
   "source": [
    "topics = set()\n",
    "topics_to_id = {}\n",
    "for q in questions:\n",
    "    topics|=set([_.lower() for _ in q[1]])\n",
    "for i,t in enumerate(topics):\n",
    "    topics_to_id[t] = i"
   ]
  },
  {
   "cell_type": "code",
   "execution_count": 373,
   "metadata": {
    "collapsed": false
   },
   "outputs": [
    {
     "name": "stderr",
     "output_type": "stream",
     "text": [
      "124256it [01:44, 1189.69it/s]\n"
     ]
    }
   ],
   "source": [
    "question_postprocessed = []\n",
    "answers_postprocessed = []\n",
    "question_ids = []\n",
    "answers_ids = []\n",
    "for i, q in tqdm(enumerate(questions)):\n",
    "    # print(q)\n",
    "    #print((len(q['answers']), len(q['text']), word2vec_size))\n",
    "    future_answers = []\n",
    "    for j, a in enumerate(q[2]):\n",
    "        r = fill_sentance_matrix(\"\".join(a[1]))\n",
    "        if r.shape[1]==word2vec_size:\n",
    "            future_answers.append(len(answers_postprocessed))\n",
    "            answers_postprocessed.append(r)\n",
    "            answers_ids.append((i, j))\n",
    "    if len(future_answers)>0:\n",
    "        question_postprocessed.append((fill_sentance_matrix(q[0]), future_answers))\n",
    "        question_ids.append(i)\n",
    "    for t in q[1]:\n",
    "        question_topics[i,topics_to_id[t.lower()]] = 1\n",
    "    \n"
   ]
  },
  {
   "cell_type": "code",
   "execution_count": 388,
   "metadata": {
    "collapsed": false
   },
   "outputs": [
    {
     "data": {
      "text/plain": [
       "['Мама на втором круге декрета',\n",
       " 'Анна, а у вас прямо-таки оригинальный рецепт болоньезе? Без морковки и сельдерея, не говоря уже о других ингредиентах =)']"
      ]
     },
     "execution_count": 388,
     "metadata": {},
     "output_type": "execute_result"
    }
   ],
   "source": [
    "questions[35][2][13]"
   ]
  },
  {
   "cell_type": "code",
   "execution_count": 438,
   "metadata": {
    "collapsed": false
   },
   "outputs": [
    {
     "name": "stderr",
     "output_type": "stream",
     "text": [
      "231704it [00:03, 60174.79it/s] \n",
      "94144it [00:00, 120627.02it/s]\n"
     ]
    }
   ],
   "source": [
    "answer_topics = np.zeros((len(answers_ids), len(topics_to_id)))\n",
    "for i,a in tqdm(enumerate(answers_ids)):\n",
    "    for t in questions[a[0]][1]:\n",
    "        answer_topics[i, topics_to_id[t.lower()]] = 1\n",
    "question_topics = np.zeros((len(question_ids), len(topics_to_id)))\n",
    "for i,a in tqdm(enumerate(question_ids)):\n",
    "    for t in questions[a][1]:\n",
    "        question_topics[i,topics_to_id[t.lower()]] = 1\n"
   ]
  },
  {
   "cell_type": "code",
   "execution_count": null,
   "metadata": {
    "collapsed": false
   },
   "outputs": [],
   "source": []
  },
  {
   "cell_type": "code",
   "execution_count": 265,
   "metadata": {
    "collapsed": false
   },
   "outputs": [
    {
     "name": "stdout",
     "output_type": "stream",
     "text": [
      "(21136, (matrix([[ 1.49883032, -0.98222858,  2.50586653, ..., -0.4661651 ,\n",
      "          0.39683902, -0.47477928],\n",
      "        [-0.25660571, -0.27273744,  0.07351503, ...,  0.11165854,\n",
      "          0.11696509, -0.00326384],\n",
      "        [-0.10612646, -0.62579906,  0.21758351, ...,  1.73073304,\n",
      "          1.12295938,  0.01356338],\n",
      "        ..., \n",
      "        [-0.40986386,  0.83124447,  0.81553257, ..., -0.36933964,\n",
      "         -0.22748461, -0.72318798],\n",
      "        [ 0.80690885,  0.9055205 ,  0.89453435, ...,  0.53179806,\n",
      "         -0.5272482 ,  1.16792071],\n",
      "        [ 0.4561269 ,  1.12210906,  0.35627127, ...,  0.4817827 ,\n",
      "          2.01626706, -0.25266549]], dtype=float32), [53085, 53086, 53087, 53088, 53089, 53090, 53091, 53092, 53093, 53094, 53095, 53096, 53097, 53098, 53099, 53100, 53101, 53102, 53103, 53104, 53105, 53106, 53107, 53108, 53109, 53110, 53111, 53112, 53113, 53114, 53115, 53116, 53117, 53118, 53119, 53120, 53121, 53122, 53123, 53124, 53125, 53126, 53127, 53128, 53129, 53130, 53131, 53132, 53133, 53134, 53135, 53136, 53137, 53138, 53139, 53140, 53141, 53142, 53143, 53144, 53145, 53146, 53147, 53148, 53149, 53150, 53151, 53152, 53153, 53154, 53155, 53156, 53157, 53158, 53159, 53160, 53161, 53162, 53163, 53164, 53165, 53166, 53167, 53168, 53169, 53170, 53171, 53172, 53173, 53174, 53175, 53176, 53177, 53178, 53179, 53180, 53181, 53182, 53183, 53184, 53185, 53186, 53187, 53188, 53189, 53190, 53191, 53192, 53193, 53194, 53195, 53196, 53197, 53198, 53199, 53200, 53201, 53202, 53203, 53204, 53205, 53206, 53207, 53208, 53209, 53210, 53211, 53212, 53213, 53214, 53215, 53216, 53217, 53218, 53219, 53220, 53221, 53222, 53223, 53224, 53225, 53226, 53227, 53228, 53229, 53230, 53231, 53232, 53233, 53234, 53235, 53236, 53237, 53238, 53239, 53240, 53241, 53242, 53243, 53244, 53245, 53246, 53247, 53248, 53249, 53250, 53251, 53252, 53253, 53254, 53255, 53256, 53257, 53258, 53259, 53260, 53261, 53262, 53263, 53264, 53265, 53266, 53267, 53268, 53269, 53270, 53271, 53272, 53273, 53274, 53275, 53276, 53277, 53278, 53279, 53280, 53281, 53282, 53283, 53284, 53285, 53286, 53287, 53288, 53289, 53290, 53291, 53292, 53293, 53294, 53295, 53296, 53297, 53298, 53299, 53300, 53301, 53302, 53303, 53304, 53305, 53306, 53307, 53308, 53309, 53310, 53311, 53312, 53313, 53314, 53315, 53316, 53317, 53318, 53319, 53320, 53321, 53322, 53323, 53324, 53325, 53326, 53327, 53328, 53329, 53330, 53331, 53332, 53333, 53334, 53335, 53336, 53337, 53338, 53339, 53340, 53341, 53342, 53343, 53344, 53345, 53346, 53347, 53348, 53349, 53350, 53351, 53352, 53353, 53354, 53355, 53356, 53357, 53358, 53359, 53360, 53361, 53362, 53363, 53364, 53365, 53366, 53367, 53368, 53369, 53370, 53371, 53372, 53373, 53374, 53375, 53376, 53377, 53378, 53379, 53380, 53381, 53382, 53383, 53384, 53385, 53386, 53387, 53388, 53389, 53390, 53391, 53392, 53393, 53394, 53395, 53396, 53397, 53398, 53399, 53400, 53401, 53402, 53403, 53404, 53405, 53406, 53407, 53408, 53409, 53410, 53411, 53412, 53413, 53414, 53415, 53416, 53417, 53418, 53419, 53420, 53421, 53422, 53423, 53424, 53425, 53426, 53427, 53428, 53429, 53430, 53431, 53432, 53433, 53434, 53435, 53436, 53437, 53438, 53439, 53440, 53441, 53442, 53443, 53444, 53445, 53446, 53447, 53448, 53449, 53450, 53451, 53452, 53453, 53454, 53455, 53456, 53457, 53458, 53459, 53460, 53461, 53462, 53463, 53464, 53465, 53466, 53467, 53468, 53469, 53470, 53471, 53472, 53473, 53474, 53475, 53476, 53477, 53478, 53479, 53480, 53481, 53482]))\n"
     ]
    }
   ],
   "source": [
    "print(max((_ for _ in enumerate(question_postprocessed)), key=lambda _: len(_[1][1])))"
   ]
  },
  {
   "cell_type": "code",
   "execution_count": 269,
   "metadata": {
    "collapsed": false
   },
   "outputs": [
    {
     "data": {
      "text/plain": [
       "29252"
      ]
     },
     "execution_count": 269,
     "metadata": {},
     "output_type": "execute_result"
    }
   ],
   "source": [
    "question_ids[21136]\n",
    "#questions[29252]"
   ]
  },
  {
   "cell_type": "code",
   "execution_count": 202,
   "metadata": {
    "collapsed": true
   },
   "outputs": [],
   "source": [
    "input_questions = T.tensor3('input sequence','float32')\n",
    "input_positive_answers = T.tensor3('input sequence',\"float32\")\n",
    "input_negative_answers = T.tensor3('input sequence','float32')"
   ]
  },
  {
   "cell_type": "code",
   "execution_count": 416,
   "metadata": {
    "collapsed": true
   },
   "outputs": [],
   "source": [
    "output_topics = T.matrix('batch topics', 'float32')"
   ]
  },
  {
   "cell_type": "code",
   "execution_count": 203,
   "metadata": {
    "collapsed": true
   },
   "outputs": [],
   "source": [
    "target_space_n = 100"
   ]
  },
  {
   "cell_type": "code",
   "execution_count": 222,
   "metadata": {
    "collapsed": false
   },
   "outputs": [],
   "source": [
    "class question:\n",
    "    l = lasagne.layers.InputLayer(shape=(None, None, word2vec_size),input_var=input_questions)\n",
    "    l = lasagne.layers.LSTMLayer(l, 200,  only_return_final=True)\n",
    "    out = lasagne.layers.DenseLayer(l, target_space_n, nonlinearity=None)"
   ]
  },
  {
   "cell_type": "code",
   "execution_count": 223,
   "metadata": {
    "collapsed": false
   },
   "outputs": [],
   "source": [
    "class answer:\n",
    "    l  = lasagne.layers.InputLayer(shape=(None, None, word2vec_size))\n",
    "    l = lasagne.layers.LSTMLayer(l, 200,  only_return_final=True)\n",
    "    out = lasagne.layers.DenseLayer(l, target_space_n, nonlinearity=None)\n"
   ]
  },
  {
   "cell_type": "code",
   "execution_count": 419,
   "metadata": {
    "collapsed": false
   },
   "outputs": [
    {
     "data": {
      "text/plain": [
       "0"
      ]
     },
     "execution_count": 419,
     "metadata": {},
     "output_type": "execute_result"
    }
   ],
   "source": [
    " len(tokens)"
   ]
  },
  {
   "cell_type": "code",
   "execution_count": 539,
   "metadata": {
    "collapsed": false
   },
   "outputs": [],
   "source": [
    "class question_topics_model:\n",
    "    weights = []\n",
    "    l = lasagne.layers.DenseLayer(question.out, 300)\n",
    "    weights += [l.W, l.b]\n",
    "    out = lasagne.layers.DenseLayer(l, len(topics), nonlinearity=lasagne.nonlinearities.sigmoid)\n",
    "    weights += [out.W, out.b]\n",
    "    \n",
    "    \n",
    "questions_topic_out = lasagne.layers.get_output(question_topics_model.out, inputs=input_questions)"
   ]
  },
  {
   "cell_type": "code",
   "execution_count": 540,
   "metadata": {
    "collapsed": false
   },
   "outputs": [
    {
     "data": {
      "text/plain": [
       "array([[ -1.03813279e-02,  -1.71564519e-02,  -2.45445017e-02, ...,\n",
       "         -2.55452804e-02,  -2.94079585e-03,  -1.90537516e-02],\n",
       "       [  1.85249075e-02,  -1.88941825e-02,   5.98762790e-03, ...,\n",
       "          1.14345020e-02,  -5.84423309e-03,   7.48844072e-03],\n",
       "       [ -1.24681145e-02,   2.01238040e-02,  -2.49961875e-02, ...,\n",
       "         -1.45954015e-02,  -5.56790596e-03,  -5.83296921e-03],\n",
       "       ..., \n",
       "       [ -1.37532176e-02,  -4.23294399e-03,   1.80464406e-02, ...,\n",
       "         -1.31168384e-02,  -3.84850646e-05,  -1.94346886e-02],\n",
       "       [  2.53016725e-02,  -1.43302567e-02,   2.00576521e-02, ...,\n",
       "          2.10965574e-02,   3.71659524e-04,  -2.60295020e-03],\n",
       "       [  1.53620560e-02,   1.62013732e-02,   1.73143204e-02, ...,\n",
       "         -6.69651432e-03,  -1.81789864e-02,  -5.09035634e-03]], dtype=float32)"
      ]
     },
     "execution_count": 540,
     "metadata": {},
     "output_type": "execute_result"
    }
   ],
   "source": [
    "question_topics_model.out.W.get_value()"
   ]
  },
  {
   "cell_type": "code",
   "execution_count": 541,
   "metadata": {
    "collapsed": false
   },
   "outputs": [
    {
     "ename": "AttributeError",
     "evalue": "'function' object has no attribute 'out'",
     "output_type": "error",
     "traceback": [
      "\u001b[0;31m---------------------------------------------------------------------------\u001b[0m",
      "\u001b[0;31mAttributeError\u001b[0m                            Traceback (most recent call last)",
      "\u001b[0;32m<ipython-input-541-9219e1eebd95>\u001b[0m in \u001b[0;36m<module>\u001b[0;34m()\u001b[0m\n\u001b[1;32m      1\u001b[0m \u001b[0mquestions_vec\u001b[0m \u001b[0;34m=\u001b[0m \u001b[0mlasagne\u001b[0m\u001b[0;34m.\u001b[0m\u001b[0mlayers\u001b[0m\u001b[0;34m.\u001b[0m\u001b[0mget_output\u001b[0m\u001b[0;34m(\u001b[0m\u001b[0mquestion\u001b[0m\u001b[0;34m.\u001b[0m\u001b[0mout\u001b[0m\u001b[0;34m,\u001b[0m \u001b[0minputs\u001b[0m\u001b[0;34m=\u001b[0m\u001b[0minput_questions\u001b[0m\u001b[0;34m)\u001b[0m\u001b[0;34m\u001b[0m\u001b[0m\n\u001b[0;32m----> 2\u001b[0;31m \u001b[0mpositive_answers_vec\u001b[0m \u001b[0;34m=\u001b[0m \u001b[0mlasagne\u001b[0m\u001b[0;34m.\u001b[0m\u001b[0mlayers\u001b[0m\u001b[0;34m.\u001b[0m\u001b[0mget_output\u001b[0m\u001b[0;34m(\u001b[0m\u001b[0manswer\u001b[0m\u001b[0;34m.\u001b[0m\u001b[0mout\u001b[0m\u001b[0;34m,\u001b[0m \u001b[0minputs\u001b[0m\u001b[0;34m=\u001b[0m\u001b[0minput_positive_answers\u001b[0m\u001b[0;34m)\u001b[0m\u001b[0;34m\u001b[0m\u001b[0m\n\u001b[0m\u001b[1;32m      3\u001b[0m \u001b[0mnegative_answers_vec\u001b[0m \u001b[0;34m=\u001b[0m \u001b[0mlasagne\u001b[0m\u001b[0;34m.\u001b[0m\u001b[0mlayers\u001b[0m\u001b[0;34m.\u001b[0m\u001b[0mget_output\u001b[0m\u001b[0;34m(\u001b[0m\u001b[0manswer\u001b[0m\u001b[0;34m.\u001b[0m\u001b[0mout\u001b[0m\u001b[0;34m,\u001b[0m \u001b[0minputs\u001b[0m\u001b[0;34m=\u001b[0m\u001b[0minput_negative_answers\u001b[0m\u001b[0;34m)\u001b[0m\u001b[0;34m\u001b[0m\u001b[0m\n",
      "\u001b[0;31mAttributeError\u001b[0m: 'function' object has no attribute 'out'"
     ]
    }
   ],
   "source": [
    "questions_vec = lasagne.layers.get_output(question.out, inputs=input_questions)\n",
    "positive_answers_vec = lasagne.layers.get_output(answer.out, inputs=input_positive_answers)\n",
    "negative_answers_vec = lasagne.layers.get_output(answer.out, inputs=input_negative_answers)"
   ]
  },
  {
   "cell_type": "code",
   "execution_count": 542,
   "metadata": {
    "collapsed": false
   },
   "outputs": [],
   "source": [
    "loss_topics = lasagne.objectives.binary_crossentropy(questions_topic_out, output_topics).mean()\n",
    "\n",
    "updates_topics = lasagne.updates.adam(loss_topics, question_topics_model.weights)"
   ]
  },
  {
   "cell_type": "code",
   "execution_count": 555,
   "metadata": {
    "collapsed": false
   },
   "outputs": [
    {
     "data": {
      "text/plain": [
       "6394"
      ]
     },
     "execution_count": 555,
     "metadata": {},
     "output_type": "execute_result"
    }
   ],
   "source": [
    "questions_topic_out.eval({input_questions:X[0:1]}).argmax()"
   ]
  },
  {
   "cell_type": "code",
   "execution_count": null,
   "metadata": {
    "collapsed": true
   },
   "outputs": [],
   "source": []
  },
  {
   "cell_type": "code",
   "execution_count": 544,
   "metadata": {
    "collapsed": false
   },
   "outputs": [
    {
     "name": "stderr",
     "output_type": "stream",
     "text": [
      "INFO (theano.gof.compilelock): Refreshing lock /root/.theano/compiledir_Linux-4.4--generic-x86_64-with-debian-stretch-sid-x86_64-3.5.2-64/lock_dir/lock\n",
      "INFO:theano.gof.compilelock:Refreshing lock /root/.theano/compiledir_Linux-4.4--generic-x86_64-with-debian-stretch-sid-x86_64-3.5.2-64/lock_dir/lock\n"
     ]
    }
   ],
   "source": [
    "#обучение\n",
    "train_topics = theano.function([input_questions, output_topics], loss_topics, updates=updates_topics)\n",
    "\n",
    "#функция потерь без обучения\n",
    "\n",
    "compute_cost_topics = theano.function([input_questions, output_topics], loss_topics)\n"
   ]
  },
  {
   "cell_type": "code",
   "execution_count": 556,
   "metadata": {
    "collapsed": true
   },
   "outputs": [],
   "source": [
    "predict_topic = theano.function([input_questions], questions_topic_out)"
   ]
  },
  {
   "cell_type": "code",
   "execution_count": 557,
   "metadata": {
    "collapsed": false
   },
   "outputs": [
    {
     "data": {
      "text/plain": [
       "array([[  4.29366220e-04,   4.06810759e-05,   1.21993298e-05, ...,\n",
       "          1.75588320e-05,   1.22693658e-04,   1.58121242e-04],\n",
       "       [  7.60033363e-05,   7.62892159e-05,   9.61311162e-06, ...,\n",
       "          5.59203727e-05,   5.19639626e-03,   3.98258780e-05],\n",
       "       [  5.15145133e-04,   4.09953645e-06,   6.53908455e-06, ...,\n",
       "          6.14609453e-05,   5.54156548e-04,   6.24919252e-04],\n",
       "       ..., \n",
       "       [  8.67512881e-06,   8.42127201e-10,   7.81661171e-08, ...,\n",
       "          8.02863980e-08,   7.01328190e-06,   2.36374945e-05],\n",
       "       [  3.04347304e-05,   2.07446146e-06,   4.59525518e-06, ...,\n",
       "          3.15521407e-04,   1.68966446e-02,   7.93410800e-05],\n",
       "       [  4.55919762e-05,   3.30826602e-08,   8.51024288e-06, ...,\n",
       "          1.94750792e-05,   6.67592231e-03,   4.45627738e-05]], dtype=float32)"
      ]
     },
     "execution_count": 557,
     "metadata": {},
     "output_type": "execute_result"
    }
   ],
   "source": [
    "predict_topic(X)"
   ]
  },
  {
   "cell_type": "code",
   "execution_count": 549,
   "metadata": {
    "collapsed": false
   },
   "outputs": [
    {
     "name": "stdout",
     "output_type": "stream",
     "text": [
      "Train score at 0 0.002233854727819562\n",
      "Test score at 0 0.0022714207880198956\n",
      "Train score at 1 0.0021669859997928143\n",
      "Test score at 1 0.002215204993262887\n",
      "Train score at 2 0.0021167038939893246\n",
      "Test score at 2 0.002172712469473481\n",
      "Train score at 3 0.0020732900593429804\n",
      "Test score at 3 0.0021353322081267834\n",
      "Train score at 4 0.0020334827713668346\n",
      "Test score at 4 0.002101243007928133\n"
     ]
    },
    {
     "ename": "KeyboardInterrupt",
     "evalue": "",
     "output_type": "error",
     "traceback": [
      "\u001b[0;31m---------------------------------------------------------------------------\u001b[0m",
      "\u001b[0;31mKeyboardInterrupt\u001b[0m                         Traceback (most recent call last)",
      "\u001b[0;32m<ipython-input-549-fb0aa1665bb5>\u001b[0m in \u001b[0;36m<module>\u001b[0;34m()\u001b[0m\n\u001b[1;32m     16\u001b[0m     \u001b[0;32mfor\u001b[0m \u001b[0mX\u001b[0m\u001b[0;34m,\u001b[0m \u001b[0mY\u001b[0m \u001b[0;32min\u001b[0m \u001b[0miterate_minibatches_topics\u001b[0m\u001b[0;34m(\u001b[0m\u001b[0mquestion_postprocessed\u001b[0m\u001b[0;34m,\u001b[0m \u001b[0mquestion_topics\u001b[0m\u001b[0;34m)\u001b[0m\u001b[0;34m:\u001b[0m\u001b[0;34m\u001b[0m\u001b[0m\n\u001b[1;32m     17\u001b[0m         \u001b[0;31m#print(X.shape, Y.shape)\u001b[0m\u001b[0;34m\u001b[0m\u001b[0;34m\u001b[0m\u001b[0m\n\u001b[0;32m---> 18\u001b[0;31m         \u001b[0;34m(\u001b[0m\u001b[0mtrain_topics\u001b[0m\u001b[0;34m(\u001b[0m\u001b[0mX\u001b[0m\u001b[0;34m,\u001b[0m \u001b[0mY\u001b[0m\u001b[0;34m.\u001b[0m\u001b[0mastype\u001b[0m\u001b[0;34m(\u001b[0m\u001b[0;34m'float32'\u001b[0m\u001b[0;34m)\u001b[0m\u001b[0;34m)\u001b[0m\u001b[0;34m)\u001b[0m\u001b[0;34m\u001b[0m\u001b[0m\n\u001b[0m\u001b[1;32m     19\u001b[0m     \u001b[0mprint\u001b[0m\u001b[0;34m(\u001b[0m\u001b[0;34m\"Train score at %s\"\u001b[0m \u001b[0;34m%\u001b[0m \u001b[0mi\u001b[0m\u001b[0;34m,\u001b[0m \u001b[0mcompute_cost_topics\u001b[0m\u001b[0;34m(\u001b[0m\u001b[0mX\u001b[0m\u001b[0;34m,\u001b[0m \u001b[0mY\u001b[0m\u001b[0;34m.\u001b[0m\u001b[0mastype\u001b[0m\u001b[0;34m(\u001b[0m\u001b[0;34m'float32'\u001b[0m\u001b[0;34m)\u001b[0m\u001b[0;34m)\u001b[0m\u001b[0;34m)\u001b[0m\u001b[0;34m\u001b[0m\u001b[0m\n\u001b[1;32m     20\u001b[0m     \u001b[0;32mfor\u001b[0m \u001b[0mX\u001b[0m\u001b[0;34m,\u001b[0m \u001b[0mY\u001b[0m \u001b[0;32min\u001b[0m \u001b[0miterate_minibatches_topics\u001b[0m\u001b[0;34m(\u001b[0m\u001b[0mquestion_postprocessed\u001b[0m\u001b[0;34m,\u001b[0m \u001b[0mquestion_topics\u001b[0m\u001b[0;34m,\u001b[0m \u001b[0mtest\u001b[0m\u001b[0;34m=\u001b[0m\u001b[0;32mTrue\u001b[0m\u001b[0;34m)\u001b[0m\u001b[0;34m:\u001b[0m\u001b[0;34m\u001b[0m\u001b[0m\n",
      "\u001b[0;32m/anaconda3/lib/python3.5/site-packages/theano/compile/function_module.py\u001b[0m in \u001b[0;36m__call__\u001b[0;34m(self, *args, **kwargs)\u001b[0m\n\u001b[1;32m    871\u001b[0m         \u001b[0;32mtry\u001b[0m\u001b[0;34m:\u001b[0m\u001b[0;34m\u001b[0m\u001b[0m\n\u001b[1;32m    872\u001b[0m             \u001b[0moutputs\u001b[0m \u001b[0;34m=\u001b[0m\u001b[0;31m\\\u001b[0m\u001b[0;34m\u001b[0m\u001b[0m\n\u001b[0;32m--> 873\u001b[0;31m                 \u001b[0mself\u001b[0m\u001b[0;34m.\u001b[0m\u001b[0mfn\u001b[0m\u001b[0;34m(\u001b[0m\u001b[0;34m)\u001b[0m \u001b[0;32mif\u001b[0m \u001b[0moutput_subset\u001b[0m \u001b[0;32mis\u001b[0m \u001b[0;32mNone\u001b[0m \u001b[0;32melse\u001b[0m\u001b[0;31m\\\u001b[0m\u001b[0;34m\u001b[0m\u001b[0m\n\u001b[0m\u001b[1;32m    874\u001b[0m                 \u001b[0mself\u001b[0m\u001b[0;34m.\u001b[0m\u001b[0mfn\u001b[0m\u001b[0;34m(\u001b[0m\u001b[0moutput_subset\u001b[0m\u001b[0;34m=\u001b[0m\u001b[0moutput_subset\u001b[0m\u001b[0;34m)\u001b[0m\u001b[0;34m\u001b[0m\u001b[0m\n\u001b[1;32m    875\u001b[0m         \u001b[0;32mexcept\u001b[0m \u001b[0mException\u001b[0m\u001b[0;34m:\u001b[0m\u001b[0;34m\u001b[0m\u001b[0m\n",
      "\u001b[0;32m/anaconda3/lib/python3.5/site-packages/theano/scan_module/scan_op.py\u001b[0m in \u001b[0;36mrval\u001b[0;34m(p, i, o, n, allow_gc)\u001b[0m\n\u001b[1;32m    951\u001b[0m         def rval(p=p, i=node_input_storage, o=node_output_storage, n=node,\n\u001b[1;32m    952\u001b[0m                  allow_gc=allow_gc):\n\u001b[0;32m--> 953\u001b[0;31m             \u001b[0mr\u001b[0m \u001b[0;34m=\u001b[0m \u001b[0mp\u001b[0m\u001b[0;34m(\u001b[0m\u001b[0mn\u001b[0m\u001b[0;34m,\u001b[0m \u001b[0;34m[\u001b[0m\u001b[0mx\u001b[0m\u001b[0;34m[\u001b[0m\u001b[0;36m0\u001b[0m\u001b[0;34m]\u001b[0m \u001b[0;32mfor\u001b[0m \u001b[0mx\u001b[0m \u001b[0;32min\u001b[0m \u001b[0mi\u001b[0m\u001b[0;34m]\u001b[0m\u001b[0;34m,\u001b[0m \u001b[0mo\u001b[0m\u001b[0;34m)\u001b[0m\u001b[0;34m\u001b[0m\u001b[0m\n\u001b[0m\u001b[1;32m    954\u001b[0m             \u001b[0;32mfor\u001b[0m \u001b[0mo\u001b[0m \u001b[0;32min\u001b[0m \u001b[0mnode\u001b[0m\u001b[0;34m.\u001b[0m\u001b[0moutputs\u001b[0m\u001b[0;34m:\u001b[0m\u001b[0;34m\u001b[0m\u001b[0m\n\u001b[1;32m    955\u001b[0m                 \u001b[0mcompute_map\u001b[0m\u001b[0;34m[\u001b[0m\u001b[0mo\u001b[0m\u001b[0;34m]\u001b[0m\u001b[0;34m[\u001b[0m\u001b[0;36m0\u001b[0m\u001b[0;34m]\u001b[0m \u001b[0;34m=\u001b[0m \u001b[0;32mTrue\u001b[0m\u001b[0;34m\u001b[0m\u001b[0m\n",
      "\u001b[0;32m/anaconda3/lib/python3.5/site-packages/theano/scan_module/scan_op.py\u001b[0m in \u001b[0;36mp\u001b[0;34m(node, args, outs)\u001b[0m\n\u001b[1;32m    940\u001b[0m                                                 \u001b[0margs\u001b[0m\u001b[0;34m,\u001b[0m\u001b[0;34m\u001b[0m\u001b[0m\n\u001b[1;32m    941\u001b[0m                                                 \u001b[0mouts\u001b[0m\u001b[0;34m,\u001b[0m\u001b[0;34m\u001b[0m\u001b[0m\n\u001b[0;32m--> 942\u001b[0;31m                                                 self, node)\n\u001b[0m\u001b[1;32m    943\u001b[0m         \u001b[0;32mexcept\u001b[0m \u001b[0;34m(\u001b[0m\u001b[0mImportError\u001b[0m\u001b[0;34m,\u001b[0m \u001b[0mtheano\u001b[0m\u001b[0;34m.\u001b[0m\u001b[0mgof\u001b[0m\u001b[0;34m.\u001b[0m\u001b[0mcmodule\u001b[0m\u001b[0;34m.\u001b[0m\u001b[0mMissingGXX\u001b[0m\u001b[0;34m)\u001b[0m\u001b[0;34m:\u001b[0m\u001b[0;34m\u001b[0m\u001b[0m\n\u001b[1;32m    944\u001b[0m             \u001b[0mp\u001b[0m \u001b[0;34m=\u001b[0m \u001b[0mself\u001b[0m\u001b[0;34m.\u001b[0m\u001b[0mexecute\u001b[0m\u001b[0;34m\u001b[0m\u001b[0m\n",
      "\u001b[0;31mKeyboardInterrupt\u001b[0m: "
     ]
    }
   ],
   "source": [
    "batch_size_topics = 100\n",
    "def iterate_minibatches_topics(input_q, output_topics, test = False):\n",
    "    if test:\n",
    "        fr = int(len(input_q)*0.8)\n",
    "        to = int(len(input_q))\n",
    "    else:\n",
    "        fr = int(0)\n",
    "        to = int(len(input_q)*0.8)\n",
    "        \n",
    "    for i in range(fr,to,batch_size_topics):\n",
    "        arr = []\n",
    "        for a in input_q[i:i+batch_size_topics]:\n",
    "            arr.append(a[0])\n",
    "        yield prepare_batch(arr), output_topics[i:i+batch_size_topics]\n",
    "for i in range(50):       \n",
    "    for X, Y in iterate_minibatches_topics(question_postprocessed, question_topics):\n",
    "        #print(X.shape, Y.shape)\n",
    "        (train_topics(X, Y.astype('float32')))\n",
    "    print(\"Train score at %s\" % i, compute_cost_topics(X, Y.astype('float32')))\n",
    "    for X, Y in iterate_minibatches_topics(question_postprocessed, question_topics, test=True):\n",
    "        print(\"Test score at %s\" % i, compute_cost_topics(X, Y.astype('float32')))\n",
    "        break\n"
   ]
  },
  {
   "cell_type": "code",
   "execution_count": 524,
   "metadata": {
    "collapsed": false
   },
   "outputs": [
    {
     "data": {
      "text/plain": [
       "((100, 24, 512), (100, 8866))"
      ]
     },
     "execution_count": 524,
     "metadata": {},
     "output_type": "execute_result"
    }
   ],
   "source": [
    "X.shape, Y.shape"
   ]
  },
  {
   "cell_type": "code",
   "execution_count": 226,
   "metadata": {
    "collapsed": false
   },
   "outputs": [
    {
     "name": "stdout",
     "output_type": "stream",
     "text": [
      "Elemwise{add,no_inplace}.0\n"
     ]
    }
   ],
   "source": [
    "alpha = 3\n",
    "print(questions_vec)\n",
    "loss = T.nnet.relu(((questions_vec - positive_answers_vec)**2).sum(axis=1) - \n",
    "              ((questions_vec - negative_answers_vec)**2).sum(axis=1) + alpha).mean()\n",
    "#loss = (questions_vec + negative_answers_vec + positive_answers_vec).mean()"
   ]
  },
  {
   "cell_type": "code",
   "execution_count": 227,
   "metadata": {
    "collapsed": false
   },
   "outputs": [],
   "source": [
    "updates = lasagne.updates.adadelta(loss, weights,)"
   ]
  },
  {
   "cell_type": "code",
   "execution_count": 228,
   "metadata": {
    "collapsed": false
   },
   "outputs": [],
   "source": [
    "\n",
    "#обучение\n",
    "train = theano.function([input_questions, input_positive_answers, input_negative_answers], loss, updates=updates)\n",
    "\n",
    "#функция потерь без обучения\n",
    "compute_cost = theano.function([input_questions, input_positive_answers, input_negative_answers], loss)\n"
   ]
  },
  {
   "cell_type": "code",
   "execution_count": 229,
   "metadata": {
    "collapsed": false
   },
   "outputs": [],
   "source": [
    "transform_answer = theano.function([input_positive_answers], positive_answers_vec, allow_input_downcast=True)\n",
    "transform_question = theano.function([input_questions], questions_vec, allow_input_downcast=True)"
   ]
  },
  {
   "cell_type": "code",
   "execution_count": 230,
   "metadata": {
    "collapsed": true
   },
   "outputs": [],
   "source": [
    "import random\n",
    "random.shuffle(question_postprocessed)"
   ]
  },
  {
   "cell_type": "code",
   "execution_count": 235,
   "metadata": {
    "collapsed": false
   },
   "outputs": [],
   "source": [
    "batch_size = 100\n",
    "num_epochs = 500\n",
    "def iterate_minibatches(inputs, test = False):\n",
    "    if not test:\n",
    "        for i in range(0, int(len(inputs)*0.8), batch_size):\n",
    "            yield inputs[i:i+batch_size]\n",
    "    else:\n",
    "        for i in range(int(len(inputs)*0.8), len(inputs), batch_size):\n",
    "            yield inputs[i:i+batch_size]"
   ]
  },
  {
   "cell_type": "code",
   "execution_count": 452,
   "metadata": {
    "collapsed": false
   },
   "outputs": [],
   "source": [
    "def prepare_batch(arr, size=None):\n",
    "    \n",
    "    if size==None:\n",
    "        size = 0\n",
    "        for i in arr:\n",
    "            size = max(size, i.shape[0])\n",
    "    ret = np.zeros((len(arr), size, word2vec_size), dtype='float32')\n",
    "    for i,e in enumerate(arr):\n",
    "        if e.shape[1]!=word2vec_size:\n",
    "             ret[i] = np.zeros((size,word2vec_size))\n",
    "        else:\n",
    "            ret[i] = np.concatenate((np.zeros((size-e.shape[0],word2vec_size)), e), axis=0)\n",
    "    return ret"
   ]
  },
  {
   "cell_type": "code",
   "execution_count": 233,
   "metadata": {
    "collapsed": true
   },
   "outputs": [],
   "source": [
    "def get_batch_inputs(batch):\n",
    "    max_len_pos = 0\n",
    "    current_questions = []\n",
    "    positive = []\n",
    "    negative = []\n",
    "    questions_size = 0\n",
    "    positive_size = 0\n",
    "    negative_size = 0\n",
    "    for question in batch:\n",
    "        e = answers_postprocessed[random.choice(question[1])]\n",
    "        current_questions.append(question[0])\n",
    "        questions_size = max(questions_size, question[0].shape[0])\n",
    "        positive.append(e)\n",
    "        positive_size = max(positive_size, e.shape[0])\n",
    "        e = random.randint(0, len(answers_postprocessed)-1)\n",
    "        while e in question[1]:\n",
    "            e = random.randint(0, len(answers_postprocessed))\n",
    "        e  = answers_postprocessed[e]\n",
    "        negative.append(e)\n",
    "        negative_size = max(negative_size, e.shape[0])\n",
    "\n",
    "\n",
    "    current_questions = a(current_questions, questions_size)\n",
    "    positive = prepare_batch(positive, positive_size)\n",
    "    negative = prepare_batch(negative, negative_size)\n",
    "    return current_questions, positive, negative"
   ]
  },
  {
   "cell_type": "code",
   "execution_count": null,
   "metadata": {
    "collapsed": false,
    "scrolled": true
   },
   "outputs": [
    {
     "name": "stdout",
     "output_type": "stream",
     "text": [
      "2.880577802658081\n",
      "0.7332930564880371\n"
     ]
    },
    {
     "ename": "KeyboardInterrupt",
     "evalue": "",
     "output_type": "error",
     "traceback": [
      "\u001b[0;31m---------------------------------------------------------------------------\u001b[0m",
      "\u001b[0;31mKeyboardInterrupt\u001b[0m                         Traceback (most recent call last)",
      "\u001b[0;32m<ipython-input-237-08d4d21eca58>\u001b[0m in \u001b[0;36m<module>\u001b[0;34m()\u001b[0m\n\u001b[1;32m      1\u001b[0m \u001b[0;32mfor\u001b[0m \u001b[0mi\u001b[0m \u001b[0;32min\u001b[0m \u001b[0mrange\u001b[0m\u001b[0;34m(\u001b[0m\u001b[0mnum_epochs\u001b[0m\u001b[0;34m)\u001b[0m\u001b[0;34m:\u001b[0m\u001b[0;34m\u001b[0m\u001b[0m\n\u001b[1;32m      2\u001b[0m     \u001b[0;32mfor\u001b[0m \u001b[0mbatch\u001b[0m \u001b[0;32min\u001b[0m \u001b[0miterate_minibatches\u001b[0m\u001b[0;34m(\u001b[0m\u001b[0mquestion_postprocessed\u001b[0m\u001b[0;34m)\u001b[0m\u001b[0;34m:\u001b[0m\u001b[0;34m\u001b[0m\u001b[0m\n\u001b[0;32m----> 3\u001b[0;31m         \u001b[0mcurrent_questions\u001b[0m\u001b[0;34m,\u001b[0m \u001b[0mpositive\u001b[0m\u001b[0;34m,\u001b[0m \u001b[0mnegative\u001b[0m \u001b[0;34m=\u001b[0m \u001b[0mget_batch_inputs\u001b[0m\u001b[0;34m(\u001b[0m\u001b[0mbatch\u001b[0m\u001b[0;34m)\u001b[0m\u001b[0;34m\u001b[0m\u001b[0m\n\u001b[0m\u001b[1;32m      4\u001b[0m \u001b[0;34m\u001b[0m\u001b[0m\n\u001b[1;32m      5\u001b[0m         \u001b[0;32mif\u001b[0m \u001b[0mrandom\u001b[0m\u001b[0;34m.\u001b[0m\u001b[0mrandom\u001b[0m\u001b[0;34m(\u001b[0m\u001b[0;34m)\u001b[0m\u001b[0;34m<\u001b[0m\u001b[0;36m0.01\u001b[0m\u001b[0;34m:\u001b[0m\u001b[0;34m\u001b[0m\u001b[0m\n",
      "\u001b[0;32m<ipython-input-233-b47a56bbfc8d>\u001b[0m in \u001b[0;36mget_batch_inputs\u001b[0;34m(batch)\u001b[0m\n\u001b[1;32m     23\u001b[0m     \u001b[0mcurrent_questions\u001b[0m \u001b[0;34m=\u001b[0m \u001b[0mprepare_batch\u001b[0m\u001b[0;34m(\u001b[0m\u001b[0mcurrent_questions\u001b[0m\u001b[0;34m,\u001b[0m \u001b[0mquestions_size\u001b[0m\u001b[0;34m)\u001b[0m\u001b[0;34m\u001b[0m\u001b[0m\n\u001b[1;32m     24\u001b[0m     \u001b[0mpositive\u001b[0m \u001b[0;34m=\u001b[0m \u001b[0mprepare_batch\u001b[0m\u001b[0;34m(\u001b[0m\u001b[0mpositive\u001b[0m\u001b[0;34m,\u001b[0m \u001b[0mpositive_size\u001b[0m\u001b[0;34m)\u001b[0m\u001b[0;34m\u001b[0m\u001b[0m\n\u001b[0;32m---> 25\u001b[0;31m     \u001b[0mnegative\u001b[0m \u001b[0;34m=\u001b[0m \u001b[0mprepare_batch\u001b[0m\u001b[0;34m(\u001b[0m\u001b[0mnegative\u001b[0m\u001b[0;34m,\u001b[0m \u001b[0mnegative_size\u001b[0m\u001b[0;34m)\u001b[0m\u001b[0;34m\u001b[0m\u001b[0m\n\u001b[0m\u001b[1;32m     26\u001b[0m     \u001b[0;32mreturn\u001b[0m \u001b[0mcurrent_questions\u001b[0m\u001b[0;34m,\u001b[0m \u001b[0mpositive\u001b[0m\u001b[0;34m,\u001b[0m \u001b[0mnegative\u001b[0m\u001b[0;34m\u001b[0m\u001b[0m\n",
      "\u001b[0;32m<ipython-input-232-9db13bb42595>\u001b[0m in \u001b[0;36mprepare_batch\u001b[0;34m(arr, size)\u001b[0m\n\u001b[1;32m      5\u001b[0m              \u001b[0mret\u001b[0m\u001b[0;34m[\u001b[0m\u001b[0mi\u001b[0m\u001b[0;34m]\u001b[0m \u001b[0;34m=\u001b[0m \u001b[0mnp\u001b[0m\u001b[0;34m.\u001b[0m\u001b[0mzeros\u001b[0m\u001b[0;34m(\u001b[0m\u001b[0;34m(\u001b[0m\u001b[0msize\u001b[0m\u001b[0;34m,\u001b[0m\u001b[0mword2vec_size\u001b[0m\u001b[0;34m)\u001b[0m\u001b[0;34m)\u001b[0m\u001b[0;34m\u001b[0m\u001b[0m\n\u001b[1;32m      6\u001b[0m         \u001b[0;32melse\u001b[0m\u001b[0;34m:\u001b[0m\u001b[0;34m\u001b[0m\u001b[0m\n\u001b[0;32m----> 7\u001b[0;31m             \u001b[0mret\u001b[0m\u001b[0;34m[\u001b[0m\u001b[0mi\u001b[0m\u001b[0;34m]\u001b[0m \u001b[0;34m=\u001b[0m \u001b[0mnp\u001b[0m\u001b[0;34m.\u001b[0m\u001b[0mconcatenate\u001b[0m\u001b[0;34m(\u001b[0m\u001b[0;34m(\u001b[0m\u001b[0mnp\u001b[0m\u001b[0;34m.\u001b[0m\u001b[0mzeros\u001b[0m\u001b[0;34m(\u001b[0m\u001b[0;34m(\u001b[0m\u001b[0msize\u001b[0m\u001b[0;34m-\u001b[0m\u001b[0me\u001b[0m\u001b[0;34m.\u001b[0m\u001b[0mshape\u001b[0m\u001b[0;34m[\u001b[0m\u001b[0;36m0\u001b[0m\u001b[0;34m]\u001b[0m\u001b[0;34m,\u001b[0m\u001b[0mword2vec_size\u001b[0m\u001b[0;34m)\u001b[0m\u001b[0;34m)\u001b[0m\u001b[0;34m,\u001b[0m \u001b[0me\u001b[0m\u001b[0;34m)\u001b[0m\u001b[0;34m,\u001b[0m \u001b[0maxis\u001b[0m\u001b[0;34m=\u001b[0m\u001b[0;36m0\u001b[0m\u001b[0;34m)\u001b[0m\u001b[0;34m\u001b[0m\u001b[0m\n\u001b[0m\u001b[1;32m      8\u001b[0m     \u001b[0;32mreturn\u001b[0m \u001b[0mret\u001b[0m\u001b[0;34m\u001b[0m\u001b[0m\n",
      "\u001b[0;31mKeyboardInterrupt\u001b[0m: "
     ]
    }
   ],
   "source": [
    "for i in range(num_epochs):\n",
    "    for batch in iterate_minibatches(question_postprocessed):\n",
    "        current_questions, positive, negative = get_batch_inputs(batch)\n",
    "        \n",
    "        if random.random()<0.01:\n",
    "            print(train(current_questions, positive, negative))\n",
    "        \n",
    "    print(\"Epoch %s. Train:\" % i, compute_cost(current_questions, positive, negative))\n",
    "    for batch in iterate_minibatches(question_postprocessed, True):\n",
    "        current_questions, positive, negative = get_batch_inputs(batch)\n",
    "        break\n",
    "        \n",
    "    print(\"Epoch %s. Test\" % i, compute_cost(current_questions, positive, negative))\n"
   ]
  },
  {
   "cell_type": "code",
   "execution_count": 486,
   "metadata": {
    "collapsed": false
   },
   "outputs": [
    {
     "name": "stdout",
     "output_type": "stream",
     "text": [
      "Epoch 6. Test 0.8835563659667969\n"
     ]
    }
   ],
   "source": [
    "for batch in iterate_minibatches(question_postprocessed, True):\n",
    "    current_questions, positive, negative = get_batch_inputs(batch)\n",
    "    break\n",
    "\n",
    "print(\"Epoch %s. Test\" % i, compute_cost(current_questions, positive, negative))\n"
   ]
  },
  {
   "cell_type": "code",
   "execution_count": 255,
   "metadata": {
    "collapsed": false
   },
   "outputs": [],
   "source": [
    "weight = lasagne.layers.get_all_param_values(question.out)\n",
    "np.save('weights/question.npy', weight)\n",
    "weight = lasagne.layers.get_all_param_values(answer.out)\n",
    "np.save('weights/answer.npy', weight)"
   ]
  },
  {
   "cell_type": "code",
   "execution_count": 254,
   "metadata": {
    "collapsed": true
   },
   "outputs": [],
   "source": [
    "!mkdir weights"
   ]
  },
  {
   "cell_type": "code",
   "execution_count": 256,
   "metadata": {
    "collapsed": true
   },
   "outputs": [],
   "source": [
    "w2v.save('weights/w2v')"
   ]
  },
  {
   "cell_type": "code",
   "execution_count": 318,
   "metadata": {
    "collapsed": false
   },
   "outputs": [
    {
     "data": {
      "text/plain": [
       "1"
      ]
     },
     "execution_count": 318,
     "metadata": {},
     "output_type": "execute_result"
    }
   ],
   "source": [
    "len(answers_vectors)"
   ]
  },
  {
   "cell_type": "code",
   "execution_count": 319,
   "metadata": {
    "collapsed": false
   },
   "outputs": [
    {
     "name": "stderr",
     "output_type": "stream",
     "text": [
      "231704it [16:41, 231.40it/s]\n"
     ]
    }
   ],
   "source": [
    "answers_vectors = []\n",
    "for i, value in tqdm(zip(answers_ids, answers_postprocessed)):\n",
    "    a = value.copy()\n",
    "    a.resize((1,) + value.shape)\n",
    "    answers_vectors.append(transform_answer(a)[0])"
   ]
  },
  {
   "cell_type": "code",
   "execution_count": 571,
   "metadata": {
    "collapsed": false
   },
   "outputs": [],
   "source": [
    "def answer(st, rand=False):\n",
    "    if rand:\n",
    "        rand_id = random.randint(0, len(question_ids))\n",
    "        st = questions[question_ids[rand_id]][0] \n",
    "    \n",
    "    a= fill_sentance_matrix(st).copy()\n",
    "    a.resize((1,) + value.shape)\n",
    "    vector = transform_question(a)[0]\n",
    "    min_id = 0\n",
    "    min_dist = 10**9\n",
    "    min_ans = 0\n",
    "    t = predict_topic(a)[0]\n",
    "    for num in tqdm(range(len(answers_ids))):\n",
    "        i, ans = answers_ids[num], answers_vectors[num] \n",
    "        d = ((ans-vector)**2).sum()\n",
    "        if rand:\n",
    "            d-=answer_topics[num].dot(question_topics[rand_id])\n",
    "        else:\n",
    "            d-=answer_topics[num].dot(t)\n",
    "        if d<min_dist:\n",
    "            min_dist = d\n",
    "            min_ans = ans\n",
    "            min_id = i\n",
    "            #print(d)\n",
    "    #print(vector)\n",
    "    #print(min_ans)\n",
    "    print(min_dist)\n",
    "    #print(min_id)\n",
    "    if rand:\n",
    "        print(st)\n",
    "    \n",
    "    #print(questions[min_id[0]])\n",
    "    print(questions[min_id[0]][2][min_id[1]-1])\n",
    "#answer('', rand=True)"
   ]
  },
  {
   "cell_type": "code",
   "execution_count": 584,
   "metadata": {
    "collapsed": false
   },
   "outputs": [
    {
     "name": "stderr",
     "output_type": "stream",
     "text": [
      "100%|██████████| 231704/231704 [00:02<00:00, 79166.33it/s]"
     ]
    },
    {
     "name": "stdout",
     "output_type": "stream",
     "text": [
      "4.58096885681\n",
      "Считаете ли вы нормальным, что в большинстве общеобразовательных школ пропал дресс-код?\n",
      "['копирайтер, фотограф', 'А что тут ненормального? Заставлять 11 лет носить то, что тебе не нравится, не идет и всячески тебя расстраивает - это нисколько не уравнение богатых и бедных. Если тебе удобно и ты хорошо себя чувствуешь в своем \"свитшоте\" и \"джеггинсах\", простигосподи, то твоя голова не будет весь день занята тем, что с тобой что-то не так, юбка велика, кофта дурацкая и пиджак отстойного цвета. И вполне спокойно можно думать про ЕГЭ, мальчиков и сочинение по русскому.\\xa0И никаких конфликтов из-за одежды ни у кого не возникает. Уже не в совке живем, где кофта, привезенная папой-военным из другой страны, вызывает кучу ахов и сплетен.\\xa0']\n"
     ]
    },
    {
     "name": "stderr",
     "output_type": "stream",
     "text": [
      "\n"
     ]
    }
   ],
   "source": [
    "answer('', rand=True)"
   ]
  },
  {
   "cell_type": "code",
   "execution_count": 588,
   "metadata": {
    "collapsed": false
   },
   "outputs": [
    {
     "name": "stderr",
     "output_type": "stream",
     "text": [
      "100%|██████████| 231704/231704 [00:04<00:00, 49643.63it/s]"
     ]
    },
    {
     "name": "stdout",
     "output_type": "stream",
     "text": [
      "6.29681209542\n",
      "['студентка социологии', 'Мой любимый маршрут.От метро Курская, через Воронцово Поле до Покровки. Дальше вверх по Покровскому бульвару и по Чистопрудному. Выходите на Мясницкую Улицу (если всать спиной к м. Чистые пруды так, чтоб перед тобой была Мясницкая улица, то надо идти налево по ней) - здесь знаменитый очень красивый Чайный Дом и Главпочтамт. Пройдя рпактически всю улицу до Домика Алисы (голубенький домик по левой стороне). в Братьях Караваевых можно прикупить вкусненьких пирожных. Мясницкая улица после реконструкции прошлым летом просто чудесная сейчас. Повернуть на Армянский переулок, дальше по нему пересечь Маросейку и продолжать идти вниз - по Старосадскому. Там можно долго гулять по переулкам), зайти в Морозовский садик (я зову его \"секретный\", он малоизвестный и неприметный). Дойти до Высотки на Котельнической набережной, обойти её не со стороны набережной, а внутри - там красота. Перейти по большому Устьинскому мосту через Москва-реку на Болотный остров, не сворачивая, прямо перейти Водоотводный канал. Идя всё также прямо по Садовническому проезду, оказываешься около м. Новокузнецкая - там красивая улица Пятницкая, там же Третьяковка, куча ресторанчиков, красивые трамвайные пути и зачастую играют музыканты. Если есть силы, то от Новокузнецкой по Пятницкой улице до конца вниз, до пересечения с Садовый кольцом (Крымский Вал). По Крымскому Валу или параллельной ему Житной улице можно дойти до м. Октябрьская - там, как известно, Парк Горького. И если есть уж очень много сил, то можно пройти и Парк Горького, и Нескучный сад, и Воробьёвы Горы - вечером там особенно красиво на набережной. Стоит посмотреть на станцию метро Воробьёвы горы. Ну и если каким-то чудом ещё осталось немного сил - то дойдите до МГУ, до станции метро Университет.\\xa0']\n"
     ]
    },
    {
     "name": "stderr",
     "output_type": "stream",
     "text": [
      "\n"
     ]
    }
   ],
   "source": [
    "answer('Куда съездить в путешествие?')"
   ]
  },
  {
   "cell_type": "code",
   "execution_count": 333,
   "metadata": {
    "collapsed": false
   },
   "outputs": [
    {
     "data": {
      "text/plain": [
       "['Почему у электричек есть нелюбимые станции? Везде останавливается, а на 43 километре, блин, нет!',\n",
       " ['Как это работает?', 'Зачем я это узнал?'],\n",
       " []]"
      ]
     },
     "execution_count": 333,
     "metadata": {},
     "output_type": "execute_result"
    }
   ],
   "source": [
    "random.choice(questions)"
   ]
  },
  {
   "cell_type": "code",
   "execution_count": 311,
   "metadata": {
    "collapsed": false
   },
   "outputs": [
    {
     "ename": "ValueError",
     "evalue": "shape too large to be a matrix.",
     "output_type": "error",
     "traceback": [
      "\u001b[0;31m---------------------------------------------------------------------------\u001b[0m",
      "\u001b[0;31mValueError\u001b[0m                                Traceback (most recent call last)",
      "\u001b[0;32m<ipython-input-311-a255dbfc1136>\u001b[0m in \u001b[0;36m<module>\u001b[0;34m()\u001b[0m\n\u001b[0;32m----> 1\u001b[0;31m \u001b[0mnp\u001b[0m\u001b[0;34m.\u001b[0m\u001b[0mconcatenate\u001b[0m\u001b[0;34m(\u001b[0m\u001b[0;34m(\u001b[0m\u001b[0ma\u001b[0m\u001b[0;34m,\u001b[0m \u001b[0ma\u001b[0m\u001b[0;34m)\u001b[0m\u001b[0;34m,\u001b[0m \u001b[0maxis\u001b[0m \u001b[0;34m=\u001b[0m \u001b[0;36m0\u001b[0m\u001b[0;34m)\u001b[0m\u001b[0;34m.\u001b[0m\u001b[0mshape\u001b[0m\u001b[0;34m\u001b[0m\u001b[0m\n\u001b[0m",
      "\u001b[0;32m/anaconda3/lib/python3.5/site-packages/numpy/matrixlib/defmatrix.py\u001b[0m in \u001b[0;36m__array_finalize__\u001b[0;34m(self, obj)\u001b[0m\n\u001b[1;32m    303\u001b[0m                 \u001b[0;32mreturn\u001b[0m\u001b[0;34m\u001b[0m\u001b[0m\n\u001b[1;32m    304\u001b[0m             \u001b[0;32melif\u001b[0m \u001b[0;34m(\u001b[0m\u001b[0mndim\u001b[0m \u001b[0;34m>\u001b[0m \u001b[0;36m2\u001b[0m\u001b[0;34m)\u001b[0m\u001b[0;34m:\u001b[0m\u001b[0;34m\u001b[0m\u001b[0m\n\u001b[0;32m--> 305\u001b[0;31m                 \u001b[0;32mraise\u001b[0m \u001b[0mValueError\u001b[0m\u001b[0;34m(\u001b[0m\u001b[0;34m\"shape too large to be a matrix.\"\u001b[0m\u001b[0;34m)\u001b[0m\u001b[0;34m\u001b[0m\u001b[0m\n\u001b[0m\u001b[1;32m    306\u001b[0m         \u001b[0;32melse\u001b[0m\u001b[0;34m:\u001b[0m\u001b[0;34m\u001b[0m\u001b[0m\n\u001b[1;32m    307\u001b[0m             \u001b[0mnewshape\u001b[0m \u001b[0;34m=\u001b[0m \u001b[0mself\u001b[0m\u001b[0;34m.\u001b[0m\u001b[0mshape\u001b[0m\u001b[0;34m\u001b[0m\u001b[0m\n",
      "\u001b[0;31mValueError\u001b[0m: shape too large to be a matrix."
     ]
    }
   ],
   "source": [
    "np.concatenate((a, a), axis = 0).shape"
   ]
  },
  {
   "cell_type": "code",
   "execution_count": 320,
   "metadata": {
    "collapsed": false
   },
   "outputs": [
    {
     "data": {
      "text/plain": [
       "matrix([[ 0.06272896,  0.24435805, -0.04783468, ..., -0.05889111,\n",
       "          0.16657655, -0.24520613],\n",
       "        [ 0.08878329,  0.79924482, -0.33646864, ...,  0.16268285,\n",
       "          0.30213052, -0.79116642]], dtype=float32)"
      ]
     },
     "execution_count": 320,
     "metadata": {},
     "output_type": "execute_result"
    }
   ],
   "source": []
  },
  {
   "cell_type": "code",
   "execution_count": 279,
   "metadata": {
    "collapsed": false
   },
   "outputs": [],
   "source": [
    "tmp = value.copy()"
   ]
  },
  {
   "cell_type": "code",
   "execution_count": 288,
   "metadata": {
    "collapsed": false
   },
   "outputs": [
    {
     "data": {
      "text/plain": [
       "(100, 743, 512)"
      ]
     },
     "execution_count": 288,
     "metadata": {},
     "output_type": "execute_result"
    }
   ],
   "source": [
    "positive.shape"
   ]
  },
  {
   "cell_type": "code",
   "execution_count": 307,
   "metadata": {
    "collapsed": false
   },
   "outputs": [],
   "source": [
    "value.resize(( 111, 512))"
   ]
  },
  {
   "cell_type": "code",
   "execution_count": null,
   "metadata": {
    "collapsed": true
   },
   "outputs": [],
   "source": []
  }
 ],
 "metadata": {
  "anaconda-cloud": {},
  "kernelspec": {
   "display_name": "Python [conda root]",
   "language": "python",
   "name": "conda-root-py"
  },
  "language_info": {
   "codemirror_mode": {
    "name": "ipython",
    "version": 3
   },
   "file_extension": ".py",
   "mimetype": "text/x-python",
   "name": "python",
   "nbconvert_exporter": "python",
   "pygments_lexer": "ipython3",
   "version": "3.5.2"
  }
 },
 "nbformat": 4,
 "nbformat_minor": 1
}
